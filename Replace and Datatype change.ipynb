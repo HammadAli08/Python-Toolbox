{
 "cells": [
  {
   "metadata": {},
   "cell_type": "markdown",
   "source": [
    "Used to Replace data when some OBJECT datatype values are in Integer data type COLUMN\n",
    "And than the datatype also have to be changes to the certain need"
   ],
   "id": "640729c9f97a88f1"
  },
  {
   "cell_type": "code",
   "id": "initial_id",
   "metadata": {
    "collapsed": true,
    "ExecuteTime": {
     "end_time": "2025-06-30T06:52:02.303207Z",
     "start_time": "2025-06-30T06:52:02.297194Z"
    }
   },
   "source": [
    "import pandas as pd\n",
    "import numpy as np"
   ],
   "outputs": [],
   "execution_count": 3
  },
  {
   "metadata": {
    "ExecuteTime": {
     "end_time": "2025-06-30T06:52:03.233420Z",
     "start_time": "2025-06-30T06:52:03.201202Z"
    }
   },
   "cell_type": "code",
   "source": [
    "data=pd.read_csv(\"Students.csv\")\n",
    "data.head(3)"
   ],
   "id": "2f96acc874b73427",
   "outputs": [
    {
     "data": {
      "text/plain": [
       "           Name  Age  CGPA (out of 4.00)  Daily Study Hours  \\\n",
       "0    Zain Tariq   24                2.61                1.3   \n",
       "1  Fatima Nawaz   21                3.07                2.4   \n",
       "2  Ahmed Sheikh   22                2.65                5.9   \n",
       "\n",
       "  Sports Involvement  IQ Score  \n",
       "0                Yes       112  \n",
       "1                 No       126  \n",
       "2                 No        97  "
      ],
      "text/html": [
       "<div>\n",
       "<style scoped>\n",
       "    .dataframe tbody tr th:only-of-type {\n",
       "        vertical-align: middle;\n",
       "    }\n",
       "\n",
       "    .dataframe tbody tr th {\n",
       "        vertical-align: top;\n",
       "    }\n",
       "\n",
       "    .dataframe thead th {\n",
       "        text-align: right;\n",
       "    }\n",
       "</style>\n",
       "<table border=\"1\" class=\"dataframe\">\n",
       "  <thead>\n",
       "    <tr style=\"text-align: right;\">\n",
       "      <th></th>\n",
       "      <th>Name</th>\n",
       "      <th>Age</th>\n",
       "      <th>CGPA (out of 4.00)</th>\n",
       "      <th>Daily Study Hours</th>\n",
       "      <th>Sports Involvement</th>\n",
       "      <th>IQ Score</th>\n",
       "    </tr>\n",
       "  </thead>\n",
       "  <tbody>\n",
       "    <tr>\n",
       "      <th>0</th>\n",
       "      <td>Zain Tariq</td>\n",
       "      <td>24</td>\n",
       "      <td>2.61</td>\n",
       "      <td>1.3</td>\n",
       "      <td>Yes</td>\n",
       "      <td>112</td>\n",
       "    </tr>\n",
       "    <tr>\n",
       "      <th>1</th>\n",
       "      <td>Fatima Nawaz</td>\n",
       "      <td>21</td>\n",
       "      <td>3.07</td>\n",
       "      <td>2.4</td>\n",
       "      <td>No</td>\n",
       "      <td>126</td>\n",
       "    </tr>\n",
       "    <tr>\n",
       "      <th>2</th>\n",
       "      <td>Ahmed Sheikh</td>\n",
       "      <td>22</td>\n",
       "      <td>2.65</td>\n",
       "      <td>5.9</td>\n",
       "      <td>No</td>\n",
       "      <td>97</td>\n",
       "    </tr>\n",
       "  </tbody>\n",
       "</table>\n",
       "</div>"
      ]
     },
     "execution_count": 4,
     "metadata": {},
     "output_type": "execute_result"
    }
   ],
   "execution_count": 4
  },
  {
   "metadata": {
    "ExecuteTime": {
     "end_time": "2025-06-30T06:52:04.438165Z",
     "start_time": "2025-06-30T06:52:04.411219Z"
    }
   },
   "cell_type": "code",
   "source": "data.info()",
   "id": "b92a56a59c478a7d",
   "outputs": [
    {
     "name": "stdout",
     "output_type": "stream",
     "text": [
      "<class 'pandas.core.frame.DataFrame'>\n",
      "RangeIndex: 500 entries, 0 to 499\n",
      "Data columns (total 6 columns):\n",
      " #   Column              Non-Null Count  Dtype  \n",
      "---  ------              --------------  -----  \n",
      " 0   Name                500 non-null    object \n",
      " 1   Age                 500 non-null    int64  \n",
      " 2   CGPA (out of 4.00)  500 non-null    float64\n",
      " 3   Daily Study Hours   500 non-null    float64\n",
      " 4   Sports Involvement  500 non-null    object \n",
      " 5   IQ Score            500 non-null    int64  \n",
      "dtypes: float64(2), int64(2), object(2)\n",
      "memory usage: 23.6+ KB\n"
     ]
    }
   ],
   "execution_count": 5
  },
  {
   "metadata": {
    "ExecuteTime": {
     "end_time": "2025-06-30T06:52:05.454092Z",
     "start_time": "2025-06-30T06:52:05.446746Z"
    }
   },
   "cell_type": "code",
   "source": "data['Age'].value_counts()",
   "id": "f9269738cbcaa452",
   "outputs": [
    {
     "data": {
      "text/plain": [
       "Age\n",
       "21    82\n",
       "18    81\n",
       "23    73\n",
       "24    72\n",
       "20    71\n",
       "19    64\n",
       "22    57\n",
       "Name: count, dtype: int64"
      ]
     },
     "execution_count": 6,
     "metadata": {},
     "output_type": "execute_result"
    }
   ],
   "execution_count": 6
  },
  {
   "metadata": {
    "ExecuteTime": {
     "end_time": "2025-06-30T06:52:06.367296Z",
     "start_time": "2025-06-30T06:52:06.361464Z"
    }
   },
   "cell_type": "code",
   "source": [
    "data.loc[(data['Sports Involvement'] == 'Yes'),\"Sports Involvement Yess\"] = \"1\"\n",
    "data.loc[(data['Sports Involvement'] != 'Yes'),\"Sports Involvement Yess\"] = \"0\""
   ],
   "id": "dc93ad03901547a5",
   "outputs": [],
   "execution_count": 7
  },
  {
   "metadata": {
    "ExecuteTime": {
     "end_time": "2025-06-30T06:52:11.045214Z",
     "start_time": "2025-06-30T06:52:11.035426Z"
    }
   },
   "cell_type": "code",
   "source": "data['Sports Involvement Yes']=(data['Sports Involvement']=='Yes')",
   "id": "fef2db9a28638d03",
   "outputs": [],
   "execution_count": 8
  },
  {
   "metadata": {
    "ExecuteTime": {
     "end_time": "2025-06-30T06:52:12.061486Z",
     "start_time": "2025-06-30T06:52:12.046811Z"
    }
   },
   "cell_type": "code",
   "source": "data",
   "id": "f50a53bf033d7a64",
   "outputs": [
    {
     "data": {
      "text/plain": [
       "              Name  Age  CGPA (out of 4.00)  Daily Study Hours  \\\n",
       "0       Zain Tariq   24                2.61                1.3   \n",
       "1     Fatima Nawaz   21                3.07                2.4   \n",
       "2     Ahmed Sheikh   22                2.65                5.9   \n",
       "3     Zain Qureshi   24                3.66                4.9   \n",
       "4    Fatima Sheikh   20                2.54                1.3   \n",
       "..             ...  ...                 ...                ...   \n",
       "495    Hamza Nawaz   23                2.85                1.1   \n",
       "496    Usman Malik   18                2.58                6.7   \n",
       "497    Fatima Rana   21                3.23                3.2   \n",
       "498      Ali Javed   19                3.82                2.9   \n",
       "499  Usman Qureshi   23                2.28                7.8   \n",
       "\n",
       "    Sports Involvement  IQ Score Sports Involvement Yess  \\\n",
       "0                  Yes       112                       1   \n",
       "1                   No       126                       0   \n",
       "2                   No        97                       0   \n",
       "3                  Yes       102                       1   \n",
       "4                   No        97                       0   \n",
       "..                 ...       ...                     ...   \n",
       "495                 No        97                       0   \n",
       "496                Yes       126                       1   \n",
       "497                 No       121                       0   \n",
       "498                Yes       137                       1   \n",
       "499                 No       132                       0   \n",
       "\n",
       "     Sports Involvement Yes  \n",
       "0                      True  \n",
       "1                     False  \n",
       "2                     False  \n",
       "3                      True  \n",
       "4                     False  \n",
       "..                      ...  \n",
       "495                   False  \n",
       "496                    True  \n",
       "497                   False  \n",
       "498                    True  \n",
       "499                   False  \n",
       "\n",
       "[500 rows x 8 columns]"
      ],
      "text/html": [
       "<div>\n",
       "<style scoped>\n",
       "    .dataframe tbody tr th:only-of-type {\n",
       "        vertical-align: middle;\n",
       "    }\n",
       "\n",
       "    .dataframe tbody tr th {\n",
       "        vertical-align: top;\n",
       "    }\n",
       "\n",
       "    .dataframe thead th {\n",
       "        text-align: right;\n",
       "    }\n",
       "</style>\n",
       "<table border=\"1\" class=\"dataframe\">\n",
       "  <thead>\n",
       "    <tr style=\"text-align: right;\">\n",
       "      <th></th>\n",
       "      <th>Name</th>\n",
       "      <th>Age</th>\n",
       "      <th>CGPA (out of 4.00)</th>\n",
       "      <th>Daily Study Hours</th>\n",
       "      <th>Sports Involvement</th>\n",
       "      <th>IQ Score</th>\n",
       "      <th>Sports Involvement Yess</th>\n",
       "      <th>Sports Involvement Yes</th>\n",
       "    </tr>\n",
       "  </thead>\n",
       "  <tbody>\n",
       "    <tr>\n",
       "      <th>0</th>\n",
       "      <td>Zain Tariq</td>\n",
       "      <td>24</td>\n",
       "      <td>2.61</td>\n",
       "      <td>1.3</td>\n",
       "      <td>Yes</td>\n",
       "      <td>112</td>\n",
       "      <td>1</td>\n",
       "      <td>True</td>\n",
       "    </tr>\n",
       "    <tr>\n",
       "      <th>1</th>\n",
       "      <td>Fatima Nawaz</td>\n",
       "      <td>21</td>\n",
       "      <td>3.07</td>\n",
       "      <td>2.4</td>\n",
       "      <td>No</td>\n",
       "      <td>126</td>\n",
       "      <td>0</td>\n",
       "      <td>False</td>\n",
       "    </tr>\n",
       "    <tr>\n",
       "      <th>2</th>\n",
       "      <td>Ahmed Sheikh</td>\n",
       "      <td>22</td>\n",
       "      <td>2.65</td>\n",
       "      <td>5.9</td>\n",
       "      <td>No</td>\n",
       "      <td>97</td>\n",
       "      <td>0</td>\n",
       "      <td>False</td>\n",
       "    </tr>\n",
       "    <tr>\n",
       "      <th>3</th>\n",
       "      <td>Zain Qureshi</td>\n",
       "      <td>24</td>\n",
       "      <td>3.66</td>\n",
       "      <td>4.9</td>\n",
       "      <td>Yes</td>\n",
       "      <td>102</td>\n",
       "      <td>1</td>\n",
       "      <td>True</td>\n",
       "    </tr>\n",
       "    <tr>\n",
       "      <th>4</th>\n",
       "      <td>Fatima Sheikh</td>\n",
       "      <td>20</td>\n",
       "      <td>2.54</td>\n",
       "      <td>1.3</td>\n",
       "      <td>No</td>\n",
       "      <td>97</td>\n",
       "      <td>0</td>\n",
       "      <td>False</td>\n",
       "    </tr>\n",
       "    <tr>\n",
       "      <th>...</th>\n",
       "      <td>...</td>\n",
       "      <td>...</td>\n",
       "      <td>...</td>\n",
       "      <td>...</td>\n",
       "      <td>...</td>\n",
       "      <td>...</td>\n",
       "      <td>...</td>\n",
       "      <td>...</td>\n",
       "    </tr>\n",
       "    <tr>\n",
       "      <th>495</th>\n",
       "      <td>Hamza Nawaz</td>\n",
       "      <td>23</td>\n",
       "      <td>2.85</td>\n",
       "      <td>1.1</td>\n",
       "      <td>No</td>\n",
       "      <td>97</td>\n",
       "      <td>0</td>\n",
       "      <td>False</td>\n",
       "    </tr>\n",
       "    <tr>\n",
       "      <th>496</th>\n",
       "      <td>Usman Malik</td>\n",
       "      <td>18</td>\n",
       "      <td>2.58</td>\n",
       "      <td>6.7</td>\n",
       "      <td>Yes</td>\n",
       "      <td>126</td>\n",
       "      <td>1</td>\n",
       "      <td>True</td>\n",
       "    </tr>\n",
       "    <tr>\n",
       "      <th>497</th>\n",
       "      <td>Fatima Rana</td>\n",
       "      <td>21</td>\n",
       "      <td>3.23</td>\n",
       "      <td>3.2</td>\n",
       "      <td>No</td>\n",
       "      <td>121</td>\n",
       "      <td>0</td>\n",
       "      <td>False</td>\n",
       "    </tr>\n",
       "    <tr>\n",
       "      <th>498</th>\n",
       "      <td>Ali Javed</td>\n",
       "      <td>19</td>\n",
       "      <td>3.82</td>\n",
       "      <td>2.9</td>\n",
       "      <td>Yes</td>\n",
       "      <td>137</td>\n",
       "      <td>1</td>\n",
       "      <td>True</td>\n",
       "    </tr>\n",
       "    <tr>\n",
       "      <th>499</th>\n",
       "      <td>Usman Qureshi</td>\n",
       "      <td>23</td>\n",
       "      <td>2.28</td>\n",
       "      <td>7.8</td>\n",
       "      <td>No</td>\n",
       "      <td>132</td>\n",
       "      <td>0</td>\n",
       "      <td>False</td>\n",
       "    </tr>\n",
       "  </tbody>\n",
       "</table>\n",
       "<p>500 rows × 8 columns</p>\n",
       "</div>"
      ]
     },
     "execution_count": 9,
     "metadata": {},
     "output_type": "execute_result"
    }
   ],
   "execution_count": 9
  },
  {
   "metadata": {
    "ExecuteTime": {
     "end_time": "2025-06-30T06:52:13.704543Z",
     "start_time": "2025-06-30T06:52:13.696251Z"
    }
   },
   "cell_type": "code",
   "source": "data.info()",
   "id": "1c882d30666b98e1",
   "outputs": [
    {
     "name": "stdout",
     "output_type": "stream",
     "text": [
      "<class 'pandas.core.frame.DataFrame'>\n",
      "RangeIndex: 500 entries, 0 to 499\n",
      "Data columns (total 8 columns):\n",
      " #   Column                   Non-Null Count  Dtype  \n",
      "---  ------                   --------------  -----  \n",
      " 0   Name                     500 non-null    object \n",
      " 1   Age                      500 non-null    int64  \n",
      " 2   CGPA (out of 4.00)       500 non-null    float64\n",
      " 3   Daily Study Hours        500 non-null    float64\n",
      " 4   Sports Involvement       500 non-null    object \n",
      " 5   IQ Score                 500 non-null    int64  \n",
      " 6   Sports Involvement Yess  500 non-null    object \n",
      " 7   Sports Involvement Yes   500 non-null    bool   \n",
      "dtypes: bool(1), float64(2), int64(2), object(3)\n",
      "memory usage: 28.0+ KB\n"
     ]
    }
   ],
   "execution_count": 10
  },
  {
   "metadata": {
    "ExecuteTime": {
     "end_time": "2025-06-30T06:52:14.486571Z",
     "start_time": "2025-06-30T06:52:14.479980Z"
    }
   },
   "cell_type": "code",
   "source": "data.replace({'Sports Involvement Yes': 1}, inplace=True)",
   "id": "556eb8d29dbe4078",
   "outputs": [],
   "execution_count": 11
  },
  {
   "metadata": {
    "ExecuteTime": {
     "end_time": "2025-06-30T06:52:15.123125Z",
     "start_time": "2025-06-30T06:52:15.114667Z"
    }
   },
   "cell_type": "code",
   "source": "data['Sports Involvement Yes'].astype('int64')",
   "id": "cf8a7d3f7404f13",
   "outputs": [
    {
     "data": {
      "text/plain": [
       "0      1\n",
       "1      0\n",
       "2      0\n",
       "3      1\n",
       "4      0\n",
       "      ..\n",
       "495    0\n",
       "496    1\n",
       "497    0\n",
       "498    1\n",
       "499    0\n",
       "Name: Sports Involvement Yes, Length: 500, dtype: int64"
      ]
     },
     "execution_count": 12,
     "metadata": {},
     "output_type": "execute_result"
    }
   ],
   "execution_count": 12
  },
  {
   "metadata": {
    "ExecuteTime": {
     "end_time": "2025-06-30T06:52:15.916679Z",
     "start_time": "2025-06-30T06:52:15.912686Z"
    }
   },
   "cell_type": "code",
   "source": "data['Sports Involvement Yes']=data['Sports Involvement Yes'].astype('int64')",
   "id": "96f783181a30d41e",
   "outputs": [],
   "execution_count": 13
  },
  {
   "metadata": {
    "ExecuteTime": {
     "end_time": "2025-06-30T06:52:16.841975Z",
     "start_time": "2025-06-30T06:52:16.823188Z"
    }
   },
   "cell_type": "code",
   "source": "data",
   "id": "84024fca7363fc75",
   "outputs": [
    {
     "data": {
      "text/plain": [
       "              Name  Age  CGPA (out of 4.00)  Daily Study Hours  \\\n",
       "0       Zain Tariq   24                2.61                1.3   \n",
       "1     Fatima Nawaz   21                3.07                2.4   \n",
       "2     Ahmed Sheikh   22                2.65                5.9   \n",
       "3     Zain Qureshi   24                3.66                4.9   \n",
       "4    Fatima Sheikh   20                2.54                1.3   \n",
       "..             ...  ...                 ...                ...   \n",
       "495    Hamza Nawaz   23                2.85                1.1   \n",
       "496    Usman Malik   18                2.58                6.7   \n",
       "497    Fatima Rana   21                3.23                3.2   \n",
       "498      Ali Javed   19                3.82                2.9   \n",
       "499  Usman Qureshi   23                2.28                7.8   \n",
       "\n",
       "    Sports Involvement  IQ Score Sports Involvement Yess  \\\n",
       "0                  Yes       112                       1   \n",
       "1                   No       126                       0   \n",
       "2                   No        97                       0   \n",
       "3                  Yes       102                       1   \n",
       "4                   No        97                       0   \n",
       "..                 ...       ...                     ...   \n",
       "495                 No        97                       0   \n",
       "496                Yes       126                       1   \n",
       "497                 No       121                       0   \n",
       "498                Yes       137                       1   \n",
       "499                 No       132                       0   \n",
       "\n",
       "     Sports Involvement Yes  \n",
       "0                         1  \n",
       "1                         0  \n",
       "2                         0  \n",
       "3                         1  \n",
       "4                         0  \n",
       "..                      ...  \n",
       "495                       0  \n",
       "496                       1  \n",
       "497                       0  \n",
       "498                       1  \n",
       "499                       0  \n",
       "\n",
       "[500 rows x 8 columns]"
      ],
      "text/html": [
       "<div>\n",
       "<style scoped>\n",
       "    .dataframe tbody tr th:only-of-type {\n",
       "        vertical-align: middle;\n",
       "    }\n",
       "\n",
       "    .dataframe tbody tr th {\n",
       "        vertical-align: top;\n",
       "    }\n",
       "\n",
       "    .dataframe thead th {\n",
       "        text-align: right;\n",
       "    }\n",
       "</style>\n",
       "<table border=\"1\" class=\"dataframe\">\n",
       "  <thead>\n",
       "    <tr style=\"text-align: right;\">\n",
       "      <th></th>\n",
       "      <th>Name</th>\n",
       "      <th>Age</th>\n",
       "      <th>CGPA (out of 4.00)</th>\n",
       "      <th>Daily Study Hours</th>\n",
       "      <th>Sports Involvement</th>\n",
       "      <th>IQ Score</th>\n",
       "      <th>Sports Involvement Yess</th>\n",
       "      <th>Sports Involvement Yes</th>\n",
       "    </tr>\n",
       "  </thead>\n",
       "  <tbody>\n",
       "    <tr>\n",
       "      <th>0</th>\n",
       "      <td>Zain Tariq</td>\n",
       "      <td>24</td>\n",
       "      <td>2.61</td>\n",
       "      <td>1.3</td>\n",
       "      <td>Yes</td>\n",
       "      <td>112</td>\n",
       "      <td>1</td>\n",
       "      <td>1</td>\n",
       "    </tr>\n",
       "    <tr>\n",
       "      <th>1</th>\n",
       "      <td>Fatima Nawaz</td>\n",
       "      <td>21</td>\n",
       "      <td>3.07</td>\n",
       "      <td>2.4</td>\n",
       "      <td>No</td>\n",
       "      <td>126</td>\n",
       "      <td>0</td>\n",
       "      <td>0</td>\n",
       "    </tr>\n",
       "    <tr>\n",
       "      <th>2</th>\n",
       "      <td>Ahmed Sheikh</td>\n",
       "      <td>22</td>\n",
       "      <td>2.65</td>\n",
       "      <td>5.9</td>\n",
       "      <td>No</td>\n",
       "      <td>97</td>\n",
       "      <td>0</td>\n",
       "      <td>0</td>\n",
       "    </tr>\n",
       "    <tr>\n",
       "      <th>3</th>\n",
       "      <td>Zain Qureshi</td>\n",
       "      <td>24</td>\n",
       "      <td>3.66</td>\n",
       "      <td>4.9</td>\n",
       "      <td>Yes</td>\n",
       "      <td>102</td>\n",
       "      <td>1</td>\n",
       "      <td>1</td>\n",
       "    </tr>\n",
       "    <tr>\n",
       "      <th>4</th>\n",
       "      <td>Fatima Sheikh</td>\n",
       "      <td>20</td>\n",
       "      <td>2.54</td>\n",
       "      <td>1.3</td>\n",
       "      <td>No</td>\n",
       "      <td>97</td>\n",
       "      <td>0</td>\n",
       "      <td>0</td>\n",
       "    </tr>\n",
       "    <tr>\n",
       "      <th>...</th>\n",
       "      <td>...</td>\n",
       "      <td>...</td>\n",
       "      <td>...</td>\n",
       "      <td>...</td>\n",
       "      <td>...</td>\n",
       "      <td>...</td>\n",
       "      <td>...</td>\n",
       "      <td>...</td>\n",
       "    </tr>\n",
       "    <tr>\n",
       "      <th>495</th>\n",
       "      <td>Hamza Nawaz</td>\n",
       "      <td>23</td>\n",
       "      <td>2.85</td>\n",
       "      <td>1.1</td>\n",
       "      <td>No</td>\n",
       "      <td>97</td>\n",
       "      <td>0</td>\n",
       "      <td>0</td>\n",
       "    </tr>\n",
       "    <tr>\n",
       "      <th>496</th>\n",
       "      <td>Usman Malik</td>\n",
       "      <td>18</td>\n",
       "      <td>2.58</td>\n",
       "      <td>6.7</td>\n",
       "      <td>Yes</td>\n",
       "      <td>126</td>\n",
       "      <td>1</td>\n",
       "      <td>1</td>\n",
       "    </tr>\n",
       "    <tr>\n",
       "      <th>497</th>\n",
       "      <td>Fatima Rana</td>\n",
       "      <td>21</td>\n",
       "      <td>3.23</td>\n",
       "      <td>3.2</td>\n",
       "      <td>No</td>\n",
       "      <td>121</td>\n",
       "      <td>0</td>\n",
       "      <td>0</td>\n",
       "    </tr>\n",
       "    <tr>\n",
       "      <th>498</th>\n",
       "      <td>Ali Javed</td>\n",
       "      <td>19</td>\n",
       "      <td>3.82</td>\n",
       "      <td>2.9</td>\n",
       "      <td>Yes</td>\n",
       "      <td>137</td>\n",
       "      <td>1</td>\n",
       "      <td>1</td>\n",
       "    </tr>\n",
       "    <tr>\n",
       "      <th>499</th>\n",
       "      <td>Usman Qureshi</td>\n",
       "      <td>23</td>\n",
       "      <td>2.28</td>\n",
       "      <td>7.8</td>\n",
       "      <td>No</td>\n",
       "      <td>132</td>\n",
       "      <td>0</td>\n",
       "      <td>0</td>\n",
       "    </tr>\n",
       "  </tbody>\n",
       "</table>\n",
       "<p>500 rows × 8 columns</p>\n",
       "</div>"
      ]
     },
     "execution_count": 14,
     "metadata": {},
     "output_type": "execute_result"
    }
   ],
   "execution_count": 14
  },
  {
   "metadata": {
    "ExecuteTime": {
     "end_time": "2025-06-30T06:52:18.132974Z",
     "start_time": "2025-06-30T06:52:18.123280Z"
    }
   },
   "cell_type": "code",
   "source": "data.info()",
   "id": "ba2093d4d43ac6b7",
   "outputs": [
    {
     "name": "stdout",
     "output_type": "stream",
     "text": [
      "<class 'pandas.core.frame.DataFrame'>\n",
      "RangeIndex: 500 entries, 0 to 499\n",
      "Data columns (total 8 columns):\n",
      " #   Column                   Non-Null Count  Dtype  \n",
      "---  ------                   --------------  -----  \n",
      " 0   Name                     500 non-null    object \n",
      " 1   Age                      500 non-null    int64  \n",
      " 2   CGPA (out of 4.00)       500 non-null    float64\n",
      " 3   Daily Study Hours        500 non-null    float64\n",
      " 4   Sports Involvement       500 non-null    object \n",
      " 5   IQ Score                 500 non-null    int64  \n",
      " 6   Sports Involvement Yess  500 non-null    object \n",
      " 7   Sports Involvement Yes   500 non-null    int64  \n",
      "dtypes: float64(2), int64(3), object(3)\n",
      "memory usage: 31.4+ KB\n"
     ]
    }
   ],
   "execution_count": 15
  },
  {
   "metadata": {},
   "cell_type": "code",
   "outputs": [],
   "execution_count": null,
   "source": "",
   "id": "d60cb73090c9a058"
  }
 ],
 "metadata": {
  "kernelspec": {
   "display_name": "Python 3",
   "language": "python",
   "name": "python3"
  },
  "language_info": {
   "codemirror_mode": {
    "name": "ipython",
    "version": 2
   },
   "file_extension": ".py",
   "mimetype": "text/x-python",
   "name": "python",
   "nbconvert_exporter": "python",
   "pygments_lexer": "ipython2",
   "version": "2.7.6"
  }
 },
 "nbformat": 4,
 "nbformat_minor": 5
}
