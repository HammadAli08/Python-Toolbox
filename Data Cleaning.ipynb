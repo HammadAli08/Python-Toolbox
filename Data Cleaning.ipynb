{
 "cells": [
  {
   "cell_type": "code",
   "id": "initial_id",
   "metadata": {
    "collapsed": true,
    "ExecuteTime": {
     "end_time": "2025-06-25T06:08:20.325179Z",
     "start_time": "2025-06-25T06:08:20.303535Z"
    }
   },
   "source": [
    "import pandas as pd\n",
    "import numpy as np\n",
    "import matplotlib.pyplot as plt\n",
    "import seaborn as sns"
   ],
   "outputs": [],
   "execution_count": 2
  },
  {
   "metadata": {
    "ExecuteTime": {
     "end_time": "2025-06-25T06:08:24.061689Z",
     "start_time": "2025-06-25T06:08:21.018107Z"
    }
   },
   "cell_type": "code",
   "source": [
    "Data=pd.read_csv('/home/hammadali08/Videos/factory_worker_data.csv')\n",
    "Data.head(3)"
   ],
   "id": "7abcc120b66c6c28",
   "outputs": [
    {
     "data": {
      "text/plain": [
       "  WorkerID  Age  Experience Department   Sensor_1  Sensor_2   Sensor_3  \\\n",
       "0    W1000   41           4         QC   7.237457 -5.345062        NaN   \n",
       "1    W1001   27           4         QC  -6.099276  4.944228   5.751492   \n",
       "2    W1002   40          11         QC  14.163983  7.419787  13.026986   \n",
       "\n",
       "    Sensor_4  Sensor_5  Sensor_6  Sensor_7   Sensor_8  \n",
       "0   6.385978 -3.187778  1.808027 -0.814783   1.703951  \n",
       "1  10.058490 -2.290655 -4.390271 -2.941448  -1.209291  \n",
       "2  14.914357  9.171912  4.244171  8.623844  17.667626  "
      ],
      "text/html": [
       "<div>\n",
       "<style scoped>\n",
       "    .dataframe tbody tr th:only-of-type {\n",
       "        vertical-align: middle;\n",
       "    }\n",
       "\n",
       "    .dataframe tbody tr th {\n",
       "        vertical-align: top;\n",
       "    }\n",
       "\n",
       "    .dataframe thead th {\n",
       "        text-align: right;\n",
       "    }\n",
       "</style>\n",
       "<table border=\"1\" class=\"dataframe\">\n",
       "  <thead>\n",
       "    <tr style=\"text-align: right;\">\n",
       "      <th></th>\n",
       "      <th>WorkerID</th>\n",
       "      <th>Age</th>\n",
       "      <th>Experience</th>\n",
       "      <th>Department</th>\n",
       "      <th>Sensor_1</th>\n",
       "      <th>Sensor_2</th>\n",
       "      <th>Sensor_3</th>\n",
       "      <th>Sensor_4</th>\n",
       "      <th>Sensor_5</th>\n",
       "      <th>Sensor_6</th>\n",
       "      <th>Sensor_7</th>\n",
       "      <th>Sensor_8</th>\n",
       "    </tr>\n",
       "  </thead>\n",
       "  <tbody>\n",
       "    <tr>\n",
       "      <th>0</th>\n",
       "      <td>W1000</td>\n",
       "      <td>41</td>\n",
       "      <td>4</td>\n",
       "      <td>QC</td>\n",
       "      <td>7.237457</td>\n",
       "      <td>-5.345062</td>\n",
       "      <td>NaN</td>\n",
       "      <td>6.385978</td>\n",
       "      <td>-3.187778</td>\n",
       "      <td>1.808027</td>\n",
       "      <td>-0.814783</td>\n",
       "      <td>1.703951</td>\n",
       "    </tr>\n",
       "    <tr>\n",
       "      <th>1</th>\n",
       "      <td>W1001</td>\n",
       "      <td>27</td>\n",
       "      <td>4</td>\n",
       "      <td>QC</td>\n",
       "      <td>-6.099276</td>\n",
       "      <td>4.944228</td>\n",
       "      <td>5.751492</td>\n",
       "      <td>10.058490</td>\n",
       "      <td>-2.290655</td>\n",
       "      <td>-4.390271</td>\n",
       "      <td>-2.941448</td>\n",
       "      <td>-1.209291</td>\n",
       "    </tr>\n",
       "    <tr>\n",
       "      <th>2</th>\n",
       "      <td>W1002</td>\n",
       "      <td>40</td>\n",
       "      <td>11</td>\n",
       "      <td>QC</td>\n",
       "      <td>14.163983</td>\n",
       "      <td>7.419787</td>\n",
       "      <td>13.026986</td>\n",
       "      <td>14.914357</td>\n",
       "      <td>9.171912</td>\n",
       "      <td>4.244171</td>\n",
       "      <td>8.623844</td>\n",
       "      <td>17.667626</td>\n",
       "    </tr>\n",
       "  </tbody>\n",
       "</table>\n",
       "</div>"
      ]
     },
     "execution_count": 3,
     "metadata": {},
     "output_type": "execute_result"
    }
   ],
   "execution_count": 3
  },
  {
   "metadata": {
    "ExecuteTime": {
     "end_time": "2025-06-25T06:08:32.248100Z",
     "start_time": "2025-06-25T06:08:32.138339Z"
    }
   },
   "cell_type": "code",
   "source": "Data.shape",
   "id": "46968f7ff9d99317",
   "outputs": [
    {
     "data": {
      "text/plain": [
       "(1000, 12)"
      ]
     },
     "execution_count": 4,
     "metadata": {},
     "output_type": "execute_result"
    }
   ],
   "execution_count": 4
  },
  {
   "metadata": {
    "ExecuteTime": {
     "end_time": "2025-06-25T06:08:37.751776Z",
     "start_time": "2025-06-25T06:08:36.684185Z"
    }
   },
   "cell_type": "code",
   "source": "Data.isnull().sum()",
   "id": "95bdc6ba366b0c42",
   "outputs": [
    {
     "data": {
      "text/plain": [
       "WorkerID       0\n",
       "Age            0\n",
       "Experience     0\n",
       "Department     0\n",
       "Sensor_1      48\n",
       "Sensor_2      55\n",
       "Sensor_3      52\n",
       "Sensor_4      47\n",
       "Sensor_5      56\n",
       "Sensor_6      50\n",
       "Sensor_7      35\n",
       "Sensor_8      53\n",
       "dtype: int64"
      ]
     },
     "execution_count": 5,
     "metadata": {},
     "output_type": "execute_result"
    }
   ],
   "execution_count": 5
  },
  {
   "metadata": {
    "ExecuteTime": {
     "end_time": "2025-06-25T06:08:40.256014Z",
     "start_time": "2025-06-25T06:08:39.897080Z"
    }
   },
   "cell_type": "code",
   "source": "(Data.isnull().sum()/Data.shape[0])*100",
   "id": "609d7203de608362",
   "outputs": [
    {
     "data": {
      "text/plain": [
       "WorkerID      0.0\n",
       "Age           0.0\n",
       "Experience    0.0\n",
       "Department    0.0\n",
       "Sensor_1      4.8\n",
       "Sensor_2      5.5\n",
       "Sensor_3      5.2\n",
       "Sensor_4      4.7\n",
       "Sensor_5      5.6\n",
       "Sensor_6      5.0\n",
       "Sensor_7      3.5\n",
       "Sensor_8      5.3\n",
       "dtype: float64"
      ]
     },
     "execution_count": 6,
     "metadata": {},
     "output_type": "execute_result"
    }
   ],
   "execution_count": 6
  },
  {
   "metadata": {},
   "cell_type": "markdown",
   "source": "Finding Total Number of Null values in data and THE PERCETAGE of it",
   "id": "4a57b012996ba2c9"
  },
  {
   "metadata": {
    "ExecuteTime": {
     "end_time": "2025-06-25T06:08:44.574802Z",
     "start_time": "2025-06-25T06:08:44.338661Z"
    }
   },
   "cell_type": "code",
   "source": [
    "\n",
    "Data.isnull().sum().sum()"
   ],
   "id": "77c61306c60c8ab8",
   "outputs": [
    {
     "data": {
      "text/plain": [
       "np.int64(396)"
      ]
     },
     "execution_count": 7,
     "metadata": {},
     "output_type": "execute_result"
    }
   ],
   "execution_count": 7
  },
  {
   "metadata": {
    "ExecuteTime": {
     "end_time": "2025-06-25T06:08:46.914795Z",
     "start_time": "2025-06-25T06:08:46.844029Z"
    }
   },
   "cell_type": "code",
   "source": "(Data.isnull().sum().sum()/(Data.shape[0]*Data.shape[1]))*100",
   "id": "c7df533c59b5d2aa",
   "outputs": [
    {
     "data": {
      "text/plain": [
       "np.float64(3.3000000000000003)"
      ]
     },
     "execution_count": 8,
     "metadata": {},
     "output_type": "execute_result"
    }
   ],
   "execution_count": 8
  },
  {
   "metadata": {},
   "cell_type": "markdown",
   "source": "Heatmape of Null Values",
   "id": "28afc993096ce393"
  },
  {
   "metadata": {
    "ExecuteTime": {
     "end_time": "2025-06-25T06:09:56.056576Z",
     "start_time": "2025-06-25T06:09:54.849097Z"
    }
   },
   "cell_type": "code",
   "source": [
    "sns.heatmap(Data.isnull())\n",
    "plt.title(\"Heatmap of Null Values\")\n",
    "plt.show()"
   ],
   "id": "6d761750ce091fec",
   "outputs": [
    {
     "data": {
      "text/plain": [
       "<Figure size 640x480 with 2 Axes>"
      ],
      "image/png": "[encoded data removed]"
     },
     "metadata": {},
     "output_type": "display_data"
    }
   ],
   "execution_count": 9
  },
  {
   "metadata": {},
   "cell_type": "markdown",
   "source": "Deleting COLUMNS",
   "id": "ead553d1587084fc"
  },
  {
   "metadata": {
    "ExecuteTime": {
     "end_time": "2025-06-25T06:10:00.138146Z",
     "start_time": "2025-06-25T06:09:59.769144Z"
    }
   },
   "cell_type": "code",
   "source": "Data.drop(columns=['Sensor_5','Sensor_8'],inplace=True)",
   "id": "7dd44606f2b71224",
   "outputs": [],
   "execution_count": 10
  },
  {
   "metadata": {
    "ExecuteTime": {
     "end_time": "2025-06-25T06:10:02.121085Z",
     "start_time": "2025-06-25T06:10:01.963893Z"
    }
   },
   "cell_type": "code",
   "source": "(Data.isnull().sum() / Data.shape[0]) * 100",
   "id": "d01b017cf6f5b91f",
   "outputs": [
    {
     "data": {
      "text/plain": [
       "WorkerID      0.0\n",
       "Age           0.0\n",
       "Experience    0.0\n",
       "Department    0.0\n",
       "Sensor_1      4.8\n",
       "Sensor_2      5.5\n",
       "Sensor_3      5.2\n",
       "Sensor_4      4.7\n",
       "Sensor_6      5.0\n",
       "Sensor_7      3.5\n",
       "dtype: float64"
      ]
     },
     "execution_count": 11,
     "metadata": {},
     "output_type": "execute_result"
    }
   ],
   "execution_count": 11
  },
  {
   "metadata": {
    "ExecuteTime": {
     "end_time": "2025-06-25T06:10:03.616805Z",
     "start_time": "2025-06-25T06:10:03.570926Z"
    }
   },
   "cell_type": "code",
   "source": "Data.shape",
   "id": "f803b15354bcc28c",
   "outputs": [
    {
     "data": {
      "text/plain": [
       "(1000, 10)"
      ]
     },
     "execution_count": 12,
     "metadata": {},
     "output_type": "execute_result"
    }
   ],
   "execution_count": 12
  },
  {
   "metadata": {},
   "cell_type": "markdown",
   "source": "Now DELETING NULL ROWS",
   "id": "5dadde49ee69d9f8"
  },
  {
   "metadata": {
    "ExecuteTime": {
     "end_time": "2025-06-25T06:10:17.879086Z",
     "start_time": "2025-06-25T06:10:17.505509Z"
    }
   },
   "cell_type": "code",
   "source": "Data.dropna(inplace=True)",
   "id": "8eb6a7c4620082d3",
   "outputs": [],
   "execution_count": 13
  },
  {
   "metadata": {
    "ExecuteTime": {
     "end_time": "2025-06-25T06:10:19.251005Z",
     "start_time": "2025-06-25T06:10:19.147840Z"
    }
   },
   "cell_type": "code",
   "source": "Data.shape",
   "id": "30281286cc1ea0e7",
   "outputs": [
    {
     "data": {
      "text/plain": [
       "(745, 10)"
      ]
     },
     "execution_count": 14,
     "metadata": {},
     "output_type": "execute_result"
    }
   ],
   "execution_count": 14
  },
  {
   "metadata": {
    "ExecuteTime": {
     "end_time": "2025-06-25T06:10:29.047047Z",
     "start_time": "2025-06-25T06:10:28.999763Z"
    }
   },
   "cell_type": "code",
   "source": [
    "# How much data i lost\n",
    "((1000-745)/1000)*100"
   ],
   "id": "c9f8dd69a83c3100",
   "outputs": [
    {
     "data": {
      "text/plain": [
       "25.5"
      ]
     },
     "execution_count": 15,
     "metadata": {},
     "output_type": "execute_result"
    }
   ],
   "execution_count": 15
  },
  {
   "metadata": {
    "ExecuteTime": {
     "end_time": "2025-06-25T06:10:39.275968Z",
     "start_time": "2025-06-25T06:10:39.185850Z"
    }
   },
   "cell_type": "code",
   "source": "Data.isnull().sum()",
   "id": "dd922993f652ca1d",
   "outputs": [
    {
     "data": {
      "text/plain": [
       "WorkerID      0\n",
       "Age           0\n",
       "Experience    0\n",
       "Department    0\n",
       "Sensor_1      0\n",
       "Sensor_2      0\n",
       "Sensor_3      0\n",
       "Sensor_4      0\n",
       "Sensor_6      0\n",
       "Sensor_7      0\n",
       "dtype: int64"
      ]
     },
     "execution_count": 16,
     "metadata": {},
     "output_type": "execute_result"
    }
   ],
   "execution_count": 16
  },
  {
   "metadata": {
    "ExecuteTime": {
     "end_time": "2025-06-25T06:10:40.731355Z",
     "start_time": "2025-06-25T06:10:40.370785Z"
    }
   },
   "cell_type": "code",
   "source": [
    "sns.heatmap(Data.isnull())\n",
    "plt.title(\"Heatmap of Null Values\")\n",
    "plt.show()"
   ],
   "id": "428219297ddb39fe",
   "outputs": [
    {
     "data": {
      "text/plain": [
       "<Figure size 640x480 with 2 Axes>"
      ],
      "image/png": "[encoded data removed]"
     },
     "metadata": {},
     "output_type": "display_data"
    }
   ],
   "execution_count": 17
  },
  {
   "metadata": {},
   "cell_type": "code",
   "outputs": [],
   "execution_count": null,
   "source": "",
   "id": "a083a4d530d3ec84"
  }
 ],
 "metadata": {
  "kernelspec": {
   "display_name": "Python 3",
   "language": "python",
   "name": "python3"
  },
  "language_info": {
   "codemirror_mode": {
    "name": "ipython",
    "version": 2
   },
   "file_extension": ".py",
   "mimetype": "text/x-python",
   "name": "python",
   "nbconvert_exporter": "python",
   "pygments_lexer": "ipython2",
   "version": "2.7.6"
  }
 },
 "nbformat": 4,
 "nbformat_minor": 5
}
