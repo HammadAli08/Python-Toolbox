{
 "cells": [
  {
   "cell_type": "code",
   "id": "initial_id",
   "metadata": {
    "collapsed": true,
    "ExecuteTime": {
     "end_time": "2025-06-25T10:17:45.298003Z",
     "start_time": "2025-06-25T10:17:45.291391Z"
    }
   },
   "source": [
    "import pandas as pd\n",
    "import numpy as np\n",
    "import matplotlib.pyplot as plt\n",
    "import seaborn as sns\n",
    "from sklearn.impute import SimpleImputer"
   ],
   "outputs": [],
   "execution_count": 20
  },
  {
   "metadata": {
    "ExecuteTime": {
     "end_time": "2025-06-25T10:17:45.730993Z",
     "start_time": "2025-06-25T10:17:45.699677Z"
    }
   },
   "cell_type": "code",
   "source": [
    "Data=pd.read_csv(\"../CSV Files/factory_worker_data.csv\")\n",
    "Data.head(3)"
   ],
   "id": "8a246cded0a2dbf2",
   "outputs": [
    {
     "data": {
      "text/plain": [
       "  WorkerID  Age  Experience Department   Sensor_1  Sensor_2   Sensor_3  \\\n",
       "0    W1000   41           4         QC   7.237457 -5.345062        NaN   \n",
       "1    W1001   27           4         QC  -6.099276  4.944228   5.751492   \n",
       "2    W1002   40          11         QC  14.163983  7.419787  13.026986   \n",
       "\n",
       "    Sensor_4  Sensor_5  Sensor_6  Sensor_7   Sensor_8  \n",
       "0   6.385978 -3.187778  1.808027 -0.814783   1.703951  \n",
       "1  10.058490 -2.290655 -4.390271 -2.941448  -1.209291  \n",
       "2  14.914357  9.171912  4.244171  8.623844  17.667626  "
      ],
      "text/html": [
       "<div>\n",
       "<style scoped>\n",
       "    .dataframe tbody tr th:only-of-type {\n",
       "        vertical-align: middle;\n",
       "    }\n",
       "\n",
       "    .dataframe tbody tr th {\n",
       "        vertical-align: top;\n",
       "    }\n",
       "\n",
       "    .dataframe thead th {\n",
       "        text-align: right;\n",
       "    }\n",
       "</style>\n",
       "<table border=\"1\" class=\"dataframe\">\n",
       "  <thead>\n",
       "    <tr style=\"text-align: right;\">\n",
       "      <th></th>\n",
       "      <th>WorkerID</th>\n",
       "      <th>Age</th>\n",
       "      <th>Experience</th>\n",
       "      <th>Department</th>\n",
       "      <th>Sensor_1</th>\n",
       "      <th>Sensor_2</th>\n",
       "      <th>Sensor_3</th>\n",
       "      <th>Sensor_4</th>\n",
       "      <th>Sensor_5</th>\n",
       "      <th>Sensor_6</th>\n",
       "      <th>Sensor_7</th>\n",
       "      <th>Sensor_8</th>\n",
       "    </tr>\n",
       "  </thead>\n",
       "  <tbody>\n",
       "    <tr>\n",
       "      <th>0</th>\n",
       "      <td>W1000</td>\n",
       "      <td>41</td>\n",
       "      <td>4</td>\n",
       "      <td>QC</td>\n",
       "      <td>7.237457</td>\n",
       "      <td>-5.345062</td>\n",
       "      <td>NaN</td>\n",
       "      <td>6.385978</td>\n",
       "      <td>-3.187778</td>\n",
       "      <td>1.808027</td>\n",
       "      <td>-0.814783</td>\n",
       "      <td>1.703951</td>\n",
       "    </tr>\n",
       "    <tr>\n",
       "      <th>1</th>\n",
       "      <td>W1001</td>\n",
       "      <td>27</td>\n",
       "      <td>4</td>\n",
       "      <td>QC</td>\n",
       "      <td>-6.099276</td>\n",
       "      <td>4.944228</td>\n",
       "      <td>5.751492</td>\n",
       "      <td>10.058490</td>\n",
       "      <td>-2.290655</td>\n",
       "      <td>-4.390271</td>\n",
       "      <td>-2.941448</td>\n",
       "      <td>-1.209291</td>\n",
       "    </tr>\n",
       "    <tr>\n",
       "      <th>2</th>\n",
       "      <td>W1002</td>\n",
       "      <td>40</td>\n",
       "      <td>11</td>\n",
       "      <td>QC</td>\n",
       "      <td>14.163983</td>\n",
       "      <td>7.419787</td>\n",
       "      <td>13.026986</td>\n",
       "      <td>14.914357</td>\n",
       "      <td>9.171912</td>\n",
       "      <td>4.244171</td>\n",
       "      <td>8.623844</td>\n",
       "      <td>17.667626</td>\n",
       "    </tr>\n",
       "  </tbody>\n",
       "</table>\n",
       "</div>"
      ]
     },
     "execution_count": 21,
     "metadata": {},
     "output_type": "execute_result"
    }
   ],
   "execution_count": 21
  },
  {
   "metadata": {
    "ExecuteTime": {
     "end_time": "2025-06-25T10:18:13.231949Z",
     "start_time": "2025-06-25T10:18:13.221422Z"
    }
   },
   "cell_type": "code",
   "source": "Data.isnull().sum()",
   "id": "c1466d9e005e112d",
   "outputs": [
    {
     "data": {
      "text/plain": [
       "WorkerID       0\n",
       "Age            0\n",
       "Experience     0\n",
       "Department     0\n",
       "Sensor_1      48\n",
       "Sensor_2      55\n",
       "Sensor_3      52\n",
       "Sensor_4      47\n",
       "Sensor_5      56\n",
       "Sensor_6      50\n",
       "Sensor_7      35\n",
       "Sensor_8      53\n",
       "dtype: int64"
      ]
     },
     "execution_count": 28,
     "metadata": {},
     "output_type": "execute_result"
    }
   ],
   "execution_count": 28
  },
  {
   "metadata": {},
   "cell_type": "markdown",
   "source": "# Filling with MEAN",
   "id": "8e9c1da73a0c1de1"
  },
  {
   "metadata": {
    "ExecuteTime": {
     "end_time": "2025-06-25T10:17:48.346443Z",
     "start_time": "2025-06-25T10:17:48.333547Z"
    }
   },
   "cell_type": "code",
   "source": "Data.info()",
   "id": "37f52940f38b330e",
   "outputs": [
    {
     "name": "stdout",
     "output_type": "stream",
     "text": [
      "<class 'pandas.core.frame.DataFrame'>\n",
      "RangeIndex: 1000 entries, 0 to 999\n",
      "Data columns (total 12 columns):\n",
      " #   Column      Non-Null Count  Dtype  \n",
      "---  ------      --------------  -----  \n",
      " 0   WorkerID    1000 non-null   object \n",
      " 1   Age         1000 non-null   int64  \n",
      " 2   Experience  1000 non-null   int64  \n",
      " 3   Department  1000 non-null   object \n",
      " 4   Sensor_1    952 non-null    float64\n",
      " 5   Sensor_2    945 non-null    float64\n",
      " 6   Sensor_3    948 non-null    float64\n",
      " 7   Sensor_4    953 non-null    float64\n",
      " 8   Sensor_5    944 non-null    float64\n",
      " 9   Sensor_6    950 non-null    float64\n",
      " 10  Sensor_7    965 non-null    float64\n",
      " 11  Sensor_8    947 non-null    float64\n",
      "dtypes: float64(8), int64(2), object(2)\n",
      "memory usage: 93.9+ KB\n"
     ]
    }
   ],
   "execution_count": 22
  },
  {
   "metadata": {
    "ExecuteTime": {
     "end_time": "2025-06-25T10:17:48.994294Z",
     "start_time": "2025-06-25T10:17:48.985844Z"
    }
   },
   "cell_type": "code",
   "source": "Data.select_dtypes(include=[float]).columns",
   "id": "85416251f05a1170",
   "outputs": [
    {
     "data": {
      "text/plain": [
       "Index(['Sensor_1', 'Sensor_2', 'Sensor_3', 'Sensor_4', 'Sensor_5', 'Sensor_6',\n",
       "       'Sensor_7', 'Sensor_8'],\n",
       "      dtype='object')"
      ]
     },
     "execution_count": 23,
     "metadata": {},
     "output_type": "execute_result"
    }
   ],
   "execution_count": 23
  },
  {
   "metadata": {
    "ExecuteTime": {
     "end_time": "2025-06-25T10:17:49.576521Z",
     "start_time": "2025-06-25T10:17:49.570888Z"
    }
   },
   "cell_type": "code",
   "source": "si= SimpleImputer(strategy='mean')",
   "id": "742ec6207115c001",
   "outputs": [],
   "execution_count": 24
  },
  {
   "metadata": {
    "ExecuteTime": {
     "end_time": "2025-06-25T10:17:50.214625Z",
     "start_time": "2025-06-25T10:17:50.201114Z"
    }
   },
   "cell_type": "code",
   "source": [
    "array=si.fit_transform(Data[['Sensor_1', 'Sensor_2', 'Sensor_3', 'Sensor_4', 'Sensor_5', 'Sensor_6',\n",
    "       'Sensor_7', 'Sensor_8']])"
   ],
   "id": "5ab8bd2f729966c0",
   "outputs": [],
   "execution_count": 25
  },
  {
   "metadata": {
    "ExecuteTime": {
     "end_time": "2025-06-25T10:20:19.491369Z",
     "start_time": "2025-06-25T10:20:19.470841Z"
    }
   },
   "cell_type": "code",
   "source": [
    "df=pd.DataFrame(array,columns=['Sensor_1', 'Sensor_2', 'Sensor_3', 'Sensor_4', 'Sensor_5', 'Sensor_6',\n",
    "       'Sensor_7', 'Sensor_8'])\n",
    "df"
   ],
   "id": "76db7d2e389b6579",
   "outputs": [
    {
     "data": {
      "text/plain": [
       "      Sensor_1   Sensor_2   Sensor_3   Sensor_4   Sensor_5   Sensor_6  \\\n",
       "0     7.237457  -5.345062  11.273328   6.385978  -3.187778   1.808027   \n",
       "1    -6.099276   4.944228   5.751492  10.058490  -2.290655  -4.390271   \n",
       "2    14.163983   7.419787  13.026986  14.914357   9.171912   4.244171   \n",
       "3    -8.144112   6.022785   1.759761   6.124397  -7.962622   0.358290   \n",
       "4     9.499723   8.917607  12.294359   8.376217   7.684377   6.932269   \n",
       "..         ...        ...        ...        ...        ...        ...   \n",
       "995   9.587238   1.885114   4.269326   6.033614   5.863820   9.540423   \n",
       "996  29.973041  20.812611  25.566959  23.453233  26.480754  11.741634   \n",
       "997  44.074508  40.501634  46.594357  44.397847  56.208826  34.056741   \n",
       "998  10.258249  13.489234  11.741711   9.666289   5.280387  10.796173   \n",
       "999   0.873051   1.330631  -1.988315  -0.353334   5.622802   4.769798   \n",
       "\n",
       "      Sensor_7   Sensor_8  \n",
       "0    -0.814783   1.703951  \n",
       "1    -2.941448  -1.209291  \n",
       "2     8.623844  17.667626  \n",
       "3     3.785899   7.801595  \n",
       "4     8.400410   6.543665  \n",
       "..         ...        ...  \n",
       "995   2.733291   5.067890  \n",
       "996  13.371076  15.017197  \n",
       "997  40.547397  53.592097  \n",
       "998   3.011345   3.485525  \n",
       "999   1.153185   6.442104  \n",
       "\n",
       "[1000 rows x 8 columns]"
      ],
      "text/html": [
       "<div>\n",
       "<style scoped>\n",
       "    .dataframe tbody tr th:only-of-type {\n",
       "        vertical-align: middle;\n",
       "    }\n",
       "\n",
       "    .dataframe tbody tr th {\n",
       "        vertical-align: top;\n",
       "    }\n",
       "\n",
       "    .dataframe thead th {\n",
       "        text-align: right;\n",
       "    }\n",
       "</style>\n",
       "<table border=\"1\" class=\"dataframe\">\n",
       "  <thead>\n",
       "    <tr style=\"text-align: right;\">\n",
       "      <th></th>\n",
       "      <th>Sensor_1</th>\n",
       "      <th>Sensor_2</th>\n",
       "      <th>Sensor_3</th>\n",
       "      <th>Sensor_4</th>\n",
       "      <th>Sensor_5</th>\n",
       "      <th>Sensor_6</th>\n",
       "      <th>Sensor_7</th>\n",
       "      <th>Sensor_8</th>\n",
       "    </tr>\n",
       "  </thead>\n",
       "  <tbody>\n",
       "    <tr>\n",
       "      <th>0</th>\n",
       "      <td>7.237457</td>\n",
       "      <td>-5.345062</td>\n",
       "      <td>11.273328</td>\n",
       "      <td>6.385978</td>\n",
       "      <td>-3.187778</td>\n",
       "      <td>1.808027</td>\n",
       "      <td>-0.814783</td>\n",
       "      <td>1.703951</td>\n",
       "    </tr>\n",
       "    <tr>\n",
       "      <th>1</th>\n",
       "      <td>-6.099276</td>\n",
       "      <td>4.944228</td>\n",
       "      <td>5.751492</td>\n",
       "      <td>10.058490</td>\n",
       "      <td>-2.290655</td>\n",
       "      <td>-4.390271</td>\n",
       "      <td>-2.941448</td>\n",
       "      <td>-1.209291</td>\n",
       "    </tr>\n",
       "    <tr>\n",
       "      <th>2</th>\n",
       "      <td>14.163983</td>\n",
       "      <td>7.419787</td>\n",
       "      <td>13.026986</td>\n",
       "      <td>14.914357</td>\n",
       "      <td>9.171912</td>\n",
       "      <td>4.244171</td>\n",
       "      <td>8.623844</td>\n",
       "      <td>17.667626</td>\n",
       "    </tr>\n",
       "    <tr>\n",
       "      <th>3</th>\n",
       "      <td>-8.144112</td>\n",
       "      <td>6.022785</td>\n",
       "      <td>1.759761</td>\n",
       "      <td>6.124397</td>\n",
       "      <td>-7.962622</td>\n",
       "      <td>0.358290</td>\n",
       "      <td>3.785899</td>\n",
       "      <td>7.801595</td>\n",
       "    </tr>\n",
       "    <tr>\n",
       "      <th>4</th>\n",
       "      <td>9.499723</td>\n",
       "      <td>8.917607</td>\n",
       "      <td>12.294359</td>\n",
       "      <td>8.376217</td>\n",
       "      <td>7.684377</td>\n",
       "      <td>6.932269</td>\n",
       "      <td>8.400410</td>\n",
       "      <td>6.543665</td>\n",
       "    </tr>\n",
       "    <tr>\n",
       "      <th>...</th>\n",
       "      <td>...</td>\n",
       "      <td>...</td>\n",
       "      <td>...</td>\n",
       "      <td>...</td>\n",
       "      <td>...</td>\n",
       "      <td>...</td>\n",
       "      <td>...</td>\n",
       "      <td>...</td>\n",
       "    </tr>\n",
       "    <tr>\n",
       "      <th>995</th>\n",
       "      <td>9.587238</td>\n",
       "      <td>1.885114</td>\n",
       "      <td>4.269326</td>\n",
       "      <td>6.033614</td>\n",
       "      <td>5.863820</td>\n",
       "      <td>9.540423</td>\n",
       "      <td>2.733291</td>\n",
       "      <td>5.067890</td>\n",
       "    </tr>\n",
       "    <tr>\n",
       "      <th>996</th>\n",
       "      <td>29.973041</td>\n",
       "      <td>20.812611</td>\n",
       "      <td>25.566959</td>\n",
       "      <td>23.453233</td>\n",
       "      <td>26.480754</td>\n",
       "      <td>11.741634</td>\n",
       "      <td>13.371076</td>\n",
       "      <td>15.017197</td>\n",
       "    </tr>\n",
       "    <tr>\n",
       "      <th>997</th>\n",
       "      <td>44.074508</td>\n",
       "      <td>40.501634</td>\n",
       "      <td>46.594357</td>\n",
       "      <td>44.397847</td>\n",
       "      <td>56.208826</td>\n",
       "      <td>34.056741</td>\n",
       "      <td>40.547397</td>\n",
       "      <td>53.592097</td>\n",
       "    </tr>\n",
       "    <tr>\n",
       "      <th>998</th>\n",
       "      <td>10.258249</td>\n",
       "      <td>13.489234</td>\n",
       "      <td>11.741711</td>\n",
       "      <td>9.666289</td>\n",
       "      <td>5.280387</td>\n",
       "      <td>10.796173</td>\n",
       "      <td>3.011345</td>\n",
       "      <td>3.485525</td>\n",
       "    </tr>\n",
       "    <tr>\n",
       "      <th>999</th>\n",
       "      <td>0.873051</td>\n",
       "      <td>1.330631</td>\n",
       "      <td>-1.988315</td>\n",
       "      <td>-0.353334</td>\n",
       "      <td>5.622802</td>\n",
       "      <td>4.769798</td>\n",
       "      <td>1.153185</td>\n",
       "      <td>6.442104</td>\n",
       "    </tr>\n",
       "  </tbody>\n",
       "</table>\n",
       "<p>1000 rows × 8 columns</p>\n",
       "</div>"
      ]
     },
     "execution_count": 29,
     "metadata": {},
     "output_type": "execute_result"
    }
   ],
   "execution_count": 29
  },
  {
   "metadata": {
    "ExecuteTime": {
     "end_time": "2025-06-25T10:17:54.018022Z",
     "start_time": "2025-06-25T10:17:54.008857Z"
    }
   },
   "cell_type": "code",
   "source": "df.isnull().sum()",
   "id": "5ca0e40ae64e7a73",
   "outputs": [
    {
     "data": {
      "text/plain": [
       "Sensor_1    0\n",
       "Sensor_2    0\n",
       "Sensor_3    0\n",
       "Sensor_4    0\n",
       "Sensor_5    0\n",
       "Sensor_6    0\n",
       "Sensor_7    0\n",
       "Sensor_8    0\n",
       "dtype: int64"
      ]
     },
     "execution_count": 27,
     "metadata": {},
     "output_type": "execute_result"
    }
   ],
   "execution_count": 27
  },
  {
   "metadata": {},
   "cell_type": "markdown",
   "source": "# Filling with MEDIAN",
   "id": "b1fa998d24224c04"
  },
  {
   "metadata": {
    "ExecuteTime": {
     "end_time": "2025-06-25T10:21:56.369996Z",
     "start_time": "2025-06-25T10:21:56.363883Z"
    }
   },
   "cell_type": "code",
   "source": "si= SimpleImputer(strategy='median')",
   "id": "d30c5d4f63b13ef",
   "outputs": [],
   "execution_count": 30
  },
  {
   "metadata": {
    "ExecuteTime": {
     "end_time": "2025-06-25T10:22:12.814638Z",
     "start_time": "2025-06-25T10:22:12.799335Z"
    }
   },
   "cell_type": "code",
   "source": [
    "array1=si.fit_transform(Data[['Sensor_1', 'Sensor_2', 'Sensor_3', 'Sensor_4', 'Sensor_5', 'Sensor_6',\n",
    "       'Sensor_7', 'Sensor_8']])"
   ],
   "id": "5496709f794ad877",
   "outputs": [],
   "execution_count": 32
  },
  {
   "metadata": {
    "ExecuteTime": {
     "end_time": "2025-06-25T10:22:30.242204Z",
     "start_time": "2025-06-25T10:22:30.221820Z"
    }
   },
   "cell_type": "code",
   "source": [
    "df1=pd.DataFrame(array,columns=['Sensor_1', 'Sensor_2', 'Sensor_3', 'Sensor_4', 'Sensor_5', 'Sensor_6',\n",
    "       'Sensor_7', 'Sensor_8'])\n",
    "df1"
   ],
   "id": "b25812604396b3bf",
   "outputs": [
    {
     "data": {
      "text/plain": [
       "      Sensor_1   Sensor_2   Sensor_3   Sensor_4   Sensor_5   Sensor_6  \\\n",
       "0     7.237457  -5.345062   9.189942   6.385978  -3.187778   1.808027   \n",
       "1    -6.099276   4.944228   5.751492  10.058490  -2.290655  -4.390271   \n",
       "2    14.163983   7.419787  13.026986  14.914357   9.171912   4.244171   \n",
       "3    -8.144112   6.022785   1.759761   6.124397  -7.962622   0.358290   \n",
       "4     9.499723   8.917607  12.294359   8.376217   7.684377   5.906855   \n",
       "..         ...        ...        ...        ...        ...        ...   \n",
       "995   9.587238   1.885114   4.269326   6.033614   5.863820   9.540423   \n",
       "996  29.973041  20.812611  25.566959  23.453233  26.480754  11.741634   \n",
       "997  44.074508  40.501634  46.594357  44.397847  56.208826  34.056741   \n",
       "998  10.258249  13.489234  11.741711   9.666289   5.280387  10.796173   \n",
       "999   0.873051   1.330631  -1.988315  -0.353334   5.622802   4.769798   \n",
       "\n",
       "      Sensor_7   Sensor_8  \n",
       "0    -0.814783   1.703951  \n",
       "1    -2.941448  -1.209291  \n",
       "2     8.623844  17.667626  \n",
       "3     3.785899   7.801595  \n",
       "4     8.400410   6.543665  \n",
       "..         ...        ...  \n",
       "995   2.733291   5.067890  \n",
       "996  13.371076  15.017197  \n",
       "997  40.547397  53.592097  \n",
       "998   3.011345   3.485525  \n",
       "999   1.153185   6.442104  \n",
       "\n",
       "[1000 rows x 8 columns]"
      ],
      "text/html": [
       "<div>\n",
       "<style scoped>\n",
       "    .dataframe tbody tr th:only-of-type {\n",
       "        vertical-align: middle;\n",
       "    }\n",
       "\n",
       "    .dataframe tbody tr th {\n",
       "        vertical-align: top;\n",
       "    }\n",
       "\n",
       "    .dataframe thead th {\n",
       "        text-align: right;\n",
       "    }\n",
       "</style>\n",
       "<table border=\"1\" class=\"dataframe\">\n",
       "  <thead>\n",
       "    <tr style=\"text-align: right;\">\n",
       "      <th></th>\n",
       "      <th>Sensor_1</th>\n",
       "      <th>Sensor_2</th>\n",
       "      <th>Sensor_3</th>\n",
       "      <th>Sensor_4</th>\n",
       "      <th>Sensor_5</th>\n",
       "      <th>Sensor_6</th>\n",
       "      <th>Sensor_7</th>\n",
       "      <th>Sensor_8</th>\n",
       "    </tr>\n",
       "  </thead>\n",
       "  <tbody>\n",
       "    <tr>\n",
       "      <th>0</th>\n",
       "      <td>7.237457</td>\n",
       "      <td>-5.345062</td>\n",
       "      <td>9.189942</td>\n",
       "      <td>6.385978</td>\n",
       "      <td>-3.187778</td>\n",
       "      <td>1.808027</td>\n",
       "      <td>-0.814783</td>\n",
       "      <td>1.703951</td>\n",
       "    </tr>\n",
       "    <tr>\n",
       "      <th>1</th>\n",
       "      <td>-6.099276</td>\n",
       "      <td>4.944228</td>\n",
       "      <td>5.751492</td>\n",
       "      <td>10.058490</td>\n",
       "      <td>-2.290655</td>\n",
       "      <td>-4.390271</td>\n",
       "      <td>-2.941448</td>\n",
       "      <td>-1.209291</td>\n",
       "    </tr>\n",
       "    <tr>\n",
       "      <th>2</th>\n",
       "      <td>14.163983</td>\n",
       "      <td>7.419787</td>\n",
       "      <td>13.026986</td>\n",
       "      <td>14.914357</td>\n",
       "      <td>9.171912</td>\n",
       "      <td>4.244171</td>\n",
       "      <td>8.623844</td>\n",
       "      <td>17.667626</td>\n",
       "    </tr>\n",
       "    <tr>\n",
       "      <th>3</th>\n",
       "      <td>-8.144112</td>\n",
       "      <td>6.022785</td>\n",
       "      <td>1.759761</td>\n",
       "      <td>6.124397</td>\n",
       "      <td>-7.962622</td>\n",
       "      <td>0.358290</td>\n",
       "      <td>3.785899</td>\n",
       "      <td>7.801595</td>\n",
       "    </tr>\n",
       "    <tr>\n",
       "      <th>4</th>\n",
       "      <td>9.499723</td>\n",
       "      <td>8.917607</td>\n",
       "      <td>12.294359</td>\n",
       "      <td>8.376217</td>\n",
       "      <td>7.684377</td>\n",
       "      <td>5.906855</td>\n",
       "      <td>8.400410</td>\n",
       "      <td>6.543665</td>\n",
       "    </tr>\n",
       "    <tr>\n",
       "      <th>...</th>\n",
       "      <td>...</td>\n",
       "      <td>...</td>\n",
       "      <td>...</td>\n",
       "      <td>...</td>\n",
       "      <td>...</td>\n",
       "      <td>...</td>\n",
       "      <td>...</td>\n",
       "      <td>...</td>\n",
       "    </tr>\n",
       "    <tr>\n",
       "      <th>995</th>\n",
       "      <td>9.587238</td>\n",
       "      <td>1.885114</td>\n",
       "      <td>4.269326</td>\n",
       "      <td>6.033614</td>\n",
       "      <td>5.863820</td>\n",
       "      <td>9.540423</td>\n",
       "      <td>2.733291</td>\n",
       "      <td>5.067890</td>\n",
       "    </tr>\n",
       "    <tr>\n",
       "      <th>996</th>\n",
       "      <td>29.973041</td>\n",
       "      <td>20.812611</td>\n",
       "      <td>25.566959</td>\n",
       "      <td>23.453233</td>\n",
       "      <td>26.480754</td>\n",
       "      <td>11.741634</td>\n",
       "      <td>13.371076</td>\n",
       "      <td>15.017197</td>\n",
       "    </tr>\n",
       "    <tr>\n",
       "      <th>997</th>\n",
       "      <td>44.074508</td>\n",
       "      <td>40.501634</td>\n",
       "      <td>46.594357</td>\n",
       "      <td>44.397847</td>\n",
       "      <td>56.208826</td>\n",
       "      <td>34.056741</td>\n",
       "      <td>40.547397</td>\n",
       "      <td>53.592097</td>\n",
       "    </tr>\n",
       "    <tr>\n",
       "      <th>998</th>\n",
       "      <td>10.258249</td>\n",
       "      <td>13.489234</td>\n",
       "      <td>11.741711</td>\n",
       "      <td>9.666289</td>\n",
       "      <td>5.280387</td>\n",
       "      <td>10.796173</td>\n",
       "      <td>3.011345</td>\n",
       "      <td>3.485525</td>\n",
       "    </tr>\n",
       "    <tr>\n",
       "      <th>999</th>\n",
       "      <td>0.873051</td>\n",
       "      <td>1.330631</td>\n",
       "      <td>-1.988315</td>\n",
       "      <td>-0.353334</td>\n",
       "      <td>5.622802</td>\n",
       "      <td>4.769798</td>\n",
       "      <td>1.153185</td>\n",
       "      <td>6.442104</td>\n",
       "    </tr>\n",
       "  </tbody>\n",
       "</table>\n",
       "<p>1000 rows × 8 columns</p>\n",
       "</div>"
      ]
     },
     "execution_count": 34,
     "metadata": {},
     "output_type": "execute_result"
    }
   ],
   "execution_count": 34
  },
  {
   "metadata": {},
   "cell_type": "code",
   "outputs": [],
   "execution_count": null,
   "source": "",
   "id": "8256986891ff6a39"
  }
 ],
 "metadata": {
  "kernelspec": {
   "display_name": "Python 3",
   "language": "python",
   "name": "python3"
  },
  "language_info": {
   "codemirror_mode": {
    "name": "ipython",
    "version": 2
   },
   "file_extension": ".py",
   "mimetype": "text/x-python",
   "name": "python",
   "nbconvert_exporter": "python",
   "pygments_lexer": "ipython2",
   "version": "2.7.6"
  }
 },
 "nbformat": 4,
 "nbformat_minor": 5
}
