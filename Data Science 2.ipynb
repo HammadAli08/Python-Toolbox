{
 "cells": [
  {
   "metadata": {
    "ExecuteTime": {
     "end_time": "2025-06-20T10:09:41.037595Z",
     "start_time": "2025-06-20T10:09:41.031579Z"
    }
   },
   "cell_type": "code",
   "source": [
    "import numpy as np\n",
    "import pandas as pd\n",
    "import matplotlib.pyplot as plt\n",
    "import seaborn as sns\n",
    "import scipy.stats as st"
   ],
   "id": "5d3a57e53b5d4959",
   "outputs": [],
   "execution_count": 3
  },
  {
   "metadata": {
    "ExecuteTime": {
     "end_time": "2025-06-20T10:09:43.158259Z",
     "start_time": "2025-06-20T10:09:42.595539Z"
    }
   },
   "cell_type": "code",
   "source": "first_data=pd.read_csv(\"/home/hammadali08/Videos/Moviesdata.csv\")",
   "id": "e97ebfb132d5d71b",
   "outputs": [],
   "execution_count": 4
  },
  {
   "metadata": {},
   "cell_type": "markdown",
   "source": "                                Hypothesis T test(uses when number of data is less than 30)",
   "id": "75d490a97b674d70"
  },
  {
   "metadata": {
    "ExecuteTime": {
     "end_time": "2025-06-20T10:09:44.619885Z",
     "start_time": "2025-06-20T10:09:44.614932Z"
    }
   },
   "cell_type": "code",
   "source": [
    "pop_mean=150\n",
    "n_data=25\n",
    "sample_mean=148\n",
    "sample_std=5\n",
    "alpha=0.05"
   ],
   "id": "f80e11c6dd45152a",
   "outputs": [],
   "execution_count": 5
  },
  {
   "metadata": {
    "ExecuteTime": {
     "end_time": "2025-06-20T10:09:45.285434Z",
     "start_time": "2025-06-20T10:09:45.277183Z"
    }
   },
   "cell_type": "code",
   "source": "t_table=(st.t.ppf(alpha,n_data-1))",
   "id": "69f81a66d9557222",
   "outputs": [],
   "execution_count": 6
  },
  {
   "metadata": {
    "ExecuteTime": {
     "end_time": "2025-06-20T10:09:45.988490Z",
     "start_time": "2025-06-20T10:09:45.983877Z"
    }
   },
   "cell_type": "code",
   "source": "T_test=(sample_mean-pop_mean)/(sample_std/np.sqrt(n_data))",
   "id": "d1c1559acf4f5170",
   "outputs": [],
   "execution_count": 7
  },
  {
   "metadata": {
    "ExecuteTime": {
     "end_time": "2025-06-20T10:09:46.576040Z",
     "start_time": "2025-06-20T10:09:46.569050Z"
    }
   },
   "cell_type": "code",
   "source": [
    "if t_table<T_test:\n",
    "    print(\"Ho is Right\")\n",
    "else:\n",
    "    print(\"Ha is right\")"
   ],
   "id": "d8d0e3d5efd2b593",
   "outputs": [
    {
     "name": "stdout",
     "output_type": "stream",
     "text": [
      "Ha is right\n"
     ]
    }
   ],
   "execution_count": 8
  },
  {
   "metadata": {},
   "cell_type": "code",
   "outputs": [],
   "execution_count": null,
   "source": "",
   "id": "aae5b8c7d26159be"
  }
 ],
 "metadata": {
  "kernelspec": {
   "display_name": "Python 3",
   "language": "python",
   "name": "python3"
  },
  "language_info": {
   "codemirror_mode": {
    "name": "ipython",
    "version": 2
   },
   "file_extension": ".py",
   "mimetype": "text/x-python",
   "name": "python",
   "nbconvert_exporter": "python",
   "pygments_lexer": "ipython2",
   "version": "2.7.6"
  }
 },
 "nbformat": 4,
 "nbformat_minor": 5
}
