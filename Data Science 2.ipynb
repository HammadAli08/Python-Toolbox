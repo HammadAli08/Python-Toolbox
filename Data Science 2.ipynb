{
 "cells": [
  {
   "metadata": {
    "ExecuteTime": {
     "end_time": "2025-06-21T11:01:35.597781Z",
     "start_time": "2025-06-21T11:01:35.565156Z"
    }
   },
   "cell_type": "code",
   "source": [
    "import numpy as np\n",
    "import pandas as pd\n",
    "import matplotlib.pyplot as plt\n",
    "import seaborn as sns\n",
    "import scipy.stats as st\n",
    "from nacl.bindings import crypto_pwhash_ALG_ARGON2I13"
   ],
   "id": "5d3a57e53b5d4959",
   "outputs": [],
   "execution_count": 1
  },
  {
   "metadata": {
    "ExecuteTime": {
     "end_time": "2025-06-21T11:01:36.029778Z",
     "start_time": "2025-06-21T11:01:35.611609Z"
    }
   },
   "cell_type": "code",
   "source": "first_data=pd.read_csv(\"/home/hammadali08/Videos/Moviesdata.csv\")",
   "id": "e97ebfb132d5d71b",
   "outputs": [],
   "execution_count": 2
  },
  {
   "metadata": {},
   "cell_type": "markdown",
   "source": "                                Hypothesis T test(uses when number of data is less than 30)",
   "id": "75d490a97b674d70"
  },
  {
   "metadata": {
    "ExecuteTime": {
     "end_time": "2025-06-21T11:01:36.274113Z",
     "start_time": "2025-06-21T11:01:36.268071Z"
    }
   },
   "cell_type": "code",
   "source": [
    "pop_mean=150\n",
    "n_data=25\n",
    "sample_mean=148\n",
    "sample_std=5\n",
    "alpha=0.05"
   ],
   "id": "f80e11c6dd45152a",
   "outputs": [],
   "execution_count": 3
  },
  {
   "metadata": {
    "ExecuteTime": {
     "end_time": "2025-06-21T11:01:36.317999Z",
     "start_time": "2025-06-21T11:01:36.313564Z"
    }
   },
   "cell_type": "code",
   "source": "t_table=(st.t.ppf(alpha,n_data-1))",
   "id": "69f81a66d9557222",
   "outputs": [],
   "execution_count": 4
  },
  {
   "metadata": {
    "ExecuteTime": {
     "end_time": "2025-06-21T11:01:36.370621Z",
     "start_time": "2025-06-21T11:01:36.364541Z"
    }
   },
   "cell_type": "code",
   "source": "T_test=(sample_mean-pop_mean)/(sample_std/np.sqrt(n_data))",
   "id": "d1c1559acf4f5170",
   "outputs": [],
   "execution_count": 5
  },
  {
   "metadata": {
    "ExecuteTime": {
     "end_time": "2025-06-21T11:01:36.425578Z",
     "start_time": "2025-06-21T11:01:36.420250Z"
    }
   },
   "cell_type": "code",
   "source": [
    "if t_table<T_test:\n",
    "    print(\"Ho is Right\")\n",
    "else:\n",
    "    print(\"Ha is right\")"
   ],
   "id": "d8d0e3d5efd2b593",
   "outputs": [
    {
     "name": "stdout",
     "output_type": "stream",
     "text": [
      "Ha is right\n"
     ]
    }
   ],
   "execution_count": 6
  },
  {
   "metadata": {},
   "cell_type": "markdown",
   "source": "                                    Another Example of T test",
   "id": "3893b5e24e07fb74"
  },
  {
   "metadata": {
    "ExecuteTime": {
     "end_time": "2025-06-21T11:01:36.478288Z",
     "start_time": "2025-06-21T11:01:36.474566Z"
    }
   },
   "cell_type": "code",
   "source": [
    "first_mean=80\n",
    "second_mean=75\n",
    "first_std=5\n",
    "second_std=6\n",
    "n=20"
   ],
   "id": "aae5b8c7d26159be",
   "outputs": [],
   "execution_count": 7
  },
  {
   "metadata": {},
   "cell_type": "markdown",
   "source": [
    " Ho will believe both are equal\n",
    "\n",
    "Ha will believe there is a difference in it"
   ],
   "id": "1906a5ef67f181dd"
  },
  {
   "metadata": {
    "ExecuteTime": {
     "end_time": "2025-06-21T11:15:14.494455Z",
     "start_time": "2025-06-21T11:15:14.424257Z"
    }
   },
   "cell_type": "code",
   "source": [
    "T_cal=(first_mean-second_mean)/(np.sqrt((first_std**2/n)+(second_std**2/n)))\n",
    "T_cal"
   ],
   "id": "a8721e80ff53ba4e",
   "outputs": [
    {
     "data": {
      "text/plain": [
       "np.float64(2.862991671569341)"
      ]
     },
     "execution_count": 32,
     "metadata": {},
     "output_type": "execute_result"
    }
   ],
   "execution_count": 32
  },
  {
   "metadata": {
    "ExecuteTime": {
     "end_time": "2025-06-21T11:01:36.657526Z",
     "start_time": "2025-06-21T11:01:36.653958Z"
    }
   },
   "cell_type": "code",
   "source": "alpha=0.025",
   "id": "dd94ad27ea86e8fb",
   "outputs": [],
   "execution_count": 9
  },
  {
   "metadata": {
    "ExecuteTime": {
     "end_time": "2025-06-21T11:01:36.708260Z",
     "start_time": "2025-06-21T11:01:36.704212Z"
    }
   },
   "cell_type": "code",
   "source": "T_value=st.t.ppf(1-alpha,38)",
   "id": "2e72b1848f914e5",
   "outputs": [],
   "execution_count": 10
  },
  {
   "metadata": {
    "ExecuteTime": {
     "end_time": "2025-06-21T11:01:36.766131Z",
     "start_time": "2025-06-21T11:01:36.761909Z"
    }
   },
   "cell_type": "code",
   "source": [
    "if T_value<T_cal:\n",
    "    print(\"Ha is right\")\n",
    "else:\n",
    "    print(\"Ho is right\")"
   ],
   "id": "7dbb8937f4ae0173",
   "outputs": [
    {
     "name": "stdout",
     "output_type": "stream",
     "text": [
      "Ha is right\n"
     ]
    }
   ],
   "execution_count": 11
  },
  {
   "metadata": {},
   "cell_type": "markdown",
   "source": "                                    Trying it on another Example",
   "id": "43fe6ea66c408f29"
  },
  {
   "metadata": {
    "ExecuteTime": {
     "end_time": "2025-06-21T11:01:36.884102Z",
     "start_time": "2025-06-21T11:01:36.876959Z"
    }
   },
   "cell_type": "code",
   "source": [
    "data1 = np.array([52.48, 49.31, 53.24, 57.62, 48.83, 48.83, 57.90, 53.84, 47.65, 52.71,\n",
    "         47.66, 47.66, 58.52, 53.00, 40.28, 54.58, 50.44, 41.45, 51.46, 45.69,\n",
    "         45.88, 54.17, 49.96, 49.53, 55.66, 44.95, 50.46, 53.92, 49.29, 53.28,\n",
    "         52.92, 48.31, 45.84, 45.21, 49.96])\n",
    "\n",
    "data2 = np.array([45.90, 53.04, 42.20, 45.36, 52.98, 55.69, 52.86, 51.42, 50.49, 44.61,\n",
    "         55.60, 47.78, 54.98, 50.39, 56.60, 54.96, 51.43, 51.81, 50.93, 59.43,\n",
    "         55.73, 50.66, 52.80, 56.43, 57.30, 48.94, 51.25, 48.34, 47.45, 54.74,\n",
    "         48.56, 52.38, 53.72, 50.55, 53.86])\n",
    "al=0.025"
   ],
   "id": "18758737bb88cc9c",
   "outputs": [],
   "execution_count": 12
  },
  {
   "metadata": {},
   "cell_type": "markdown",
   "source": [
    "  Ho will believe both are equal\n",
    "\n",
    "ha will believe there is a difference in it"
   ],
   "id": "18aabac26826817f"
  },
  {
   "metadata": {
    "ExecuteTime": {
     "end_time": "2025-06-21T11:01:36.937473Z",
     "start_time": "2025-06-21T11:01:36.933210Z"
    }
   },
   "cell_type": "code",
   "source": "t_value=st.t.ppf(1-alpha,34)",
   "id": "2dde8a6e65e29fee",
   "outputs": [],
   "execution_count": 13
  },
  {
   "metadata": {
    "ExecuteTime": {
     "end_time": "2025-06-21T11:01:36.990232Z",
     "start_time": "2025-06-21T11:01:36.983422Z"
    }
   },
   "cell_type": "code",
   "source": "T_calculation=(np.mean(data2)-np.mean(data1))/(np.sqrt((np.square(np.std(data2))/35)+((np.square(np.std(data1))/35))))",
   "id": "cc1b59f39c0b036f",
   "outputs": [],
   "execution_count": 14
  },
  {
   "metadata": {
    "ExecuteTime": {
     "end_time": "2025-06-21T11:01:37.040743Z",
     "start_time": "2025-06-21T11:01:37.035384Z"
    }
   },
   "cell_type": "code",
   "source": [
    "#By cuting the formula into two pieces\n",
    "Cal1=(np.mean(data2)-np.mean(data1))\n",
    "Cal1"
   ],
   "id": "99627128739e2e5d",
   "outputs": [
    {
     "data": {
      "text/plain": [
       "np.float64(1.3908571428571364)"
      ]
     },
     "execution_count": 15,
     "metadata": {},
     "output_type": "execute_result"
    }
   ],
   "execution_count": 15
  },
  {
   "metadata": {
    "ExecuteTime": {
     "end_time": "2025-06-21T11:01:37.096815Z",
     "start_time": "2025-06-21T11:01:37.089253Z"
    }
   },
   "cell_type": "code",
   "source": [
    "Cal2=(np.sqrt((np.square(np.std(data2))/35)+((np.square(np.std(data1))/35))))\n",
    "Cal2"
   ],
   "id": "a86c5ea7d4ea6ab1",
   "outputs": [
    {
     "data": {
      "text/plain": [
       "np.float64(0.9688179085574807)"
      ]
     },
     "execution_count": 16,
     "metadata": {},
     "output_type": "execute_result"
    }
   ],
   "execution_count": 16
  },
  {
   "metadata": {
    "ExecuteTime": {
     "end_time": "2025-06-21T11:01:37.154374Z",
     "start_time": "2025-06-21T11:01:37.147071Z"
    }
   },
   "cell_type": "code",
   "source": [
    "Total_Cal=Cal1/Cal2\n",
    "Total_Cal"
   ],
   "id": "b1a536a210fa7538",
   "outputs": [
    {
     "data": {
      "text/plain": [
       "np.float64(1.4356228663527184)"
      ]
     },
     "execution_count": 17,
     "metadata": {},
     "output_type": "execute_result"
    }
   ],
   "execution_count": 17
  },
  {
   "metadata": {
    "ExecuteTime": {
     "end_time": "2025-06-21T11:01:37.208778Z",
     "start_time": "2025-06-21T11:01:37.200773Z"
    }
   },
   "cell_type": "code",
   "source": "T_calculation",
   "id": "42027029cb5e0769",
   "outputs": [
    {
     "data": {
      "text/plain": [
       "np.float64(1.4356228663527184)"
      ]
     },
     "execution_count": 18,
     "metadata": {},
     "output_type": "execute_result"
    }
   ],
   "execution_count": 18
  },
  {
   "metadata": {
    "ExecuteTime": {
     "end_time": "2025-06-21T11:01:37.259085Z",
     "start_time": "2025-06-21T11:01:37.254876Z"
    }
   },
   "cell_type": "code",
   "source": [
    "if t_value<T_calculation:\n",
    "    print(\"Ha is right\")\n",
    "else:\n",
    "    print(\"Ho is right\")"
   ],
   "id": "cbe7110be8e2b956",
   "outputs": [
    {
     "name": "stdout",
     "output_type": "stream",
     "text": [
      "Ho is right\n"
     ]
    }
   ],
   "execution_count": 19
  },
  {
   "metadata": {},
   "cell_type": "markdown",
   "source": "SO there is No difference in both of these Values",
   "id": "61756bccbcafb15f"
  },
  {
   "metadata": {
    "ExecuteTime": {
     "end_time": "2025-06-21T11:01:37.311137Z",
     "start_time": "2025-06-21T11:01:37.307193Z"
    }
   },
   "cell_type": "code",
   "source": "",
   "id": "2a5846af33e804f4",
   "outputs": [],
   "execution_count": null
  },
  {
   "metadata": {},
   "cell_type": "markdown",
   "source": "                                                         CHI SQUARE TEST",
   "id": "17f83b4fc19220c3"
  },
  {
   "metadata": {
    "ExecuteTime": {
     "end_time": "2025-06-21T11:01:37.362155Z",
     "start_time": "2025-06-21T11:01:37.356912Z"
    }
   },
   "cell_type": "code",
   "source": [
    "# 120 Rolls of Dice and we observed these values, And expect the others\n",
    "# So have to check weather the dice is GOOD or not\n",
    "Obs=np.array([22,17,20,26,22,13])\n",
    "Exp=np.array([20,20,20,20,20,20])\n",
    "Chi_table=11.09"
   ],
   "id": "339917162d7b0659",
   "outputs": [],
   "execution_count": 20
  },
  {
   "metadata": {
    "ExecuteTime": {
     "end_time": "2025-06-21T11:08:43.341107Z",
     "start_time": "2025-06-21T11:08:43.325311Z"
    }
   },
   "cell_type": "code",
   "source": [
    "Chi_cal=np.sum(np.square(Obs-Exp)/Exp)\n",
    "Chi_cal"
   ],
   "id": "7fac6276a4c88d7b",
   "outputs": [
    {
     "data": {
      "text/plain": [
       "np.float64(5.1000000000000005)"
      ]
     },
     "execution_count": 28,
     "metadata": {},
     "output_type": "execute_result"
    }
   ],
   "execution_count": 28
  },
  {
   "metadata": {},
   "cell_type": "markdown",
   "source": [
    "Ho will believe that DICE IS FAIR\n",
    "\n",
    " Ha will believe that DICE is not FAIR"
   ],
   "id": "9cbceb8e2da9c67f"
  },
  {
   "metadata": {
    "ExecuteTime": {
     "end_time": "2025-06-21T11:01:37.473977Z",
     "start_time": "2025-06-21T11:01:37.469685Z"
    }
   },
   "cell_type": "code",
   "source": [
    "if Chi_table<Chi_cal:\n",
    "    print(\"Ha is right\")\n",
    "else:\n",
    "    print(\"Ho is right\")"
   ],
   "id": "519314793bde1224",
   "outputs": [
    {
     "name": "stdout",
     "output_type": "stream",
     "text": [
      "Ho is right\n"
     ]
    }
   ],
   "execution_count": 22
  },
  {
   "metadata": {
    "ExecuteTime": {
     "end_time": "2025-06-21T11:01:37.540017Z",
     "start_time": "2025-06-21T11:01:37.536893Z"
    }
   },
   "cell_type": "code",
   "source": "",
   "id": "b698d30967d7f3c7",
   "outputs": [],
   "execution_count": null
  },
  {
   "metadata": {},
   "cell_type": "markdown",
   "source": [
    "                                            CHI SQUARE TEST for checking the Association BETEEN TWO\n",
    "                                            Have to check weather there is a Association between OBS data and EXP data or not\n",
    "                                            So Ho will say there is no Association there\n",
    "                                            Ha will say there is a Association"
   ],
   "id": "3e0155a37bd066c3"
  },
  {
   "metadata": {
    "ExecuteTime": {
     "end_time": "2025-06-21T11:38:32.359198Z",
     "start_time": "2025-06-21T11:38:32.327816Z"
    }
   },
   "cell_type": "code",
   "source": [
    "row1=np.array([40,45,25,10])\n",
    "row2=np.array([35,30,20,30])\n",
    "Obs1=np.array([40,45,25,10,35,30,20,30])\n",
    "Obs1"
   ],
   "id": "75bcb17ecfc32856",
   "outputs": [
    {
     "data": {
      "text/plain": [
       "array([40, 45, 25, 10, 35, 30, 20, 30])"
      ]
     },
     "execution_count": 78,
     "metadata": {},
     "output_type": "execute_result"
    }
   ],
   "execution_count": 78
  },
  {
   "metadata": {
    "ExecuteTime": {
     "end_time": "2025-06-21T11:38:32.935641Z",
     "start_time": "2025-06-21T11:38:32.914498Z"
    }
   },
   "cell_type": "code",
   "source": [
    "chi_table=st.chi2.ppf(1-0.05,3)    # 3 is Degree of freedom(DF)...............find by n-1 usually.....but with two OBSevant arrays it was find by (number of column-1)(number of rows-1)\n",
    "chi_table"
   ],
   "id": "8aedaea769eb3e59",
   "outputs": [
    {
     "data": {
      "text/plain": [
       "np.float64(7.814727903251179)"
      ]
     },
     "execution_count": 79,
     "metadata": {},
     "output_type": "execute_result"
    }
   ],
   "execution_count": 79
  },
  {
   "metadata": {},
   "cell_type": "markdown",
   "source": "Still have to find EXCPECTED VALUES first",
   "id": "21baeff7c0bf28b9"
  },
  {
   "metadata": {
    "ExecuteTime": {
     "end_time": "2025-06-21T11:38:33.933319Z",
     "start_time": "2025-06-21T11:38:33.923176Z"
    }
   },
   "cell_type": "code",
   "source": [
    "sum_r1=np.sum(row1)\n",
    "sum_r2=np.sum(row2)\n",
    "sum_rows=np.array([sum_r1,sum_r2])\n",
    "sum_rows\n"
   ],
   "id": "572f8862a6c613d2",
   "outputs": [
    {
     "data": {
      "text/plain": [
       "array([120, 115])"
      ]
     },
     "execution_count": 80,
     "metadata": {},
     "output_type": "execute_result"
    }
   ],
   "execution_count": 80
  },
  {
   "metadata": {
    "ExecuteTime": {
     "end_time": "2025-06-21T11:38:34.492538Z",
     "start_time": "2025-06-21T11:38:34.483993Z"
    }
   },
   "cell_type": "code",
   "source": [
    "sum_col=row1+row2\n",
    "sum_col"
   ],
   "id": "517cc6f64deab672",
   "outputs": [
    {
     "data": {
      "text/plain": [
       "array([75, 75, 45, 40])"
      ]
     },
     "execution_count": 81,
     "metadata": {},
     "output_type": "execute_result"
    }
   ],
   "execution_count": 81
  },
  {
   "metadata": {
    "ExecuteTime": {
     "end_time": "2025-06-21T11:38:35.027818Z",
     "start_time": "2025-06-21T11:38:35.022223Z"
    }
   },
   "cell_type": "code",
   "source": [
    "Exp1=[\n",
    "]\n",
    "for i in sum_rows:\n",
    "    for j in sum_col:\n",
    "        k=(i*j)/235\n",
    "        Exp1=np.append(Exp1,k)"
   ],
   "id": "81d2679d70fed7b7",
   "outputs": [],
   "execution_count": 82
  },
  {
   "metadata": {
    "ExecuteTime": {
     "end_time": "2025-06-21T11:38:35.700397Z",
     "start_time": "2025-06-21T11:38:35.692550Z"
    }
   },
   "cell_type": "code",
   "source": [
    "chi_cal=np.sum(np.square(Obs-Exp1)/Exp1)\n",
    "chi_cal"
   ],
   "id": "c839e0694fc3c22a",
   "outputs": [
    {
     "data": {
      "text/plain": [
       "np.float64(13.788747987117553)"
      ]
     },
     "execution_count": 83,
     "metadata": {},
     "output_type": "execute_result"
    }
   ],
   "execution_count": 83
  },
  {
   "metadata": {
    "ExecuteTime": {
     "end_time": "2025-06-21T11:38:36.577775Z",
     "start_time": "2025-06-21T11:38:36.571810Z"
    }
   },
   "cell_type": "code",
   "source": [
    "if chi_table<chi_cal:\n",
    "    print(\"Ha is right\")\n",
    "else:\n",
    "    print(\"Ho is right\")"
   ],
   "id": "336ad6530af827b",
   "outputs": [
    {
     "name": "stdout",
     "output_type": "stream",
     "text": [
      "Ha is right\n"
     ]
    }
   ],
   "execution_count": 84
  },
  {
   "metadata": {},
   "cell_type": "markdown",
   "source": "There is a Association",
   "id": "7ca9577a16a4a754"
  },
  {
   "metadata": {},
   "cell_type": "code",
   "outputs": [],
   "execution_count": null,
   "source": "",
   "id": "dc1b1fdcdb4e003b"
  }
 ],
 "metadata": {
  "kernelspec": {
   "display_name": "Python 3",
   "language": "python",
   "name": "python3"
  },
  "language_info": {
   "codemirror_mode": {
    "name": "ipython",
    "version": 2
   },
   "file_extension": ".py",
   "mimetype": "text/x-python",
   "name": "python",
   "nbconvert_exporter": "python",
   "pygments_lexer": "ipython2",
   "version": "2.7.6"
  }
 },
 "nbformat": 4,
 "nbformat_minor": 5
}
