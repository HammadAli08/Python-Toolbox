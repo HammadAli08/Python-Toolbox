{
 "cells": [
  {
   "cell_type": "code",
   "id": "initial_id",
   "metadata": {
    "collapsed": true,
    "ExecuteTime": {
     "end_time": "2025-06-20T02:46:55.676567Z",
     "start_time": "2025-06-20T02:46:55.655121Z"
    }
   },
   "source": [
    "import numpy as np\n",
    "import pandas as pd\n",
    "import matplotlib.pyplot as plt\n",
    "import seaborn as sns\n",
    "import scipy.stats as st\n"
   ],
   "outputs": [],
   "execution_count": 122
  },
  {
   "metadata": {
    "ExecuteTime": {
     "end_time": "2025-06-20T02:49:08.392989Z",
     "start_time": "2025-06-20T02:49:07.963674Z"
    }
   },
   "cell_type": "code",
   "source": [
    "Data=pd.read_csv(\"/home/hammadali08/Videos/Moviesdata.csv\")\n",
    "data=pd.read_csv(\"/home/hammadali08/Videos/Students.csv\")"
   ],
   "id": "f8b862fa2d68f693",
   "outputs": [],
   "execution_count": 158
  },
  {
   "metadata": {
    "ExecuteTime": {
     "end_time": "2025-06-20T02:49:01.696201Z",
     "start_time": "2025-06-20T02:49:01.678279Z"
    }
   },
   "cell_type": "code",
   "source": [
    "data.head(\n",
    ")"
   ],
   "id": "8fa6dfdc7b394aeb",
   "outputs": [
    {
     "data": {
      "text/plain": [
       "            Name  Age  CGPA (out of 4.00)  Daily Study Hours  \\\n",
       "0     Zain Tariq   24                2.61                1.3   \n",
       "1   Fatima Nawaz   21                3.07                2.4   \n",
       "2   Ahmed Sheikh   22                2.65                5.9   \n",
       "3   Zain Qureshi   24                3.66                4.9   \n",
       "4  Fatima Sheikh   20                2.54                1.3   \n",
       "\n",
       "  Sports Involvement  IQ Score  \n",
       "0                Yes       112  \n",
       "1                 No       126  \n",
       "2                 No        97  \n",
       "3                Yes       102  \n",
       "4                 No        97  "
      ],
      "text/html": [
       "<div>\n",
       "<style scoped>\n",
       "    .dataframe tbody tr th:only-of-type {\n",
       "        vertical-align: middle;\n",
       "    }\n",
       "\n",
       "    .dataframe tbody tr th {\n",
       "        vertical-align: top;\n",
       "    }\n",
       "\n",
       "    .dataframe thead th {\n",
       "        text-align: right;\n",
       "    }\n",
       "</style>\n",
       "<table border=\"1\" class=\"dataframe\">\n",
       "  <thead>\n",
       "    <tr style=\"text-align: right;\">\n",
       "      <th></th>\n",
       "      <th>Name</th>\n",
       "      <th>Age</th>\n",
       "      <th>CGPA (out of 4.00)</th>\n",
       "      <th>Daily Study Hours</th>\n",
       "      <th>Sports Involvement</th>\n",
       "      <th>IQ Score</th>\n",
       "    </tr>\n",
       "  </thead>\n",
       "  <tbody>\n",
       "    <tr>\n",
       "      <th>0</th>\n",
       "      <td>Zain Tariq</td>\n",
       "      <td>24</td>\n",
       "      <td>2.61</td>\n",
       "      <td>1.3</td>\n",
       "      <td>Yes</td>\n",
       "      <td>112</td>\n",
       "    </tr>\n",
       "    <tr>\n",
       "      <th>1</th>\n",
       "      <td>Fatima Nawaz</td>\n",
       "      <td>21</td>\n",
       "      <td>3.07</td>\n",
       "      <td>2.4</td>\n",
       "      <td>No</td>\n",
       "      <td>126</td>\n",
       "    </tr>\n",
       "    <tr>\n",
       "      <th>2</th>\n",
       "      <td>Ahmed Sheikh</td>\n",
       "      <td>22</td>\n",
       "      <td>2.65</td>\n",
       "      <td>5.9</td>\n",
       "      <td>No</td>\n",
       "      <td>97</td>\n",
       "    </tr>\n",
       "    <tr>\n",
       "      <th>3</th>\n",
       "      <td>Zain Qureshi</td>\n",
       "      <td>24</td>\n",
       "      <td>3.66</td>\n",
       "      <td>4.9</td>\n",
       "      <td>Yes</td>\n",
       "      <td>102</td>\n",
       "    </tr>\n",
       "    <tr>\n",
       "      <th>4</th>\n",
       "      <td>Fatima Sheikh</td>\n",
       "      <td>20</td>\n",
       "      <td>2.54</td>\n",
       "      <td>1.3</td>\n",
       "      <td>No</td>\n",
       "      <td>97</td>\n",
       "    </tr>\n",
       "  </tbody>\n",
       "</table>\n",
       "</div>"
      ]
     },
     "execution_count": 155,
     "metadata": {},
     "output_type": "execute_result"
    }
   ],
   "execution_count": 155
  },
  {
   "metadata": {
    "ExecuteTime": {
     "end_time": "2025-06-20T02:49:02.991998Z",
     "start_time": "2025-06-20T02:49:02.969455Z"
    }
   },
   "cell_type": "code",
   "source": "data.info()",
   "id": "960c5ad25f3b514c",
   "outputs": [
    {
     "name": "stdout",
     "output_type": "stream",
     "text": [
      "<class 'pandas.core.frame.DataFrame'>\n",
      "RangeIndex: 500 entries, 0 to 499\n",
      "Data columns (total 6 columns):\n",
      " #   Column              Non-Null Count  Dtype  \n",
      "---  ------              --------------  -----  \n",
      " 0   Name                500 non-null    object \n",
      " 1   Age                 500 non-null    int64  \n",
      " 2   CGPA (out of 4.00)  500 non-null    float64\n",
      " 3   Daily Study Hours   500 non-null    float64\n",
      " 4   Sports Involvement  500 non-null    object \n",
      " 5   IQ Score            500 non-null    int64  \n",
      "dtypes: float64(2), int64(2), object(2)\n",
      "memory usage: 23.6+ KB\n"
     ]
    }
   ],
   "execution_count": 156
  },
  {
   "metadata": {
    "ExecuteTime": {
     "end_time": "2025-06-20T02:49:05.415976Z",
     "start_time": "2025-06-20T02:49:05.385175Z"
    }
   },
   "cell_type": "code",
   "source": [
    "datacov=data.select_dtypes(['int64','float64']).cov()\n",
    "datacov"
   ],
   "id": "97500f27547d42d5",
   "outputs": [
    {
     "data": {
      "text/plain": [
       "                         Age  CGPA (out of 4.00)  Daily Study Hours  \\\n",
       "Age                 4.112108           -0.054628           0.242644   \n",
       "CGPA (out of 4.00) -0.054628            0.315532          -0.050276   \n",
       "Daily Study Hours   0.242644           -0.050276           4.946498   \n",
       "IQ Score           -0.666601           -0.091181          -0.281982   \n",
       "\n",
       "                      IQ Score  \n",
       "Age                  -0.666601  \n",
       "CGPA (out of 4.00)   -0.091181  \n",
       "Daily Study Hours    -0.281982  \n",
       "IQ Score            203.664365  "
      ],
      "text/html": [
       "<div>\n",
       "<style scoped>\n",
       "    .dataframe tbody tr th:only-of-type {\n",
       "        vertical-align: middle;\n",
       "    }\n",
       "\n",
       "    .dataframe tbody tr th {\n",
       "        vertical-align: top;\n",
       "    }\n",
       "\n",
       "    .dataframe thead th {\n",
       "        text-align: right;\n",
       "    }\n",
       "</style>\n",
       "<table border=\"1\" class=\"dataframe\">\n",
       "  <thead>\n",
       "    <tr style=\"text-align: right;\">\n",
       "      <th></th>\n",
       "      <th>Age</th>\n",
       "      <th>CGPA (out of 4.00)</th>\n",
       "      <th>Daily Study Hours</th>\n",
       "      <th>IQ Score</th>\n",
       "    </tr>\n",
       "  </thead>\n",
       "  <tbody>\n",
       "    <tr>\n",
       "      <th>Age</th>\n",
       "      <td>4.112108</td>\n",
       "      <td>-0.054628</td>\n",
       "      <td>0.242644</td>\n",
       "      <td>-0.666601</td>\n",
       "    </tr>\n",
       "    <tr>\n",
       "      <th>CGPA (out of 4.00)</th>\n",
       "      <td>-0.054628</td>\n",
       "      <td>0.315532</td>\n",
       "      <td>-0.050276</td>\n",
       "      <td>-0.091181</td>\n",
       "    </tr>\n",
       "    <tr>\n",
       "      <th>Daily Study Hours</th>\n",
       "      <td>0.242644</td>\n",
       "      <td>-0.050276</td>\n",
       "      <td>4.946498</td>\n",
       "      <td>-0.281982</td>\n",
       "    </tr>\n",
       "    <tr>\n",
       "      <th>IQ Score</th>\n",
       "      <td>-0.666601</td>\n",
       "      <td>-0.091181</td>\n",
       "      <td>-0.281982</td>\n",
       "      <td>203.664365</td>\n",
       "    </tr>\n",
       "  </tbody>\n",
       "</table>\n",
       "</div>"
      ]
     },
     "execution_count": 157,
     "metadata": {},
     "output_type": "execute_result"
    }
   ],
   "execution_count": 157
  },
  {
   "metadata": {
    "ExecuteTime": {
     "end_time": "2025-06-20T02:47:00.554390Z",
     "start_time": "2025-06-20T02:47:00.535166Z"
    }
   },
   "cell_type": "code",
   "source": [
    "\n",
    "datacorr=data.select_dtypes(['int64','float64']).corr()\n",
    "datacorr\n"
   ],
   "id": "fd1b785dfb0e5d23",
   "outputs": [
    {
     "data": {
      "text/plain": [
       "                         Age  CGPA (out of 4.00)  Daily Study Hours  IQ Score\n",
       "Age                 1.000000           -0.047958           0.053801 -0.023034\n",
       "CGPA (out of 4.00) -0.047958            1.000000          -0.040243 -0.011374\n",
       "Daily Study Hours   0.053801           -0.040243           1.000000 -0.008884\n",
       "IQ Score           -0.023034           -0.011374          -0.008884  1.000000"
      ],
      "text/html": [
       "<div>\n",
       "<style scoped>\n",
       "    .dataframe tbody tr th:only-of-type {\n",
       "        vertical-align: middle;\n",
       "    }\n",
       "\n",
       "    .dataframe tbody tr th {\n",
       "        vertical-align: top;\n",
       "    }\n",
       "\n",
       "    .dataframe thead th {\n",
       "        text-align: right;\n",
       "    }\n",
       "</style>\n",
       "<table border=\"1\" class=\"dataframe\">\n",
       "  <thead>\n",
       "    <tr style=\"text-align: right;\">\n",
       "      <th></th>\n",
       "      <th>Age</th>\n",
       "      <th>CGPA (out of 4.00)</th>\n",
       "      <th>Daily Study Hours</th>\n",
       "      <th>IQ Score</th>\n",
       "    </tr>\n",
       "  </thead>\n",
       "  <tbody>\n",
       "    <tr>\n",
       "      <th>Age</th>\n",
       "      <td>1.000000</td>\n",
       "      <td>-0.047958</td>\n",
       "      <td>0.053801</td>\n",
       "      <td>-0.023034</td>\n",
       "    </tr>\n",
       "    <tr>\n",
       "      <th>CGPA (out of 4.00)</th>\n",
       "      <td>-0.047958</td>\n",
       "      <td>1.000000</td>\n",
       "      <td>-0.040243</td>\n",
       "      <td>-0.011374</td>\n",
       "    </tr>\n",
       "    <tr>\n",
       "      <th>Daily Study Hours</th>\n",
       "      <td>0.053801</td>\n",
       "      <td>-0.040243</td>\n",
       "      <td>1.000000</td>\n",
       "      <td>-0.008884</td>\n",
       "    </tr>\n",
       "    <tr>\n",
       "      <th>IQ Score</th>\n",
       "      <td>-0.023034</td>\n",
       "      <td>-0.011374</td>\n",
       "      <td>-0.008884</td>\n",
       "      <td>1.000000</td>\n",
       "    </tr>\n",
       "  </tbody>\n",
       "</table>\n",
       "</div>"
      ]
     },
     "execution_count": 127,
     "metadata": {},
     "output_type": "execute_result"
    }
   ],
   "execution_count": 127
  },
  {
   "metadata": {
    "ExecuteTime": {
     "end_time": "2025-06-20T02:47:02.872768Z",
     "start_time": "2025-06-20T02:47:02.611936Z"
    }
   },
   "cell_type": "code",
   "source": [
    "\n",
    "sns.heatmap(datacov,annot=True,linecolor=\"white\",cmap=\"YlGnBu\")\n",
    "plt.title(\"Correlation Heatmap\")\n",
    "plt.show()"
   ],
   "id": "1bb2b6ffb4b2ab46",
   "outputs": [
    {
     "data": {
      "text/plain": [
       "<Figure size 640x480 with 2 Axes>"
      ],
      "image/png": "[encoded data removed]"
     },
     "metadata": {},
     "output_type": "display_data"
    }
   ],
   "execution_count": 128
  },
  {
   "metadata": {
    "ExecuteTime": {
     "end_time": "2025-06-20T02:47:03.841340Z",
     "start_time": "2025-06-20T02:47:03.594951Z"
    }
   },
   "cell_type": "code",
   "source": [
    "sns.heatmap(datacorr,annot=True,linecolor=\"Blue\",cmap=\"YlGnBu\")\n",
    "plt.title(\"Correlation Heatmap\")\n",
    "plt.show()"
   ],
   "id": "775c4e22f49cd79c",
   "outputs": [
    {
     "data": {
      "text/plain": [
       "<Figure size 640x480 with 2 Axes>"
      ],
      "image/png": "[encoded data removed]"
     },
     "metadata": {},
     "output_type": "display_data"
    }
   ],
   "execution_count": 129
  },
  {
   "metadata": {},
   "cell_type": "markdown",
   "source": "                                            # CENTRAL LIMIT THEORAM(CLT)",
   "id": "f7c0037e2fb492c8"
  },
  {
   "metadata": {
    "ExecuteTime": {
     "end_time": "2025-06-20T03:09:19.645191Z",
     "start_time": "2025-06-20T03:09:19.546301Z"
    }
   },
   "cell_type": "code",
   "source": [
    "pop_data=[np.random.randint(10,100) for i in range(10000)]\n",
    "pop_data"
   ],
   "id": "7dd0fba9e0a2d071",
   "outputs": [
    {
     "data": {
      "text/plain": [
       "[57,\n",
       " 35,\n",
       " 56,\n",
       " 62,\n",
       " 58,\n",
       " 42,\n",
       " 12,\n",
       " 46,\n",
       " 86,\n",
       " 55,\n",
       " 91,\n",
       " 25,\n",
       " 65,\n",
       " 11,\n",
       " 23,\n",
       " 66,\n",
       " 87,\n",
       " 44,\n",
       " 31,\n",
       " 63,\n",
       " 87,\n",
       " 73,\n",
       " 74,\n",
       " 51,\n",
       " 46,\n",
       " 19,\n",
       " 50,\n",
       " 34,\n",
       " 12,\n",
       " 75,\n",
       " 82,\n",
       " 51,\n",
       " 67,\n",
       " 18,\n",
       " 55,\n",
       " 44,\n",
       " 64,\n",
       " 45,\n",
       " 62,\n",
       " 47,\n",
       " 36,\n",
       " 64,\n",
       " 21,\n",
       " 67,\n",
       " 65,\n",
       " 57,\n",
       " 77,\n",
       " 66,\n",
       " 76,\n",
       " 28,\n",
       " 87,\n",
       " 67,\n",
       " 99,\n",
       " 21,\n",
       " 42,\n",
       " 36,\n",
       " 33,\n",
       " 43,\n",
       " 44,\n",
       " 11,\n",
       " 97,\n",
       " 39,\n",
       " 83,\n",
       " 83,\n",
       " 76,\n",
       " 78,\n",
       " 69,\n",
       " 41,\n",
       " 63,\n",
       " 44,\n",
       " 33,\n",
       " 28,\n",
       " 43,\n",
       " 70,\n",
       " 17,\n",
       " 30,\n",
       " 22,\n",
       " 52,\n",
       " 55,\n",
       " 96,\n",
       " 92,\n",
       " 99,\n",
       " 31,\n",
       " 22,\n",
       " 32,\n",
       " 29,\n",
       " 28,\n",
       " 76,\n",
       " 56,\n",
       " 79,\n",
       " 80,\n",
       " 46,\n",
       " 83,\n",
       " 26,\n",
       " 16,\n",
       " 49,\n",
       " 13,\n",
       " 28,\n",
       " 73,\n",
       " 14,\n",
       " 84,\n",
       " 35,\n",
       " 77,\n",
       " 96,\n",
       " 43,\n",
       " 64,\n",
       " 18,\n",
       " 40,\n",
       " 42,\n",
       " 73,\n",
       " 19,\n",
       " 17,\n",
       " 27,\n",
       " 90,\n",
       " 88,\n",
       " 79,\n",
       " 38,\n",
       " 40,\n",
       " 51,\n",
       " 49,\n",
       " 60,\n",
       " 96,\n",
       " 54,\n",
       " 59,\n",
       " 73,\n",
       " 22,\n",
       " 52,\n",
       " 73,\n",
       " 43,\n",
       " 19,\n",
       " 24,\n",
       " 39,\n",
       " 68,\n",
       " 66,\n",
       " 89,\n",
       " 83,\n",
       " 39,\n",
       " 99,\n",
       " 65,\n",
       " 49,\n",
       " 51,\n",
       " 26,\n",
       " 89,\n",
       " 91,\n",
       " 52,\n",
       " 23,\n",
       " 59,\n",
       " 32,\n",
       " 58,\n",
       " 21,\n",
       " 96,\n",
       " 22,\n",
       " 36,\n",
       " 90,\n",
       " 99,\n",
       " 96,\n",
       " 85,\n",
       " 67,\n",
       " 65,\n",
       " 45,\n",
       " 99,\n",
       " 70,\n",
       " 35,\n",
       " 76,\n",
       " 14,\n",
       " 14,\n",
       " 79,\n",
       " 61,\n",
       " 47,\n",
       " 79,\n",
       " 57,\n",
       " 91,\n",
       " 63,\n",
       " 48,\n",
       " 59,\n",
       " 77,\n",
       " 23,\n",
       " 45,\n",
       " 42,\n",
       " 23,\n",
       " 71,\n",
       " 53,\n",
       " 30,\n",
       " 94,\n",
       " 94,\n",
       " 77,\n",
       " 75,\n",
       " 62,\n",
       " 18,\n",
       " 96,\n",
       " 71,\n",
       " 24,\n",
       " 72,\n",
       " 67,\n",
       " 53,\n",
       " 23,\n",
       " 91,\n",
       " 22,\n",
       " 40,\n",
       " 39,\n",
       " 69,\n",
       " 32,\n",
       " 16,\n",
       " 49,\n",
       " 77,\n",
       " 28,\n",
       " 78,\n",
       " 19,\n",
       " 54,\n",
       " 96,\n",
       " 79,\n",
       " 51,\n",
       " 32,\n",
       " 18,\n",
       " 30,\n",
       " 40,\n",
       " 92,\n",
       " 36,\n",
       " 71,\n",
       " 97,\n",
       " 18,\n",
       " 65,\n",
       " 89,\n",
       " 26,\n",
       " 44,\n",
       " 93,\n",
       " 72,\n",
       " 41,\n",
       " 53,\n",
       " 12,\n",
       " 54,\n",
       " 17,\n",
       " 32,\n",
       " 70,\n",
       " 49,\n",
       " 63,\n",
       " 15,\n",
       " 33,\n",
       " 97,\n",
       " 84,\n",
       " 55,\n",
       " 31,\n",
       " 58,\n",
       " 70,\n",
       " 41,\n",
       " 68,\n",
       " 48,\n",
       " 15,\n",
       " 67,\n",
       " 89,\n",
       " 58,\n",
       " 83,\n",
       " 86,\n",
       " 12,\n",
       " 35,\n",
       " 55,\n",
       " 31,\n",
       " 11,\n",
       " 41,\n",
       " 19,\n",
       " 48,\n",
       " 72,\n",
       " 72,\n",
       " 72,\n",
       " 94,\n",
       " 54,\n",
       " 24,\n",
       " 29,\n",
       " 19,\n",
       " 78,\n",
       " 64,\n",
       " 41,\n",
       " 10,\n",
       " 17,\n",
       " 75,\n",
       " 90,\n",
       " 24,\n",
       " 85,\n",
       " 80,\n",
       " 44,\n",
       " 21,\n",
       " 81,\n",
       " 95,\n",
       " 28,\n",
       " 57,\n",
       " 87,\n",
       " 40,\n",
       " 17,\n",
       " 70,\n",
       " 10,\n",
       " 74,\n",
       " 80,\n",
       " 47,\n",
       " 17,\n",
       " 96,\n",
       " 22,\n",
       " 30,\n",
       " 44,\n",
       " 50,\n",
       " 50,\n",
       " 70,\n",
       " 15,\n",
       " 43,\n",
       " 58,\n",
       " 68,\n",
       " 56,\n",
       " 28,\n",
       " 34,\n",
       " 33,\n",
       " 79,\n",
       " 40,\n",
       " 51,\n",
       " 41,\n",
       " 28,\n",
       " 33,\n",
       " 82,\n",
       " 18,\n",
       " 23,\n",
       " 61,\n",
       " 51,\n",
       " 55,\n",
       " 14,\n",
       " 73,\n",
       " 19,\n",
       " 56,\n",
       " 99,\n",
       " 77,\n",
       " 27,\n",
       " 16,\n",
       " 52,\n",
       " 76,\n",
       " 17,\n",
       " 81,\n",
       " 38,\n",
       " 11,\n",
       " 19,\n",
       " 73,\n",
       " 83,\n",
       " 96,\n",
       " 91,\n",
       " 77,\n",
       " 58,\n",
       " 52,\n",
       " 97,\n",
       " 99,\n",
       " 29,\n",
       " 98,\n",
       " 79,\n",
       " 97,\n",
       " 88,\n",
       " 83,\n",
       " 41,\n",
       " 98,\n",
       " 11,\n",
       " 75,\n",
       " 35,\n",
       " 73,\n",
       " 49,\n",
       " 62,\n",
       " 36,\n",
       " 29,\n",
       " 33,\n",
       " 18,\n",
       " 76,\n",
       " 65,\n",
       " 32,\n",
       " 25,\n",
       " 63,\n",
       " 84,\n",
       " 41,\n",
       " 57,\n",
       " 28,\n",
       " 89,\n",
       " 57,\n",
       " 68,\n",
       " 86,\n",
       " 53,\n",
       " 51,\n",
       " 37,\n",
       " 43,\n",
       " 70,\n",
       " 74,\n",
       " 32,\n",
       " 22,\n",
       " 25,\n",
       " 22,\n",
       " 66,\n",
       " 13,\n",
       " 37,\n",
       " 28,\n",
       " 23,\n",
       " 58,\n",
       " 26,\n",
       " 36,\n",
       " 11,\n",
       " 76,\n",
       " 40,\n",
       " 36,\n",
       " 66,\n",
       " 23,\n",
       " 69,\n",
       " 65,\n",
       " 21,\n",
       " 16,\n",
       " 81,\n",
       " 81,\n",
       " 30,\n",
       " 26,\n",
       " 49,\n",
       " 14,\n",
       " 96,\n",
       " 79,\n",
       " 64,\n",
       " 17,\n",
       " 56,\n",
       " 27,\n",
       " 12,\n",
       " 45,\n",
       " 33,\n",
       " 49,\n",
       " 29,\n",
       " 96,\n",
       " 15,\n",
       " 74,\n",
       " 32,\n",
       " 62,\n",
       " 35,\n",
       " 56,\n",
       " 26,\n",
       " 51,\n",
       " 24,\n",
       " 39,\n",
       " 91,\n",
       " 31,\n",
       " 21,\n",
       " 77,\n",
       " 33,\n",
       " 10,\n",
       " 87,\n",
       " 16,\n",
       " 12,\n",
       " 24,\n",
       " 51,\n",
       " 10,\n",
       " 58,\n",
       " 65,\n",
       " 71,\n",
       " 46,\n",
       " 41,\n",
       " 24,\n",
       " 57,\n",
       " 19,\n",
       " 23,\n",
       " 30,\n",
       " 32,\n",
       " 25,\n",
       " 48,\n",
       " 37,\n",
       " 26,\n",
       " 65,\n",
       " 39,\n",
       " 93,\n",
       " 71,\n",
       " 46,\n",
       " 41,\n",
       " 37,\n",
       " 76,\n",
       " 70,\n",
       " 58,\n",
       " 57,\n",
       " 75,\n",
       " 80,\n",
       " 45,\n",
       " 73,\n",
       " 68,\n",
       " 88,\n",
       " 75,\n",
       " 17,\n",
       " 85,\n",
       " 67,\n",
       " 42,\n",
       " 91,\n",
       " 83,\n",
       " 93,\n",
       " 97,\n",
       " 55,\n",
       " 70,\n",
       " 62,\n",
       " 23,\n",
       " 97,\n",
       " 95,\n",
       " 55,\n",
       " 24,\n",
       " 23,\n",
       " 45,\n",
       " 37,\n",
       " 21,\n",
       " 96,\n",
       " 69,\n",
       " 81,\n",
       " 81,\n",
       " 81,\n",
       " 71,\n",
       " 50,\n",
       " 17,\n",
       " 28,\n",
       " 62,\n",
       " 97,\n",
       " 30,\n",
       " 46,\n",
       " 93,\n",
       " 94,\n",
       " 98,\n",
       " 77,\n",
       " 25,\n",
       " 46,\n",
       " 42,\n",
       " 73,\n",
       " 62,\n",
       " 93,\n",
       " 82,\n",
       " 97,\n",
       " 16,\n",
       " 39,\n",
       " 80,\n",
       " 12,\n",
       " 25,\n",
       " 26,\n",
       " 66,\n",
       " 38,\n",
       " 46,\n",
       " 21,\n",
       " 47,\n",
       " 32,\n",
       " 93,\n",
       " 67,\n",
       " 86,\n",
       " 14,\n",
       " 66,\n",
       " 86,\n",
       " 72,\n",
       " 21,\n",
       " 90,\n",
       " 61,\n",
       " 70,\n",
       " 56,\n",
       " 29,\n",
       " 59,\n",
       " 59,\n",
       " 12,\n",
       " 53,\n",
       " 78,\n",
       " 76,\n",
       " 10,\n",
       " 51,\n",
       " 78,\n",
       " 60,\n",
       " 92,\n",
       " 46,\n",
       " 67,\n",
       " 33,\n",
       " 57,\n",
       " 50,\n",
       " 69,\n",
       " 44,\n",
       " 44,\n",
       " 14,\n",
       " 11,\n",
       " 46,\n",
       " 36,\n",
       " 79,\n",
       " 69,\n",
       " 76,\n",
       " 56,\n",
       " 28,\n",
       " 88,\n",
       " 54,\n",
       " 18,\n",
       " 20,\n",
       " 33,\n",
       " 95,\n",
       " 83,\n",
       " 21,\n",
       " 79,\n",
       " 20,\n",
       " 23,\n",
       " 77,\n",
       " 72,\n",
       " 71,\n",
       " 19,\n",
       " 65,\n",
       " 78,\n",
       " 25,\n",
       " 56,\n",
       " 41,\n",
       " 65,\n",
       " 59,\n",
       " 23,\n",
       " 79,\n",
       " 61,\n",
       " 44,\n",
       " 66,\n",
       " 13,\n",
       " 96,\n",
       " 31,\n",
       " 76,\n",
       " 56,\n",
       " 14,\n",
       " 86,\n",
       " 20,\n",
       " 98,\n",
       " 68,\n",
       " 48,\n",
       " 66,\n",
       " 43,\n",
       " 15,\n",
       " 65,\n",
       " 87,\n",
       " 75,\n",
       " 57,\n",
       " 41,\n",
       " 82,\n",
       " 99,\n",
       " 81,\n",
       " 91,\n",
       " 94,\n",
       " 76,\n",
       " 76,\n",
       " 16,\n",
       " 70,\n",
       " 37,\n",
       " 88,\n",
       " 15,\n",
       " 21,\n",
       " 59,\n",
       " 34,\n",
       " 28,\n",
       " 70,\n",
       " 61,\n",
       " 43,\n",
       " 90,\n",
       " 93,\n",
       " 32,\n",
       " 89,\n",
       " 88,\n",
       " 85,\n",
       " 36,\n",
       " 59,\n",
       " 57,\n",
       " 39,\n",
       " 56,\n",
       " 92,\n",
       " 68,\n",
       " 20,\n",
       " 37,\n",
       " 74,\n",
       " 44,\n",
       " 48,\n",
       " 89,\n",
       " 47,\n",
       " 82,\n",
       " 64,\n",
       " 48,\n",
       " 55,\n",
       " 37,\n",
       " 34,\n",
       " 76,\n",
       " 91,\n",
       " 41,\n",
       " 46,\n",
       " 12,\n",
       " 19,\n",
       " 14,\n",
       " 26,\n",
       " 56,\n",
       " 21,\n",
       " 43,\n",
       " 12,\n",
       " 99,\n",
       " 21,\n",
       " 41,\n",
       " 46,\n",
       " 71,\n",
       " 48,\n",
       " 73,\n",
       " 55,\n",
       " 78,\n",
       " 50,\n",
       " 31,\n",
       " 27,\n",
       " 91,\n",
       " 72,\n",
       " 83,\n",
       " 73,\n",
       " 12,\n",
       " 27,\n",
       " 17,\n",
       " 78,\n",
       " 10,\n",
       " 19,\n",
       " 33,\n",
       " 77,\n",
       " 70,\n",
       " 18,\n",
       " 83,\n",
       " 51,\n",
       " 79,\n",
       " 57,\n",
       " 26,\n",
       " 93,\n",
       " 41,\n",
       " 29,\n",
       " 89,\n",
       " 72,\n",
       " 66,\n",
       " 49,\n",
       " 59,\n",
       " 32,\n",
       " 94,\n",
       " 20,\n",
       " 43,\n",
       " 89,\n",
       " 25,\n",
       " 69,\n",
       " 37,\n",
       " 74,\n",
       " 45,\n",
       " 20,\n",
       " 71,\n",
       " 48,\n",
       " 28,\n",
       " 20,\n",
       " 52,\n",
       " 26,\n",
       " 27,\n",
       " 45,\n",
       " 77,\n",
       " 32,\n",
       " 84,\n",
       " 14,\n",
       " 71,\n",
       " 28,\n",
       " 54,\n",
       " 20,\n",
       " 84,\n",
       " 98,\n",
       " 61,\n",
       " 11,\n",
       " 79,\n",
       " 92,\n",
       " 29,\n",
       " 17,\n",
       " 94,\n",
       " 25,\n",
       " 97,\n",
       " 67,\n",
       " 48,\n",
       " 25,\n",
       " 62,\n",
       " 40,\n",
       " 80,\n",
       " 98,\n",
       " 29,\n",
       " 33,\n",
       " 91,\n",
       " 52,\n",
       " 12,\n",
       " 73,\n",
       " 29,\n",
       " 48,\n",
       " 63,\n",
       " 94,\n",
       " 93,\n",
       " 96,\n",
       " 12,\n",
       " 37,\n",
       " 22,\n",
       " 19,\n",
       " 90,\n",
       " 78,\n",
       " 34,\n",
       " 17,\n",
       " 16,\n",
       " 23,\n",
       " 13,\n",
       " 81,\n",
       " 45,\n",
       " 58,\n",
       " 72,\n",
       " 82,\n",
       " 11,\n",
       " 88,\n",
       " 76,\n",
       " 11,\n",
       " 26,\n",
       " 79,\n",
       " 57,\n",
       " 65,\n",
       " 37,\n",
       " 95,\n",
       " 63,\n",
       " 84,\n",
       " 59,\n",
       " 19,\n",
       " 64,\n",
       " 75,\n",
       " 58,\n",
       " 15,\n",
       " 36,\n",
       " 53,\n",
       " 59,\n",
       " 77,\n",
       " 39,\n",
       " 41,\n",
       " 47,\n",
       " 43,\n",
       " 84,\n",
       " 95,\n",
       " 90,\n",
       " 67,\n",
       " 10,\n",
       " 84,\n",
       " 52,\n",
       " 92,\n",
       " 94,\n",
       " 18,\n",
       " 93,\n",
       " 34,\n",
       " 27,\n",
       " 76,\n",
       " 40,\n",
       " 55,\n",
       " 35,\n",
       " 78,\n",
       " 82,\n",
       " 26,\n",
       " 99,\n",
       " 85,\n",
       " 11,\n",
       " 26,\n",
       " 35,\n",
       " 80,\n",
       " 49,\n",
       " 62,\n",
       " 24,\n",
       " 90,\n",
       " 13,\n",
       " 51,\n",
       " 15,\n",
       " 81,\n",
       " 89,\n",
       " 32,\n",
       " 52,\n",
       " 37,\n",
       " 22,\n",
       " 17,\n",
       " 53,\n",
       " 97,\n",
       " 10,\n",
       " 64,\n",
       " 15,\n",
       " 16,\n",
       " 52,\n",
       " 12,\n",
       " 52,\n",
       " 46,\n",
       " 35,\n",
       " 90,\n",
       " 57,\n",
       " 75,\n",
       " 31,\n",
       " 71,\n",
       " 33,\n",
       " 79,\n",
       " 64,\n",
       " 51,\n",
       " 26,\n",
       " 77,\n",
       " 49,\n",
       " 45,\n",
       " 80,\n",
       " 35,\n",
       " 28,\n",
       " 20,\n",
       " 73,\n",
       " 54,\n",
       " 72,\n",
       " 30,\n",
       " 18,\n",
       " 66,\n",
       " 94,\n",
       " 43,\n",
       " 47,\n",
       " 16,\n",
       " 54,\n",
       " 52,\n",
       " 23,\n",
       " 71,\n",
       " 84,\n",
       " 95,\n",
       " 32,\n",
       " 92,\n",
       " 63,\n",
       " 20,\n",
       " 46,\n",
       " 42,\n",
       " 40,\n",
       " 37,\n",
       " 30,\n",
       " 31,\n",
       " 13,\n",
       " 97,\n",
       " 17,\n",
       " 10,\n",
       " 92,\n",
       " 36,\n",
       " 73,\n",
       " 20,\n",
       " 89,\n",
       " 55,\n",
       " 64,\n",
       " 19,\n",
       " 66,\n",
       " 30,\n",
       " 45,\n",
       " 53,\n",
       " 19,\n",
       " 36,\n",
       " 94,\n",
       " 56,\n",
       " 95,\n",
       " 37,\n",
       " 83,\n",
       " 17,\n",
       " 30,\n",
       " 96,\n",
       " 37,\n",
       " 94,\n",
       " 30,\n",
       " 73,\n",
       " 84,\n",
       " 25,\n",
       " 26,\n",
       " 38,\n",
       " 59,\n",
       " 50,\n",
       " 19,\n",
       " 92,\n",
       " 22,\n",
       " 52,\n",
       " 53,\n",
       " 44,\n",
       " 91,\n",
       " 68,\n",
       " 31,\n",
       " 42,\n",
       " 13,\n",
       " 27,\n",
       " 77,\n",
       " 43,\n",
       " 12,\n",
       " 82,\n",
       " 99,\n",
       " 83,\n",
       " 38,\n",
       " 13,\n",
       " 67,\n",
       " 59,\n",
       " 71,\n",
       " 62,\n",
       " 86,\n",
       " 74,\n",
       " 25,\n",
       " 10,\n",
       " 23,\n",
       " 76,\n",
       " 30,\n",
       " 46,\n",
       " 97,\n",
       " 45,\n",
       " 34,\n",
       " 23,\n",
       " 16,\n",
       " 21,\n",
       " 56,\n",
       " 44,\n",
       " 19,\n",
       " 41,\n",
       " 34,\n",
       " 79,\n",
       " 17,\n",
       " 82,\n",
       " 52,\n",
       " 69,\n",
       " 66,\n",
       " 64,\n",
       " 99,\n",
       " 74,\n",
       " 64,\n",
       " 58,\n",
       " ...]"
      ]
     },
     "execution_count": 186,
     "metadata": {},
     "output_type": "execute_result"
    }
   ],
   "execution_count": 186
  },
  {
   "metadata": {
    "ExecuteTime": {
     "end_time": "2025-06-20T03:09:20.441596Z",
     "start_time": "2025-06-20T03:09:20.409683Z"
    }
   },
   "cell_type": "code",
   "source": "df=pd.DataFrame({\"pop_dat\":pop_data})",
   "id": "2ec3213fe2d7da3c",
   "outputs": [],
   "execution_count": 187
  },
  {
   "metadata": {
    "ExecuteTime": {
     "end_time": "2025-06-20T03:09:20.954207Z",
     "start_time": "2025-06-20T03:09:20.915420Z"
    }
   },
   "cell_type": "code",
   "source": "df",
   "id": "4fd10c5eedac8aa",
   "outputs": [
    {
     "data": {
      "text/plain": [
       "      pop_dat\n",
       "0          57\n",
       "1          35\n",
       "2          56\n",
       "3          62\n",
       "4          58\n",
       "...       ...\n",
       "9995       25\n",
       "9996       71\n",
       "9997       20\n",
       "9998       58\n",
       "9999       14\n",
       "\n",
       "[10000 rows x 1 columns]"
      ],
      "text/html": [
       "<div>\n",
       "<style scoped>\n",
       "    .dataframe tbody tr th:only-of-type {\n",
       "        vertical-align: middle;\n",
       "    }\n",
       "\n",
       "    .dataframe tbody tr th {\n",
       "        vertical-align: top;\n",
       "    }\n",
       "\n",
       "    .dataframe thead th {\n",
       "        text-align: right;\n",
       "    }\n",
       "</style>\n",
       "<table border=\"1\" class=\"dataframe\">\n",
       "  <thead>\n",
       "    <tr style=\"text-align: right;\">\n",
       "      <th></th>\n",
       "      <th>pop_dat</th>\n",
       "    </tr>\n",
       "  </thead>\n",
       "  <tbody>\n",
       "    <tr>\n",
       "      <th>0</th>\n",
       "      <td>57</td>\n",
       "    </tr>\n",
       "    <tr>\n",
       "      <th>1</th>\n",
       "      <td>35</td>\n",
       "    </tr>\n",
       "    <tr>\n",
       "      <th>2</th>\n",
       "      <td>56</td>\n",
       "    </tr>\n",
       "    <tr>\n",
       "      <th>3</th>\n",
       "      <td>62</td>\n",
       "    </tr>\n",
       "    <tr>\n",
       "      <th>4</th>\n",
       "      <td>58</td>\n",
       "    </tr>\n",
       "    <tr>\n",
       "      <th>...</th>\n",
       "      <td>...</td>\n",
       "    </tr>\n",
       "    <tr>\n",
       "      <th>9995</th>\n",
       "      <td>25</td>\n",
       "    </tr>\n",
       "    <tr>\n",
       "      <th>9996</th>\n",
       "      <td>71</td>\n",
       "    </tr>\n",
       "    <tr>\n",
       "      <th>9997</th>\n",
       "      <td>20</td>\n",
       "    </tr>\n",
       "    <tr>\n",
       "      <th>9998</th>\n",
       "      <td>58</td>\n",
       "    </tr>\n",
       "    <tr>\n",
       "      <th>9999</th>\n",
       "      <td>14</td>\n",
       "    </tr>\n",
       "  </tbody>\n",
       "</table>\n",
       "<p>10000 rows × 1 columns</p>\n",
       "</div>"
      ]
     },
     "execution_count": 188,
     "metadata": {},
     "output_type": "execute_result"
    }
   ],
   "execution_count": 188
  },
  {
   "metadata": {
    "ExecuteTime": {
     "end_time": "2025-06-20T03:09:21.410484Z",
     "start_time": "2025-06-20T03:09:21.403088Z"
    }
   },
   "cell_type": "code",
   "source": "np.mean(df.pop_dat)",
   "id": "e9975379f28a380f",
   "outputs": [
    {
     "data": {
      "text/plain": [
       "np.float64(54.1596)"
      ]
     },
     "execution_count": 189,
     "metadata": {},
     "output_type": "execute_result"
    }
   ],
   "execution_count": 189
  },
  {
   "metadata": {
    "ExecuteTime": {
     "end_time": "2025-06-20T03:09:21.732561Z",
     "start_time": "2025-06-20T03:09:21.724440Z"
    }
   },
   "cell_type": "code",
   "source": "np.mean(pop_data)",
   "id": "9fc1e988eb29536f",
   "outputs": [
    {
     "data": {
      "text/plain": [
       "np.float64(54.1596)"
      ]
     },
     "execution_count": 190,
     "metadata": {},
     "output_type": "execute_result"
    }
   ],
   "execution_count": 190
  },
  {
   "metadata": {
    "ExecuteTime": {
     "end_time": "2025-06-20T03:09:22.200419Z",
     "start_time": "2025-06-20T03:09:21.934514Z"
    }
   },
   "cell_type": "code",
   "source": [
    "plt.figure(figsize=(4,3))\n",
    "sns.kdeplot(df.pop_dat)\n",
    "plt.show()"
   ],
   "id": "19ea2b8e6888f22d",
   "outputs": [
    {
     "data": {
      "text/plain": [
       "<Figure size 400x300 with 1 Axes>"
      ],
      "image/png": "[encoded data removed]"
     },
     "metadata": {},
     "output_type": "display_data"
    }
   ],
   "execution_count": 191
  },
  {
   "metadata": {
    "ExecuteTime": {
     "end_time": "2025-06-20T03:09:39.142528Z",
     "start_time": "2025-06-20T03:09:22.217713Z"
    }
   },
   "cell_type": "code",
   "source": [
    "sample_mean=[]\n",
    "for no_sample in range(70):        #The Higher the range, The better the result\n",
    "    sample_data=[]\n",
    "    for data in range(500):        #The number of range should be less than 10% of DATA\n",
    "        sample_data.append(np.random.choice(pop_data))\n",
    "    sample_mean.append(np.mean(sample_data))"
   ],
   "id": "6e5ce69c569f3fb2",
   "outputs": [],
   "execution_count": 192
  },
  {
   "metadata": {
    "ExecuteTime": {
     "end_time": "2025-06-20T03:09:39.167013Z",
     "start_time": "2025-06-20T03:09:39.149931Z"
    }
   },
   "cell_type": "code",
   "source": "sample_M=pd.DataFrame({\"sample\":sample_mean})\n",
   "id": "578017fcd596747e",
   "outputs": [],
   "execution_count": 193
  },
  {
   "metadata": {
    "ExecuteTime": {
     "end_time": "2025-06-20T03:09:39.307583Z",
     "start_time": "2025-06-20T03:09:39.197039Z"
    }
   },
   "cell_type": "code",
   "source": [
    "plt.figure(figsize=(4,3))\n",
    "sns.kdeplot(x=\"sample\",data=sample_M)\n",
    "plt.show()"
   ],
   "id": "e3071c7ea13bd0a2",
   "outputs": [
    {
     "data": {
      "text/plain": [
       "<Figure size 400x300 with 1 Axes>"
      ],
      "image/png": "[encoded data removed]"
     },
     "metadata": {},
     "output_type": "display_data"
    }
   ],
   "execution_count": 194
  },
  {
   "metadata": {
    "ExecuteTime": {
     "end_time": "2025-06-20T03:09:39.337694Z",
     "start_time": "2025-06-20T03:09:39.327833Z"
    }
   },
   "cell_type": "code",
   "source": [
    "                        #the mean would be same for whole data and sample mean data\n",
    "np.mean(pop_data)"
   ],
   "id": "4836137e3eface24",
   "outputs": [
    {
     "data": {
      "text/plain": [
       "np.float64(54.1596)"
      ]
     },
     "execution_count": 195,
     "metadata": {},
     "output_type": "execute_result"
    }
   ],
   "execution_count": 195
  },
  {
   "metadata": {
    "ExecuteTime": {
     "end_time": "2025-06-20T03:09:39.388136Z",
     "start_time": "2025-06-20T03:09:39.383893Z"
    }
   },
   "cell_type": "code",
   "source": "np.mean(sample_mean)",
   "id": "10bb271346cfbfd0",
   "outputs": [
    {
     "data": {
      "text/plain": [
       "np.float64(54.12917142857143)"
      ]
     },
     "execution_count": 196,
     "metadata": {},
     "output_type": "execute_result"
    }
   ],
   "execution_count": 196
  },
  {
   "metadata": {
    "tags": [
     "CLT "
    ],
    "ExecuteTime": {
     "end_time": "2025-06-20T03:09:40.051852Z",
     "start_time": "2025-06-20T03:09:39.436102Z"
    }
   },
   "cell_type": "code",
   "source": [
    "                                            #Trying it on Movies DATA\n",
    "sns.kdeplot(x=\"userId_x\",data=Data)\n",
    "plt.show()"
   ],
   "id": "6a7636d9a5b7a86",
   "outputs": [
    {
     "data": {
      "text/plain": [
       "<Figure size 640x480 with 1 Axes>"
      ],
      "image/png": "[encoded data removed]"
     },
     "metadata": {},
     "output_type": "display_data"
    }
   ],
   "execution_count": 197
  },
  {
   "metadata": {
    "ExecuteTime": {
     "end_time": "2025-06-20T03:09:59.812647Z",
     "start_time": "2025-06-20T03:09:40.062011Z"
    }
   },
   "cell_type": "code",
   "source": [
    "sam_mean=[]\n",
    "for no_sam in range(100):\n",
    "    sam_data=[]\n",
    "    for dat in range(500):\n",
    "        sam_data.append(np.random.choice(pop_data))\n",
    "    sam_mean.append(np.mean(sam_data))"
   ],
   "id": "b2a79fc1738a0db8",
   "outputs": [],
   "execution_count": 198
  },
  {
   "metadata": {
    "ExecuteTime": {
     "end_time": "2025-06-20T03:09:59.829815Z",
     "start_time": "2025-06-20T03:09:59.818352Z"
    }
   },
   "cell_type": "code",
   "source": "samp_m=pd.DataFrame({\"sam\":sam_mean})",
   "id": "a67765e031e997a",
   "outputs": [],
   "execution_count": 199
  },
  {
   "metadata": {
    "ExecuteTime": {
     "end_time": "2025-06-20T03:09:59.971144Z",
     "start_time": "2025-06-20T03:09:59.865744Z"
    }
   },
   "cell_type": "code",
   "source": [
    "plt.figure(figsize=(4,3))\n",
    "sns.kdeplot(samp_m[\"sam\"])\n",
    "plt.show()"
   ],
   "id": "1a8ebea26b1baf62",
   "outputs": [
    {
     "data": {
      "text/plain": [
       "<Figure size 400x300 with 1 Axes>"
      ],
      "image/png": "[encoded data removed]"
     },
     "metadata": {},
     "output_type": "display_data"
    }
   ],
   "execution_count": 200
  },
  {
   "metadata": {
    "ExecuteTime": {
     "end_time": "2025-06-20T03:10:00.114194Z",
     "start_time": "2025-06-20T03:09:59.982624Z"
    }
   },
   "cell_type": "code",
   "source": [
    "                                                # With bother manners\n",
    "plt.figure(figsize=(4,3))\n",
    "sns.kdeplot(sam_mean)\n",
    "plt.show()"
   ],
   "id": "39e4658a6026dff7",
   "outputs": [
    {
     "data": {
      "text/plain": [
       "<Figure size 400x300 with 1 Axes>"
      ],
      "image/png": "[encoded data removed]"
     },
     "metadata": {},
     "output_type": "display_data"
    }
   ],
   "execution_count": 201
  },
  {
   "metadata": {},
   "cell_type": "markdown",
   "source": "                                                     # Hypothesis Z test",
   "id": "d4601fc44472183f"
  },
  {
   "metadata": {
    "ExecuteTime": {
     "end_time": "2025-06-20T03:10:00.127674Z",
     "start_time": "2025-06-20T03:10:00.124523Z"
    }
   },
   "cell_type": "code",
   "source": [
    "###   A teacher claims that the mean score of students in his class is greater than 82 with a standard deviation of 20. If a sample of 81 students was selected with a mean score of 90.\n",
    "pop_m=82\n",
    "sample_u=90\n",
    "std=20\n",
    "n=81\n",
    "ap=0.05"
   ],
   "id": "63a941500c43a51e",
   "outputs": [],
   "execution_count": 202
  },
  {
   "metadata": {
    "ExecuteTime": {
     "end_time": "2025-06-20T03:10:00.174307Z",
     "start_time": "2025-06-20T03:10:00.171070Z"
    }
   },
   "cell_type": "code",
   "source": "z_test=(sample_u-pop_m)/(std/np.sqrt(n))",
   "id": "2b7426c4c3a4f205",
   "outputs": [],
   "execution_count": 203
  },
  {
   "metadata": {
    "ExecuteTime": {
     "end_time": "2025-06-20T03:10:00.233655Z",
     "start_time": "2025-06-20T03:10:00.228755Z"
    }
   },
   "cell_type": "code",
   "source": "z_test\n",
   "id": "d56b1532e68d4e1f",
   "outputs": [
    {
     "data": {
      "text/plain": [
       "np.float64(3.5999999999999996)"
      ]
     },
     "execution_count": 204,
     "metadata": {},
     "output_type": "execute_result"
    }
   ],
   "execution_count": 204
  },
  {
   "metadata": {
    "ExecuteTime": {
     "end_time": "2025-06-20T03:10:00.297301Z",
     "start_time": "2025-06-20T03:10:00.283134Z"
    }
   },
   "cell_type": "code",
   "source": [
    "z_table=st.norm.ppf(1-ap)\n",
    "z_table"
   ],
   "id": "42378304c4a9f3d5",
   "outputs": [
    {
     "data": {
      "text/plain": [
       "np.float64(1.6448536269514722)"
      ]
     },
     "execution_count": 205,
     "metadata": {},
     "output_type": "execute_result"
    }
   ],
   "execution_count": 205
  },
  {
   "metadata": {
    "ExecuteTime": {
     "end_time": "2025-06-20T03:10:00.343613Z",
     "start_time": "2025-06-20T03:10:00.339808Z"
    }
   },
   "cell_type": "code",
   "source": [
    "if z_table<z_test:\n",
    "    print(\"Ha is Right\")\n",
    "else:\n",
    "    print(\"Ho is right\")"
   ],
   "id": "897cdb115d0192c1",
   "outputs": [
    {
     "name": "stdout",
     "output_type": "stream",
     "text": [
      "Ha is Right\n"
     ]
    }
   ],
   "execution_count": 206
  },
  {
   "metadata": {},
   "cell_type": "markdown",
   "source": "                                             # Trying this on Movies Data",
   "id": "a9a61227aa8d91a3"
  },
  {
   "metadata": {
    "ExecuteTime": {
     "end_time": "2025-06-20T03:10:00.397338Z",
     "start_time": "2025-06-20T03:10:00.390196Z"
    }
   },
   "cell_type": "code",
   "source": [
    "population_mean=np.mean(Data.userId_y)\n",
    "population_std=np.std(Data.userId_y)\n",
    "apa=0.05"
   ],
   "id": "f62e5b4062e2d180",
   "outputs": [],
   "execution_count": 207
  },
  {
   "metadata": {
    "ExecuteTime": {
     "end_time": "2025-06-20T03:10:00.444467Z",
     "start_time": "2025-06-20T03:10:00.437892Z"
    }
   },
   "cell_type": "code",
   "source": [
    "sampl_data=[]\n",
    "for dat in range(80):\n",
    "    sampl_data.append(np.random.choice(Data.userId_y))\n",
    "\n",
    "sample_mean=np.mean(sampl_data)"
   ],
   "id": "274ade5bb15675e1",
   "outputs": [],
   "execution_count": 208
  },
  {
   "metadata": {
    "ExecuteTime": {
     "end_time": "2025-06-20T03:10:00.495817Z",
     "start_time": "2025-06-20T03:10:00.490425Z"
    }
   },
   "cell_type": "code",
   "source": [
    "Z_test=(sample_mean-population_mean)/(population_std/(np.sqrt(80)))\n",
    "Z_test"
   ],
   "id": "4535bf5d89001f5b",
   "outputs": [
    {
     "data": {
      "text/plain": [
       "np.float64(-0.33557845007321296)"
      ]
     },
     "execution_count": 209,
     "metadata": {},
     "output_type": "execute_result"
    }
   ],
   "execution_count": 209
  },
  {
   "metadata": {
    "ExecuteTime": {
     "end_time": "2025-06-20T03:10:00.555460Z",
     "start_time": "2025-06-20T03:10:00.548635Z"
    }
   },
   "cell_type": "code",
   "source": [
    "Z_table1=st.norm.ppf(1-apa)\n",
    "Z_table1"
   ],
   "id": "74d572fa39d12a10",
   "outputs": [
    {
     "data": {
      "text/plain": [
       "np.float64(1.6448536269514722)"
      ]
     },
     "execution_count": 210,
     "metadata": {},
     "output_type": "execute_result"
    }
   ],
   "execution_count": 210
  },
  {
   "metadata": {
    "ExecuteTime": {
     "end_time": "2025-06-20T03:10:00.681644Z",
     "start_time": "2025-06-20T03:10:00.678456Z"
    }
   },
   "cell_type": "code",
   "source": [
    "if Z_table1<Z_test:\n",
    "    print(\"Ha is Right\")\n",
    "else:\n",
    "    print(\"Ho is right\")"
   ],
   "id": "72b96d1424b81838",
   "outputs": [
    {
     "name": "stdout",
     "output_type": "stream",
     "text": [
      "Ho is right\n"
     ]
    }
   ],
   "execution_count": 211
  }
 ],
 "metadata": {
  "kernelspec": {
   "display_name": "Python 3",
   "language": "python",
   "name": "python3"
  },
  "language_info": {
   "codemirror_mode": {
    "name": "ipython",
    "version": 2
   },
   "file_extension": ".py",
   "mimetype": "text/x-python",
   "name": "python",
   "nbconvert_exporter": "python",
   "pygments_lexer": "ipython2",
   "version": "2.7.6"
  }
 },
 "nbformat": 4,
 "nbformat_minor": 5
}
