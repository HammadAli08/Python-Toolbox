{
 "cells": [
  {
   "cell_type": "code",
   "id": "initial_id",
   "metadata": {
    "collapsed": true,
    "ExecuteTime": {
     "end_time": "2025-06-20T03:14:11.096581Z",
     "start_time": "2025-06-20T03:14:11.091533Z"
    }
   },
   "source": [
    "import numpy as np\n",
    "import pandas as pd\n",
    "import matplotlib.pyplot as plt\n",
    "import seaborn as sns\n",
    "import scipy.stats as st\n"
   ],
   "outputs": [],
   "execution_count": 287
  },
  {
   "metadata": {
    "ExecuteTime": {
     "end_time": "2025-06-20T03:16:29.454214Z",
     "start_time": "2025-06-20T03:16:29.154234Z"
    }
   },
   "cell_type": "code",
   "source": [
    "Data=pd.read_csv(\"/home/hammadali08/Videos/Moviesdata.csv\")\n",
    "data=pd.read_csv(\"/home/hammadali08/Videos/Students.csv\")"
   ],
   "id": "f8b862fa2d68f693",
   "outputs": [],
   "execution_count": 323
  },
  {
   "metadata": {
    "ExecuteTime": {
     "end_time": "2025-06-20T03:16:30.302683Z",
     "start_time": "2025-06-20T03:16:30.295234Z"
    }
   },
   "cell_type": "code",
   "source": [
    "data.head(\n",
    ")"
   ],
   "id": "8fa6dfdc7b394aeb",
   "outputs": [
    {
     "data": {
      "text/plain": [
       "            Name  Age  CGPA (out of 4.00)  Daily Study Hours  \\\n",
       "0     Zain Tariq   24                2.61                1.3   \n",
       "1   Fatima Nawaz   21                3.07                2.4   \n",
       "2   Ahmed Sheikh   22                2.65                5.9   \n",
       "3   Zain Qureshi   24                3.66                4.9   \n",
       "4  Fatima Sheikh   20                2.54                1.3   \n",
       "\n",
       "  Sports Involvement  IQ Score  \n",
       "0                Yes       112  \n",
       "1                 No       126  \n",
       "2                 No        97  \n",
       "3                Yes       102  \n",
       "4                 No        97  "
      ],
      "text/html": [
       "<div>\n",
       "<style scoped>\n",
       "    .dataframe tbody tr th:only-of-type {\n",
       "        vertical-align: middle;\n",
       "    }\n",
       "\n",
       "    .dataframe tbody tr th {\n",
       "        vertical-align: top;\n",
       "    }\n",
       "\n",
       "    .dataframe thead th {\n",
       "        text-align: right;\n",
       "    }\n",
       "</style>\n",
       "<table border=\"1\" class=\"dataframe\">\n",
       "  <thead>\n",
       "    <tr style=\"text-align: right;\">\n",
       "      <th></th>\n",
       "      <th>Name</th>\n",
       "      <th>Age</th>\n",
       "      <th>CGPA (out of 4.00)</th>\n",
       "      <th>Daily Study Hours</th>\n",
       "      <th>Sports Involvement</th>\n",
       "      <th>IQ Score</th>\n",
       "    </tr>\n",
       "  </thead>\n",
       "  <tbody>\n",
       "    <tr>\n",
       "      <th>0</th>\n",
       "      <td>Zain Tariq</td>\n",
       "      <td>24</td>\n",
       "      <td>2.61</td>\n",
       "      <td>1.3</td>\n",
       "      <td>Yes</td>\n",
       "      <td>112</td>\n",
       "    </tr>\n",
       "    <tr>\n",
       "      <th>1</th>\n",
       "      <td>Fatima Nawaz</td>\n",
       "      <td>21</td>\n",
       "      <td>3.07</td>\n",
       "      <td>2.4</td>\n",
       "      <td>No</td>\n",
       "      <td>126</td>\n",
       "    </tr>\n",
       "    <tr>\n",
       "      <th>2</th>\n",
       "      <td>Ahmed Sheikh</td>\n",
       "      <td>22</td>\n",
       "      <td>2.65</td>\n",
       "      <td>5.9</td>\n",
       "      <td>No</td>\n",
       "      <td>97</td>\n",
       "    </tr>\n",
       "    <tr>\n",
       "      <th>3</th>\n",
       "      <td>Zain Qureshi</td>\n",
       "      <td>24</td>\n",
       "      <td>3.66</td>\n",
       "      <td>4.9</td>\n",
       "      <td>Yes</td>\n",
       "      <td>102</td>\n",
       "    </tr>\n",
       "    <tr>\n",
       "      <th>4</th>\n",
       "      <td>Fatima Sheikh</td>\n",
       "      <td>20</td>\n",
       "      <td>2.54</td>\n",
       "      <td>1.3</td>\n",
       "      <td>No</td>\n",
       "      <td>97</td>\n",
       "    </tr>\n",
       "  </tbody>\n",
       "</table>\n",
       "</div>"
      ]
     },
     "execution_count": 324,
     "metadata": {},
     "output_type": "execute_result"
    }
   ],
   "execution_count": 324
  },
  {
   "metadata": {
    "ExecuteTime": {
     "end_time": "2025-06-20T03:16:31.183240Z",
     "start_time": "2025-06-20T03:16:31.159419Z"
    }
   },
   "cell_type": "code",
   "source": "data.info()",
   "id": "960c5ad25f3b514c",
   "outputs": [
    {
     "name": "stdout",
     "output_type": "stream",
     "text": [
      "<class 'pandas.core.frame.DataFrame'>\n",
      "RangeIndex: 500 entries, 0 to 499\n",
      "Data columns (total 6 columns):\n",
      " #   Column              Non-Null Count  Dtype  \n",
      "---  ------              --------------  -----  \n",
      " 0   Name                500 non-null    object \n",
      " 1   Age                 500 non-null    int64  \n",
      " 2   CGPA (out of 4.00)  500 non-null    float64\n",
      " 3   Daily Study Hours   500 non-null    float64\n",
      " 4   Sports Involvement  500 non-null    object \n",
      " 5   IQ Score            500 non-null    int64  \n",
      "dtypes: float64(2), int64(2), object(2)\n",
      "memory usage: 23.6+ KB\n"
     ]
    }
   ],
   "execution_count": 325
  },
  {
   "metadata": {
    "ExecuteTime": {
     "end_time": "2025-06-20T03:16:32.384819Z",
     "start_time": "2025-06-20T03:16:32.341580Z"
    }
   },
   "cell_type": "code",
   "source": [
    "datacov=data.select_dtypes(['int64','float64']).cov()\n",
    "datacov"
   ],
   "id": "97500f27547d42d5",
   "outputs": [
    {
     "data": {
      "text/plain": [
       "                         Age  CGPA (out of 4.00)  Daily Study Hours  \\\n",
       "Age                 4.112108           -0.054628           0.242644   \n",
       "CGPA (out of 4.00) -0.054628            0.315532          -0.050276   \n",
       "Daily Study Hours   0.242644           -0.050276           4.946498   \n",
       "IQ Score           -0.666601           -0.091181          -0.281982   \n",
       "\n",
       "                      IQ Score  \n",
       "Age                  -0.666601  \n",
       "CGPA (out of 4.00)   -0.091181  \n",
       "Daily Study Hours    -0.281982  \n",
       "IQ Score            203.664365  "
      ],
      "text/html": [
       "<div>\n",
       "<style scoped>\n",
       "    .dataframe tbody tr th:only-of-type {\n",
       "        vertical-align: middle;\n",
       "    }\n",
       "\n",
       "    .dataframe tbody tr th {\n",
       "        vertical-align: top;\n",
       "    }\n",
       "\n",
       "    .dataframe thead th {\n",
       "        text-align: right;\n",
       "    }\n",
       "</style>\n",
       "<table border=\"1\" class=\"dataframe\">\n",
       "  <thead>\n",
       "    <tr style=\"text-align: right;\">\n",
       "      <th></th>\n",
       "      <th>Age</th>\n",
       "      <th>CGPA (out of 4.00)</th>\n",
       "      <th>Daily Study Hours</th>\n",
       "      <th>IQ Score</th>\n",
       "    </tr>\n",
       "  </thead>\n",
       "  <tbody>\n",
       "    <tr>\n",
       "      <th>Age</th>\n",
       "      <td>4.112108</td>\n",
       "      <td>-0.054628</td>\n",
       "      <td>0.242644</td>\n",
       "      <td>-0.666601</td>\n",
       "    </tr>\n",
       "    <tr>\n",
       "      <th>CGPA (out of 4.00)</th>\n",
       "      <td>-0.054628</td>\n",
       "      <td>0.315532</td>\n",
       "      <td>-0.050276</td>\n",
       "      <td>-0.091181</td>\n",
       "    </tr>\n",
       "    <tr>\n",
       "      <th>Daily Study Hours</th>\n",
       "      <td>0.242644</td>\n",
       "      <td>-0.050276</td>\n",
       "      <td>4.946498</td>\n",
       "      <td>-0.281982</td>\n",
       "    </tr>\n",
       "    <tr>\n",
       "      <th>IQ Score</th>\n",
       "      <td>-0.666601</td>\n",
       "      <td>-0.091181</td>\n",
       "      <td>-0.281982</td>\n",
       "      <td>203.664365</td>\n",
       "    </tr>\n",
       "  </tbody>\n",
       "</table>\n",
       "</div>"
      ]
     },
     "execution_count": 326,
     "metadata": {},
     "output_type": "execute_result"
    }
   ],
   "execution_count": 326
  },
  {
   "metadata": {
    "ExecuteTime": {
     "end_time": "2025-06-20T03:16:34.899640Z",
     "start_time": "2025-06-20T03:16:34.887647Z"
    }
   },
   "cell_type": "code",
   "source": [
    "\n",
    "datacorr=data.select_dtypes(['int64','float64']).corr()\n",
    "datacorr\n"
   ],
   "id": "fd1b785dfb0e5d23",
   "outputs": [
    {
     "data": {
      "text/plain": [
       "                         Age  CGPA (out of 4.00)  Daily Study Hours  IQ Score\n",
       "Age                 1.000000           -0.047958           0.053801 -0.023034\n",
       "CGPA (out of 4.00) -0.047958            1.000000          -0.040243 -0.011374\n",
       "Daily Study Hours   0.053801           -0.040243           1.000000 -0.008884\n",
       "IQ Score           -0.023034           -0.011374          -0.008884  1.000000"
      ],
      "text/html": [
       "<div>\n",
       "<style scoped>\n",
       "    .dataframe tbody tr th:only-of-type {\n",
       "        vertical-align: middle;\n",
       "    }\n",
       "\n",
       "    .dataframe tbody tr th {\n",
       "        vertical-align: top;\n",
       "    }\n",
       "\n",
       "    .dataframe thead th {\n",
       "        text-align: right;\n",
       "    }\n",
       "</style>\n",
       "<table border=\"1\" class=\"dataframe\">\n",
       "  <thead>\n",
       "    <tr style=\"text-align: right;\">\n",
       "      <th></th>\n",
       "      <th>Age</th>\n",
       "      <th>CGPA (out of 4.00)</th>\n",
       "      <th>Daily Study Hours</th>\n",
       "      <th>IQ Score</th>\n",
       "    </tr>\n",
       "  </thead>\n",
       "  <tbody>\n",
       "    <tr>\n",
       "      <th>Age</th>\n",
       "      <td>1.000000</td>\n",
       "      <td>-0.047958</td>\n",
       "      <td>0.053801</td>\n",
       "      <td>-0.023034</td>\n",
       "    </tr>\n",
       "    <tr>\n",
       "      <th>CGPA (out of 4.00)</th>\n",
       "      <td>-0.047958</td>\n",
       "      <td>1.000000</td>\n",
       "      <td>-0.040243</td>\n",
       "      <td>-0.011374</td>\n",
       "    </tr>\n",
       "    <tr>\n",
       "      <th>Daily Study Hours</th>\n",
       "      <td>0.053801</td>\n",
       "      <td>-0.040243</td>\n",
       "      <td>1.000000</td>\n",
       "      <td>-0.008884</td>\n",
       "    </tr>\n",
       "    <tr>\n",
       "      <th>IQ Score</th>\n",
       "      <td>-0.023034</td>\n",
       "      <td>-0.011374</td>\n",
       "      <td>-0.008884</td>\n",
       "      <td>1.000000</td>\n",
       "    </tr>\n",
       "  </tbody>\n",
       "</table>\n",
       "</div>"
      ]
     },
     "execution_count": 327,
     "metadata": {},
     "output_type": "execute_result"
    }
   ],
   "execution_count": 327
  },
  {
   "metadata": {
    "ExecuteTime": {
     "end_time": "2025-06-20T03:16:36.487368Z",
     "start_time": "2025-06-20T03:16:36.280149Z"
    }
   },
   "cell_type": "code",
   "source": [
    "sns.heatmap(datacov,annot=True,linecolor=\"white\",cmap=\"YlGnBu\")\n",
    "plt.title(\"Correlation Heatmap\")\n",
    "plt.show()"
   ],
   "id": "1bb2b6ffb4b2ab46",
   "outputs": [
    {
     "data": {
      "text/plain": [
       "<Figure size 640x480 with 2 Axes>"
      ],
      "image/png": "[encoded data removed]"
     },
     "metadata": {},
     "output_type": "display_data"
    }
   ],
   "execution_count": 328
  },
  {
   "metadata": {
    "ExecuteTime": {
     "end_time": "2025-06-20T03:16:37.442548Z",
     "start_time": "2025-06-20T03:16:37.305191Z"
    }
   },
   "cell_type": "code",
   "source": [
    "sns.heatmap(datacorr,annot=True,linecolor=\"Blue\",cmap=\"YlGnBu\")\n",
    "plt.title(\"Correlation Heatmap\")\n",
    "plt.show()"
   ],
   "id": "775c4e22f49cd79c",
   "outputs": [
    {
     "data": {
      "text/plain": [
       "<Figure size 640x480 with 2 Axes>"
      ],
      "image/png": "[encoded data removed]"
     },
     "metadata": {},
     "output_type": "display_data"
    }
   ],
   "execution_count": 329
  },
  {
   "metadata": {},
   "cell_type": "markdown",
   "source": "                                            # CENTRAL LIMIT THEORAM(CLT)",
   "id": "f7c0037e2fb492c8"
  },
  {
   "metadata": {
    "ExecuteTime": {
     "end_time": "2025-06-20T03:16:39.389838Z",
     "start_time": "2025-06-20T03:16:39.338797Z"
    }
   },
   "cell_type": "code",
   "source": [
    "pop_data=[np.random.randint(10,100) for i in range(10000)]\n",
    "pop_data"
   ],
   "id": "7dd0fba9e0a2d071",
   "outputs": [
    {
     "data": {
      "text/plain": [
       "[23,\n",
       " 54,\n",
       " 19,\n",
       " 59,\n",
       " 49,\n",
       " 21,\n",
       " 53,\n",
       " 62,\n",
       " 76,\n",
       " 40,\n",
       " 26,\n",
       " 26,\n",
       " 79,\n",
       " 42,\n",
       " 57,\n",
       " 55,\n",
       " 80,\n",
       " 45,\n",
       " 55,\n",
       " 23,\n",
       " 53,\n",
       " 56,\n",
       " 90,\n",
       " 35,\n",
       " 72,\n",
       " 38,\n",
       " 95,\n",
       " 42,\n",
       " 51,\n",
       " 16,\n",
       " 24,\n",
       " 99,\n",
       " 70,\n",
       " 11,\n",
       " 79,\n",
       " 85,\n",
       " 22,\n",
       " 29,\n",
       " 20,\n",
       " 83,\n",
       " 16,\n",
       " 38,\n",
       " 79,\n",
       " 53,\n",
       " 96,\n",
       " 72,\n",
       " 42,\n",
       " 91,\n",
       " 29,\n",
       " 17,\n",
       " 72,\n",
       " 70,\n",
       " 53,\n",
       " 72,\n",
       " 18,\n",
       " 92,\n",
       " 73,\n",
       " 36,\n",
       " 36,\n",
       " 33,\n",
       " 13,\n",
       " 16,\n",
       " 55,\n",
       " 66,\n",
       " 52,\n",
       " 31,\n",
       " 30,\n",
       " 61,\n",
       " 67,\n",
       " 32,\n",
       " 90,\n",
       " 67,\n",
       " 83,\n",
       " 71,\n",
       " 92,\n",
       " 92,\n",
       " 13,\n",
       " 19,\n",
       " 86,\n",
       " 34,\n",
       " 97,\n",
       " 92,\n",
       " 98,\n",
       " 65,\n",
       " 26,\n",
       " 80,\n",
       " 18,\n",
       " 79,\n",
       " 66,\n",
       " 96,\n",
       " 25,\n",
       " 66,\n",
       " 49,\n",
       " 18,\n",
       " 74,\n",
       " 77,\n",
       " 80,\n",
       " 92,\n",
       " 85,\n",
       " 49,\n",
       " 21,\n",
       " 61,\n",
       " 98,\n",
       " 45,\n",
       " 19,\n",
       " 82,\n",
       " 53,\n",
       " 56,\n",
       " 44,\n",
       " 97,\n",
       " 18,\n",
       " 74,\n",
       " 31,\n",
       " 34,\n",
       " 73,\n",
       " 31,\n",
       " 46,\n",
       " 74,\n",
       " 97,\n",
       " 64,\n",
       " 93,\n",
       " 14,\n",
       " 22,\n",
       " 75,\n",
       " 47,\n",
       " 39,\n",
       " 55,\n",
       " 96,\n",
       " 56,\n",
       " 66,\n",
       " 38,\n",
       " 32,\n",
       " 16,\n",
       " 35,\n",
       " 64,\n",
       " 61,\n",
       " 39,\n",
       " 44,\n",
       " 12,\n",
       " 27,\n",
       " 62,\n",
       " 35,\n",
       " 82,\n",
       " 43,\n",
       " 32,\n",
       " 52,\n",
       " 59,\n",
       " 28,\n",
       " 66,\n",
       " 56,\n",
       " 84,\n",
       " 29,\n",
       " 18,\n",
       " 41,\n",
       " 41,\n",
       " 15,\n",
       " 19,\n",
       " 55,\n",
       " 42,\n",
       " 35,\n",
       " 38,\n",
       " 73,\n",
       " 83,\n",
       " 27,\n",
       " 12,\n",
       " 17,\n",
       " 87,\n",
       " 46,\n",
       " 44,\n",
       " 84,\n",
       " 48,\n",
       " 26,\n",
       " 24,\n",
       " 44,\n",
       " 90,\n",
       " 80,\n",
       " 43,\n",
       " 89,\n",
       " 49,\n",
       " 66,\n",
       " 21,\n",
       " 95,\n",
       " 21,\n",
       " 96,\n",
       " 89,\n",
       " 45,\n",
       " 45,\n",
       " 39,\n",
       " 27,\n",
       " 26,\n",
       " 90,\n",
       " 66,\n",
       " 46,\n",
       " 29,\n",
       " 17,\n",
       " 59,\n",
       " 20,\n",
       " 44,\n",
       " 86,\n",
       " 55,\n",
       " 11,\n",
       " 89,\n",
       " 51,\n",
       " 52,\n",
       " 88,\n",
       " 78,\n",
       " 97,\n",
       " 17,\n",
       " 62,\n",
       " 83,\n",
       " 43,\n",
       " 34,\n",
       " 98,\n",
       " 33,\n",
       " 67,\n",
       " 10,\n",
       " 67,\n",
       " 58,\n",
       " 34,\n",
       " 16,\n",
       " 89,\n",
       " 99,\n",
       " 32,\n",
       " 33,\n",
       " 93,\n",
       " 64,\n",
       " 49,\n",
       " 28,\n",
       " 17,\n",
       " 73,\n",
       " 56,\n",
       " 34,\n",
       " 43,\n",
       " 14,\n",
       " 36,\n",
       " 94,\n",
       " 24,\n",
       " 13,\n",
       " 54,\n",
       " 73,\n",
       " 62,\n",
       " 34,\n",
       " 48,\n",
       " 50,\n",
       " 36,\n",
       " 94,\n",
       " 87,\n",
       " 16,\n",
       " 68,\n",
       " 62,\n",
       " 65,\n",
       " 10,\n",
       " 34,\n",
       " 15,\n",
       " 18,\n",
       " 97,\n",
       " 94,\n",
       " 80,\n",
       " 27,\n",
       " 14,\n",
       " 67,\n",
       " 27,\n",
       " 61,\n",
       " 30,\n",
       " 72,\n",
       " 22,\n",
       " 81,\n",
       " 70,\n",
       " 37,\n",
       " 18,\n",
       " 71,\n",
       " 74,\n",
       " 80,\n",
       " 54,\n",
       " 69,\n",
       " 16,\n",
       " 90,\n",
       " 85,\n",
       " 48,\n",
       " 42,\n",
       " 82,\n",
       " 40,\n",
       " 79,\n",
       " 71,\n",
       " 63,\n",
       " 89,\n",
       " 72,\n",
       " 62,\n",
       " 78,\n",
       " 76,\n",
       " 54,\n",
       " 71,\n",
       " 37,\n",
       " 98,\n",
       " 62,\n",
       " 21,\n",
       " 15,\n",
       " 25,\n",
       " 73,\n",
       " 87,\n",
       " 29,\n",
       " 65,\n",
       " 48,\n",
       " 32,\n",
       " 69,\n",
       " 45,\n",
       " 63,\n",
       " 32,\n",
       " 93,\n",
       " 37,\n",
       " 99,\n",
       " 54,\n",
       " 23,\n",
       " 44,\n",
       " 82,\n",
       " 92,\n",
       " 69,\n",
       " 80,\n",
       " 11,\n",
       " 54,\n",
       " 97,\n",
       " 24,\n",
       " 83,\n",
       " 70,\n",
       " 74,\n",
       " 62,\n",
       " 84,\n",
       " 51,\n",
       " 40,\n",
       " 62,\n",
       " 26,\n",
       " 27,\n",
       " 28,\n",
       " 54,\n",
       " 59,\n",
       " 92,\n",
       " 73,\n",
       " 13,\n",
       " 82,\n",
       " 67,\n",
       " 89,\n",
       " 18,\n",
       " 39,\n",
       " 32,\n",
       " 76,\n",
       " 75,\n",
       " 23,\n",
       " 90,\n",
       " 19,\n",
       " 95,\n",
       " 89,\n",
       " 50,\n",
       " 18,\n",
       " 61,\n",
       " 71,\n",
       " 64,\n",
       " 15,\n",
       " 70,\n",
       " 17,\n",
       " 34,\n",
       " 34,\n",
       " 51,\n",
       " 10,\n",
       " 22,\n",
       " 63,\n",
       " 73,\n",
       " 55,\n",
       " 60,\n",
       " 66,\n",
       " 32,\n",
       " 24,\n",
       " 96,\n",
       " 10,\n",
       " 24,\n",
       " 83,\n",
       " 71,\n",
       " 31,\n",
       " 60,\n",
       " 12,\n",
       " 24,\n",
       " 37,\n",
       " 57,\n",
       " 77,\n",
       " 94,\n",
       " 89,\n",
       " 13,\n",
       " 70,\n",
       " 82,\n",
       " 54,\n",
       " 35,\n",
       " 54,\n",
       " 29,\n",
       " 86,\n",
       " 42,\n",
       " 15,\n",
       " 23,\n",
       " 75,\n",
       " 23,\n",
       " 19,\n",
       " 40,\n",
       " 79,\n",
       " 11,\n",
       " 43,\n",
       " 41,\n",
       " 45,\n",
       " 25,\n",
       " 61,\n",
       " 79,\n",
       " 26,\n",
       " 24,\n",
       " 29,\n",
       " 83,\n",
       " 61,\n",
       " 29,\n",
       " 11,\n",
       " 58,\n",
       " 60,\n",
       " 61,\n",
       " 43,\n",
       " 65,\n",
       " 30,\n",
       " 44,\n",
       " 54,\n",
       " 89,\n",
       " 61,\n",
       " 72,\n",
       " 98,\n",
       " 70,\n",
       " 71,\n",
       " 39,\n",
       " 36,\n",
       " 53,\n",
       " 78,\n",
       " 12,\n",
       " 86,\n",
       " 18,\n",
       " 66,\n",
       " 26,\n",
       " 97,\n",
       " 70,\n",
       " 42,\n",
       " 26,\n",
       " 96,\n",
       " 92,\n",
       " 32,\n",
       " 92,\n",
       " 56,\n",
       " 79,\n",
       " 70,\n",
       " 53,\n",
       " 20,\n",
       " 78,\n",
       " 45,\n",
       " 81,\n",
       " 34,\n",
       " 89,\n",
       " 94,\n",
       " 15,\n",
       " 63,\n",
       " 87,\n",
       " 57,\n",
       " 15,\n",
       " 76,\n",
       " 58,\n",
       " 28,\n",
       " 23,\n",
       " 53,\n",
       " 63,\n",
       " 50,\n",
       " 33,\n",
       " 77,\n",
       " 96,\n",
       " 11,\n",
       " 16,\n",
       " 67,\n",
       " 48,\n",
       " 91,\n",
       " 92,\n",
       " 56,\n",
       " 81,\n",
       " 61,\n",
       " 29,\n",
       " 90,\n",
       " 48,\n",
       " 65,\n",
       " 28,\n",
       " 79,\n",
       " 99,\n",
       " 51,\n",
       " 38,\n",
       " 72,\n",
       " 93,\n",
       " 38,\n",
       " 16,\n",
       " 52,\n",
       " 99,\n",
       " 86,\n",
       " 20,\n",
       " 34,\n",
       " 62,\n",
       " 27,\n",
       " 51,\n",
       " 80,\n",
       " 43,\n",
       " 93,\n",
       " 78,\n",
       " 41,\n",
       " 49,\n",
       " 51,\n",
       " 14,\n",
       " 40,\n",
       " 30,\n",
       " 19,\n",
       " 21,\n",
       " 44,\n",
       " 79,\n",
       " 21,\n",
       " 50,\n",
       " 13,\n",
       " 42,\n",
       " 21,\n",
       " 69,\n",
       " 36,\n",
       " 87,\n",
       " 89,\n",
       " 97,\n",
       " 71,\n",
       " 36,\n",
       " 67,\n",
       " 32,\n",
       " 14,\n",
       " 87,\n",
       " 38,\n",
       " 20,\n",
       " 26,\n",
       " 61,\n",
       " 34,\n",
       " 44,\n",
       " 16,\n",
       " 45,\n",
       " 83,\n",
       " 91,\n",
       " 38,\n",
       " 67,\n",
       " 11,\n",
       " 57,\n",
       " 17,\n",
       " 66,\n",
       " 55,\n",
       " 55,\n",
       " 83,\n",
       " 72,\n",
       " 96,\n",
       " 32,\n",
       " 82,\n",
       " 90,\n",
       " 60,\n",
       " 57,\n",
       " 89,\n",
       " 65,\n",
       " 80,\n",
       " 37,\n",
       " 74,\n",
       " 39,\n",
       " 36,\n",
       " 85,\n",
       " 39,\n",
       " 38,\n",
       " 81,\n",
       " 70,\n",
       " 76,\n",
       " 71,\n",
       " 31,\n",
       " 25,\n",
       " 17,\n",
       " 80,\n",
       " 71,\n",
       " 64,\n",
       " 66,\n",
       " 80,\n",
       " 28,\n",
       " 57,\n",
       " 91,\n",
       " 14,\n",
       " 85,\n",
       " 21,\n",
       " 91,\n",
       " 42,\n",
       " 67,\n",
       " 45,\n",
       " 91,\n",
       " 27,\n",
       " 82,\n",
       " 31,\n",
       " 59,\n",
       " 87,\n",
       " 16,\n",
       " 73,\n",
       " 82,\n",
       " 85,\n",
       " 66,\n",
       " 48,\n",
       " 56,\n",
       " 57,\n",
       " 69,\n",
       " 34,\n",
       " 65,\n",
       " 54,\n",
       " 26,\n",
       " 95,\n",
       " 14,\n",
       " 21,\n",
       " 96,\n",
       " 27,\n",
       " 15,\n",
       " 64,\n",
       " 76,\n",
       " 27,\n",
       " 37,\n",
       " 74,\n",
       " 39,\n",
       " 97,\n",
       " 36,\n",
       " 54,\n",
       " 78,\n",
       " 65,\n",
       " 89,\n",
       " 95,\n",
       " 91,\n",
       " 69,\n",
       " 67,\n",
       " 70,\n",
       " 45,\n",
       " 84,\n",
       " 50,\n",
       " 44,\n",
       " 90,\n",
       " 61,\n",
       " 41,\n",
       " 56,\n",
       " 15,\n",
       " 25,\n",
       " 69,\n",
       " 95,\n",
       " 45,\n",
       " 43,\n",
       " 60,\n",
       " 48,\n",
       " 80,\n",
       " 57,\n",
       " 27,\n",
       " 16,\n",
       " 22,\n",
       " 35,\n",
       " 34,\n",
       " 62,\n",
       " 72,\n",
       " 59,\n",
       " 30,\n",
       " 99,\n",
       " 78,\n",
       " 32,\n",
       " 48,\n",
       " 42,\n",
       " 61,\n",
       " 50,\n",
       " 45,\n",
       " 58,\n",
       " 44,\n",
       " 92,\n",
       " 57,\n",
       " 85,\n",
       " 12,\n",
       " 85,\n",
       " 66,\n",
       " 67,\n",
       " 89,\n",
       " 89,\n",
       " 94,\n",
       " 98,\n",
       " 50,\n",
       " 20,\n",
       " 24,\n",
       " 99,\n",
       " 36,\n",
       " 10,\n",
       " 76,\n",
       " 81,\n",
       " 35,\n",
       " 68,\n",
       " 57,\n",
       " 25,\n",
       " 38,\n",
       " 77,\n",
       " 61,\n",
       " 46,\n",
       " 62,\n",
       " 27,\n",
       " 18,\n",
       " 11,\n",
       " 29,\n",
       " 21,\n",
       " 57,\n",
       " 81,\n",
       " 18,\n",
       " 73,\n",
       " 55,\n",
       " 50,\n",
       " 67,\n",
       " 13,\n",
       " 73,\n",
       " 46,\n",
       " 74,\n",
       " 95,\n",
       " 31,\n",
       " 27,\n",
       " 88,\n",
       " 73,\n",
       " 96,\n",
       " 89,\n",
       " 78,\n",
       " 62,\n",
       " 44,\n",
       " 52,\n",
       " 23,\n",
       " 76,\n",
       " 91,\n",
       " 50,\n",
       " 17,\n",
       " 14,\n",
       " 46,\n",
       " 64,\n",
       " 29,\n",
       " 70,\n",
       " 41,\n",
       " 46,\n",
       " 23,\n",
       " 82,\n",
       " 58,\n",
       " 94,\n",
       " 25,\n",
       " 80,\n",
       " 14,\n",
       " 73,\n",
       " 51,\n",
       " 49,\n",
       " 14,\n",
       " 44,\n",
       " 23,\n",
       " 78,\n",
       " 41,\n",
       " 48,\n",
       " 97,\n",
       " 17,\n",
       " 63,\n",
       " 89,\n",
       " 17,\n",
       " 96,\n",
       " 97,\n",
       " 42,\n",
       " 90,\n",
       " 10,\n",
       " 71,\n",
       " 63,\n",
       " 67,\n",
       " 91,\n",
       " 54,\n",
       " 46,\n",
       " 34,\n",
       " 70,\n",
       " 41,\n",
       " 93,\n",
       " 76,\n",
       " 49,\n",
       " 20,\n",
       " 47,\n",
       " 94,\n",
       " 43,\n",
       " 42,\n",
       " 37,\n",
       " 38,\n",
       " 83,\n",
       " 85,\n",
       " 63,\n",
       " 13,\n",
       " 37,\n",
       " 10,\n",
       " 11,\n",
       " 16,\n",
       " 14,\n",
       " 40,\n",
       " 59,\n",
       " 69,\n",
       " 72,\n",
       " 10,\n",
       " 82,\n",
       " 94,\n",
       " 18,\n",
       " 33,\n",
       " 57,\n",
       " 51,\n",
       " 71,\n",
       " 25,\n",
       " 56,\n",
       " 89,\n",
       " 44,\n",
       " 76,\n",
       " 90,\n",
       " 90,\n",
       " 77,\n",
       " 34,\n",
       " 49,\n",
       " 28,\n",
       " 13,\n",
       " 92,\n",
       " 36,\n",
       " 80,\n",
       " 34,\n",
       " 36,\n",
       " 59,\n",
       " 12,\n",
       " 41,\n",
       " 84,\n",
       " 85,\n",
       " 20,\n",
       " 23,\n",
       " 82,\n",
       " 26,\n",
       " 20,\n",
       " 18,\n",
       " 68,\n",
       " 57,\n",
       " 34,\n",
       " 93,\n",
       " 59,\n",
       " 98,\n",
       " 11,\n",
       " 10,\n",
       " 63,\n",
       " 15,\n",
       " 19,\n",
       " 73,\n",
       " 83,\n",
       " 91,\n",
       " 23,\n",
       " 42,\n",
       " 23,\n",
       " 39,\n",
       " 10,\n",
       " 97,\n",
       " 39,\n",
       " 77,\n",
       " 62,\n",
       " 96,\n",
       " 85,\n",
       " 92,\n",
       " 59,\n",
       " 71,\n",
       " 56,\n",
       " 18,\n",
       " 97,\n",
       " 88,\n",
       " 47,\n",
       " 56,\n",
       " 30,\n",
       " 15,\n",
       " 10,\n",
       " 42,\n",
       " 17,\n",
       " 38,\n",
       " 79,\n",
       " 58,\n",
       " 53,\n",
       " 69,\n",
       " 98,\n",
       " 82,\n",
       " 20,\n",
       " 74,\n",
       " 89,\n",
       " 25,\n",
       " 58,\n",
       " 46,\n",
       " 83,\n",
       " 75,\n",
       " 17,\n",
       " 21,\n",
       " 21,\n",
       " 19,\n",
       " 17,\n",
       " 45,\n",
       " 22,\n",
       " 79,\n",
       " 73,\n",
       " 15,\n",
       " 85,\n",
       " 15,\n",
       " 24,\n",
       " 35,\n",
       " 66,\n",
       " 85,\n",
       " 89,\n",
       " 96,\n",
       " 28,\n",
       " 16,\n",
       " 61,\n",
       " 82,\n",
       " 12,\n",
       " 74,\n",
       " 46,\n",
       " 47,\n",
       " 89,\n",
       " 50,\n",
       " 14,\n",
       " 77,\n",
       " 96,\n",
       " 47,\n",
       " 18,\n",
       " 56,\n",
       " 51,\n",
       " 46,\n",
       " 77,\n",
       " 67,\n",
       " 42,\n",
       " 27,\n",
       " 63,\n",
       " 72,\n",
       " 44,\n",
       " 23,\n",
       " 12,\n",
       " 51,\n",
       " 59,\n",
       " 25,\n",
       " 89,\n",
       " 84,\n",
       " 43,\n",
       " 33,\n",
       " 31,\n",
       " 53,\n",
       " 41,\n",
       " 28,\n",
       " 24,\n",
       " 27,\n",
       " 57,\n",
       " 82,\n",
       " 71,\n",
       " 82,\n",
       " 46,\n",
       " 67,\n",
       " 11,\n",
       " 45,\n",
       " 63,\n",
       " 55,\n",
       " 77,\n",
       " 85,\n",
       " 32,\n",
       " 45,\n",
       " 33,\n",
       " 56,\n",
       " 25,\n",
       " 16,\n",
       " 80,\n",
       " 84,\n",
       " 77,\n",
       " 58,\n",
       " 85,\n",
       " 32,\n",
       " 11,\n",
       " 79,\n",
       " 51,\n",
       " 54,\n",
       " 14,\n",
       " 70,\n",
       " 19,\n",
       " 38,\n",
       " 43,\n",
       " 49,\n",
       " 93,\n",
       " 40,\n",
       " 76,\n",
       " 74,\n",
       " 57,\n",
       " 80,\n",
       " 42,\n",
       " 17,\n",
       " 11,\n",
       " 94,\n",
       " 82,\n",
       " 52,\n",
       " 70,\n",
       " 14,\n",
       " 44,\n",
       " 23,\n",
       " 70,\n",
       " 26,\n",
       " 33,\n",
       " 94,\n",
       " 95,\n",
       " 73,\n",
       " 70,\n",
       " 52,\n",
       " ...]"
      ]
     },
     "execution_count": 330,
     "metadata": {},
     "output_type": "execute_result"
    }
   ],
   "execution_count": 330
  },
  {
   "metadata": {
    "ExecuteTime": {
     "end_time": "2025-06-20T03:16:43.173922Z",
     "start_time": "2025-06-20T03:16:43.159021Z"
    }
   },
   "cell_type": "code",
   "source": "df=pd.DataFrame({\"pop_dat\":pop_data})",
   "id": "2ec3213fe2d7da3c",
   "outputs": [],
   "execution_count": 331
  },
  {
   "metadata": {
    "ExecuteTime": {
     "end_time": "2025-06-20T03:16:43.850050Z",
     "start_time": "2025-06-20T03:16:43.838863Z"
    }
   },
   "cell_type": "code",
   "source": "df",
   "id": "4fd10c5eedac8aa",
   "outputs": [
    {
     "data": {
      "text/plain": [
       "      pop_dat\n",
       "0          23\n",
       "1          54\n",
       "2          19\n",
       "3          59\n",
       "4          49\n",
       "...       ...\n",
       "9995       68\n",
       "9996       27\n",
       "9997       36\n",
       "9998       14\n",
       "9999       36\n",
       "\n",
       "[10000 rows x 1 columns]"
      ],
      "text/html": [
       "<div>\n",
       "<style scoped>\n",
       "    .dataframe tbody tr th:only-of-type {\n",
       "        vertical-align: middle;\n",
       "    }\n",
       "\n",
       "    .dataframe tbody tr th {\n",
       "        vertical-align: top;\n",
       "    }\n",
       "\n",
       "    .dataframe thead th {\n",
       "        text-align: right;\n",
       "    }\n",
       "</style>\n",
       "<table border=\"1\" class=\"dataframe\">\n",
       "  <thead>\n",
       "    <tr style=\"text-align: right;\">\n",
       "      <th></th>\n",
       "      <th>pop_dat</th>\n",
       "    </tr>\n",
       "  </thead>\n",
       "  <tbody>\n",
       "    <tr>\n",
       "      <th>0</th>\n",
       "      <td>23</td>\n",
       "    </tr>\n",
       "    <tr>\n",
       "      <th>1</th>\n",
       "      <td>54</td>\n",
       "    </tr>\n",
       "    <tr>\n",
       "      <th>2</th>\n",
       "      <td>19</td>\n",
       "    </tr>\n",
       "    <tr>\n",
       "      <th>3</th>\n",
       "      <td>59</td>\n",
       "    </tr>\n",
       "    <tr>\n",
       "      <th>4</th>\n",
       "      <td>49</td>\n",
       "    </tr>\n",
       "    <tr>\n",
       "      <th>...</th>\n",
       "      <td>...</td>\n",
       "    </tr>\n",
       "    <tr>\n",
       "      <th>9995</th>\n",
       "      <td>68</td>\n",
       "    </tr>\n",
       "    <tr>\n",
       "      <th>9996</th>\n",
       "      <td>27</td>\n",
       "    </tr>\n",
       "    <tr>\n",
       "      <th>9997</th>\n",
       "      <td>36</td>\n",
       "    </tr>\n",
       "    <tr>\n",
       "      <th>9998</th>\n",
       "      <td>14</td>\n",
       "    </tr>\n",
       "    <tr>\n",
       "      <th>9999</th>\n",
       "      <td>36</td>\n",
       "    </tr>\n",
       "  </tbody>\n",
       "</table>\n",
       "<p>10000 rows × 1 columns</p>\n",
       "</div>"
      ]
     },
     "execution_count": 332,
     "metadata": {},
     "output_type": "execute_result"
    }
   ],
   "execution_count": 332
  },
  {
   "metadata": {
    "ExecuteTime": {
     "end_time": "2025-06-20T03:16:44.597181Z",
     "start_time": "2025-06-20T03:16:44.590537Z"
    }
   },
   "cell_type": "code",
   "source": "np.mean(df.pop_dat)",
   "id": "e9975379f28a380f",
   "outputs": [
    {
     "data": {
      "text/plain": [
       "np.float64(54.8029)"
      ]
     },
     "execution_count": 333,
     "metadata": {},
     "output_type": "execute_result"
    }
   ],
   "execution_count": 333
  },
  {
   "metadata": {
    "ExecuteTime": {
     "end_time": "2025-06-20T03:16:45.218076Z",
     "start_time": "2025-06-20T03:16:45.211649Z"
    }
   },
   "cell_type": "code",
   "source": "np.mean(pop_data)",
   "id": "9fc1e988eb29536f",
   "outputs": [
    {
     "data": {
      "text/plain": [
       "np.float64(54.8029)"
      ]
     },
     "execution_count": 334,
     "metadata": {},
     "output_type": "execute_result"
    }
   ],
   "execution_count": 334
  },
  {
   "metadata": {
    "ExecuteTime": {
     "end_time": "2025-06-20T03:16:45.886889Z",
     "start_time": "2025-06-20T03:16:45.632082Z"
    }
   },
   "cell_type": "code",
   "source": [
    "plt.figure(figsize=(4,3))\n",
    "sns.kdeplot(df.pop_dat)\n",
    "plt.show()"
   ],
   "id": "19ea2b8e6888f22d",
   "outputs": [
    {
     "data": {
      "text/plain": [
       "<Figure size 400x300 with 1 Axes>"
      ],
      "image/png": "[encoded data removed]"
     },
     "metadata": {},
     "output_type": "display_data"
    }
   ],
   "execution_count": 335
  },
  {
   "metadata": {
    "ExecuteTime": {
     "end_time": "2025-06-20T03:17:00.045592Z",
     "start_time": "2025-06-20T03:16:45.968593Z"
    }
   },
   "cell_type": "code",
   "source": [
    "sample_mean=[]\n",
    "for no_sample in range(70):        #The Higher the range, The better the result\n",
    "    sample_data=[]\n",
    "    for data in range(500):        #The number of range should be less than 10% of DATA\n",
    "        sample_data.append(np.random.choice(pop_data))\n",
    "    sample_mean.append(np.mean(sample_data))"
   ],
   "id": "6e5ce69c569f3fb2",
   "outputs": [],
   "execution_count": 336
  },
  {
   "metadata": {
    "ExecuteTime": {
     "end_time": "2025-06-20T03:17:00.060504Z",
     "start_time": "2025-06-20T03:17:00.050883Z"
    }
   },
   "cell_type": "code",
   "source": "sample_M=pd.DataFrame({\"sample\":sample_mean})\n",
   "id": "578017fcd596747e",
   "outputs": [],
   "execution_count": 337
  },
  {
   "metadata": {
    "ExecuteTime": {
     "end_time": "2025-06-20T03:17:00.237248Z",
     "start_time": "2025-06-20T03:17:00.097754Z"
    }
   },
   "cell_type": "code",
   "source": [
    "plt.figure(figsize=(4,3))\n",
    "sns.kdeplot(x=\"sample\",data=sample_M)\n",
    "plt.show()"
   ],
   "id": "e3071c7ea13bd0a2",
   "outputs": [
    {
     "data": {
      "text/plain": [
       "<Figure size 400x300 with 1 Axes>"
      ],
      "image/png": "[encoded data removed]"
     },
     "metadata": {},
     "output_type": "display_data"
    }
   ],
   "execution_count": 338
  },
  {
   "metadata": {
    "ExecuteTime": {
     "end_time": "2025-06-20T03:17:00.258899Z",
     "start_time": "2025-06-20T03:17:00.254856Z"
    }
   },
   "cell_type": "code",
   "source": [
    "                        #the mean would be same for whole data and sample mean data\n",
    "np.mean(pop_data)"
   ],
   "id": "4836137e3eface24",
   "outputs": [
    {
     "data": {
      "text/plain": [
       "np.float64(54.8029)"
      ]
     },
     "execution_count": 339,
     "metadata": {},
     "output_type": "execute_result"
    }
   ],
   "execution_count": 339
  },
  {
   "metadata": {
    "ExecuteTime": {
     "end_time": "2025-06-20T03:17:00.307196Z",
     "start_time": "2025-06-20T03:17:00.302180Z"
    }
   },
   "cell_type": "code",
   "source": "np.mean(sample_mean)",
   "id": "10bb271346cfbfd0",
   "outputs": [
    {
     "data": {
      "text/plain": [
       "np.float64(54.85037142857142)"
      ]
     },
     "execution_count": 340,
     "metadata": {},
     "output_type": "execute_result"
    }
   ],
   "execution_count": 340
  },
  {
   "metadata": {
    "tags": [
     "CLT "
    ],
    "ExecuteTime": {
     "end_time": "2025-06-20T03:17:00.990995Z",
     "start_time": "2025-06-20T03:17:00.353409Z"
    }
   },
   "cell_type": "code",
   "source": [
    "                                            #Trying it on Movies DATA\n",
    "sns.kdeplot(x=\"userId_x\",data=Data)\n",
    "plt.show()"
   ],
   "id": "6a7636d9a5b7a86",
   "outputs": [
    {
     "data": {
      "text/plain": [
       "<Figure size 640x480 with 1 Axes>"
      ],
      "image/png": "[encoded data removed]"
     },
     "metadata": {},
     "output_type": "display_data"
    }
   ],
   "execution_count": 341
  },
  {
   "metadata": {
    "ExecuteTime": {
     "end_time": "2025-06-20T03:17:20.684381Z",
     "start_time": "2025-06-20T03:17:01.008323Z"
    }
   },
   "cell_type": "code",
   "source": [
    "sam_mean=[]\n",
    "for no_sam in range(100):\n",
    "    sam_data=[]\n",
    "    for dat in range(500):\n",
    "        sam_data.append(np.random.choice(pop_data))\n",
    "    sam_mean.append(np.mean(sam_data))"
   ],
   "id": "b2a79fc1738a0db8",
   "outputs": [],
   "execution_count": 342
  },
  {
   "metadata": {
    "ExecuteTime": {
     "end_time": "2025-06-20T03:17:20.704766Z",
     "start_time": "2025-06-20T03:17:20.702330Z"
    }
   },
   "cell_type": "code",
   "source": "samp_m=pd.DataFrame({\"sam\":sam_mean})",
   "id": "a67765e031e997a",
   "outputs": [],
   "execution_count": 343
  },
  {
   "metadata": {
    "ExecuteTime": {
     "end_time": "2025-06-20T03:17:20.863300Z",
     "start_time": "2025-06-20T03:17:20.747477Z"
    }
   },
   "cell_type": "code",
   "source": [
    "plt.figure(figsize=(4,3))\n",
    "sns.kdeplot(samp_m[\"sam\"])\n",
    "plt.show()"
   ],
   "id": "1a8ebea26b1baf62",
   "outputs": [
    {
     "data": {
      "text/plain": [
       "<Figure size 400x300 with 1 Axes>"
      ],
      "image/png": "[encoded data removed]"
     },
     "metadata": {},
     "output_type": "display_data"
    }
   ],
   "execution_count": 344
  },
  {
   "metadata": {
    "ExecuteTime": {
     "end_time": "2025-06-20T03:17:21.028873Z",
     "start_time": "2025-06-20T03:17:20.897838Z"
    }
   },
   "cell_type": "code",
   "source": [
    "                                                # With bother manners\n",
    "plt.figure(figsize=(4,3))\n",
    "sns.kdeplot(sam_mean)\n",
    "plt.show()"
   ],
   "id": "39e4658a6026dff7",
   "outputs": [
    {
     "data": {
      "text/plain": [
       "<Figure size 400x300 with 1 Axes>"
      ],
      "image/png": "[encoded data removed]"
     },
     "metadata": {},
     "output_type": "display_data"
    }
   ],
   "execution_count": 345
  },
  {
   "metadata": {},
   "cell_type": "markdown",
   "source": "                                                     # Hypothesis Z test",
   "id": "d4601fc44472183f"
  },
  {
   "metadata": {
    "ExecuteTime": {
     "end_time": "2025-06-20T03:17:21.065141Z",
     "start_time": "2025-06-20T03:17:21.061939Z"
    }
   },
   "cell_type": "code",
   "source": [
    "###   A teacher claims that the mean score of students in his class is greater than 82 with a standard deviation of 20. If a sample of 81 students was selected with a mean score of 90.\n",
    "pop_m=82\n",
    "sample_u=90\n",
    "std=20\n",
    "n=81\n",
    "ap=0.05"
   ],
   "id": "63a941500c43a51e",
   "outputs": [],
   "execution_count": 346
  },
  {
   "metadata": {
    "ExecuteTime": {
     "end_time": "2025-06-20T03:17:21.093940Z",
     "start_time": "2025-06-20T03:17:21.091530Z"
    }
   },
   "cell_type": "code",
   "source": "z_test=(sample_u-pop_m)/(std/np.sqrt(n))",
   "id": "2b7426c4c3a4f205",
   "outputs": [],
   "execution_count": 347
  },
  {
   "metadata": {
    "ExecuteTime": {
     "end_time": "2025-06-20T03:17:21.161747Z",
     "start_time": "2025-06-20T03:17:21.157920Z"
    }
   },
   "cell_type": "code",
   "source": "z_test\n",
   "id": "d56b1532e68d4e1f",
   "outputs": [
    {
     "data": {
      "text/plain": [
       "np.float64(3.5999999999999996)"
      ]
     },
     "execution_count": 348,
     "metadata": {},
     "output_type": "execute_result"
    }
   ],
   "execution_count": 348
  },
  {
   "metadata": {
    "ExecuteTime": {
     "end_time": "2025-06-20T03:17:21.220112Z",
     "start_time": "2025-06-20T03:17:21.204054Z"
    }
   },
   "cell_type": "code",
   "source": [
    "z_table=st.norm.ppf(1-ap)\n",
    "z_table"
   ],
   "id": "42378304c4a9f3d5",
   "outputs": [
    {
     "data": {
      "text/plain": [
       "np.float64(1.6448536269514722)"
      ]
     },
     "execution_count": 349,
     "metadata": {},
     "output_type": "execute_result"
    }
   ],
   "execution_count": 349
  },
  {
   "metadata": {
    "ExecuteTime": {
     "end_time": "2025-06-20T03:17:21.277406Z",
     "start_time": "2025-06-20T03:17:21.272112Z"
    }
   },
   "cell_type": "code",
   "source": [
    "if z_table<z_test:\n",
    "    print(\"Ha is Right\")\n",
    "else:\n",
    "    print(\"Ho is right\")"
   ],
   "id": "897cdb115d0192c1",
   "outputs": [
    {
     "name": "stdout",
     "output_type": "stream",
     "text": [
      "Ha is Right\n"
     ]
    }
   ],
   "execution_count": 350
  },
  {
   "metadata": {},
   "cell_type": "markdown",
   "source": "                                             # Trying this on Movies Data",
   "id": "a9a61227aa8d91a3"
  },
  {
   "metadata": {
    "ExecuteTime": {
     "end_time": "2025-06-20T03:17:21.327470Z",
     "start_time": "2025-06-20T03:17:21.322322Z"
    }
   },
   "cell_type": "code",
   "source": [
    "population_mean=np.mean(Data.userId_y)\n",
    "population_std=np.std(Data.userId_y)\n",
    "apa=0.05"
   ],
   "id": "f62e5b4062e2d180",
   "outputs": [],
   "execution_count": 351
  },
  {
   "metadata": {
    "ExecuteTime": {
     "end_time": "2025-06-20T03:17:21.378001Z",
     "start_time": "2025-06-20T03:17:21.371105Z"
    }
   },
   "cell_type": "code",
   "source": [
    "sampl_data=[]\n",
    "for dat in range(80):\n",
    "    sampl_data.append(np.random.choice(Data.userId_y))\n",
    "\n",
    "sample_mean=np.mean(sampl_data)"
   ],
   "id": "274ade5bb15675e1",
   "outputs": [],
   "execution_count": 352
  },
  {
   "metadata": {
    "ExecuteTime": {
     "end_time": "2025-06-20T03:17:21.429258Z",
     "start_time": "2025-06-20T03:17:21.423901Z"
    }
   },
   "cell_type": "code",
   "source": [
    "Z_test=(sample_mean-population_mean)/(population_std/(np.sqrt(80)))\n",
    "Z_test"
   ],
   "id": "4535bf5d89001f5b",
   "outputs": [
    {
     "data": {
      "text/plain": [
       "np.float64(-0.31589136069824764)"
      ]
     },
     "execution_count": 353,
     "metadata": {},
     "output_type": "execute_result"
    }
   ],
   "execution_count": 353
  },
  {
   "metadata": {
    "ExecuteTime": {
     "end_time": "2025-06-20T03:17:21.481442Z",
     "start_time": "2025-06-20T03:17:21.477417Z"
    }
   },
   "cell_type": "code",
   "source": [
    "Z_table1=st.norm.ppf(1-apa)\n",
    "Z_table1"
   ],
   "id": "74d572fa39d12a10",
   "outputs": [
    {
     "data": {
      "text/plain": [
       "np.float64(1.6448536269514722)"
      ]
     },
     "execution_count": 354,
     "metadata": {},
     "output_type": "execute_result"
    }
   ],
   "execution_count": 354
  },
  {
   "metadata": {
    "ExecuteTime": {
     "end_time": "2025-06-20T03:17:21.591914Z",
     "start_time": "2025-06-20T03:17:21.587569Z"
    }
   },
   "cell_type": "code",
   "source": [
    "if Z_table1<Z_test:\n",
    "    print(\"Ha is Right\")\n",
    "else:\n",
    "    print(\"Ho is right\")"
   ],
   "id": "72b96d1424b81838",
   "outputs": [
    {
     "name": "stdout",
     "output_type": "stream",
     "text": [
      "Ho is right\n"
     ]
    }
   ],
   "execution_count": 355
  },
  {
   "metadata": {},
   "cell_type": "markdown",
   "source": "                                                                        Another example of Z Test",
   "id": "478676b9e977f54b"
  },
  {
   "metadata": {
    "ExecuteTime": {
     "end_time": "2025-06-20T06:46:59.144287Z",
     "start_time": "2025-06-20T06:46:59.135493Z"
    }
   },
   "cell_type": "code",
   "source": [
    "data1 = np.array([52.48, 49.31, 53.24, 57.62, 48.83, 48.83, 57.90, 53.84, 47.65, 52.71,\n",
    "         47.66, 47.66, 58.52, 53.00, 40.28, 54.58, 50.44, 41.45, 51.46, 45.69,\n",
    "         45.88, 54.17, 49.96, 49.53, 55.66, 44.95, 50.46, 53.92, 49.29, 53.28,\n",
    "         52.92, 48.31, 45.84, 45.21, 49.96])\n",
    "\n",
    "data2 = np.array([45.90, 53.04, 42.20, 45.36, 52.98, 55.69, 52.86, 51.42, 50.49, 44.61,\n",
    "         55.60, 47.78, 54.98, 50.39, 56.60, 54.96, 51.43, 51.81, 50.93, 59.43,\n",
    "         55.73, 50.66, 52.80, 56.43, 57.30, 48.94, 51.25, 48.34, 47.45, 54.74,\n",
    "         48.56, 52.38, 53.72, 50.55, 53.86])"
   ],
   "id": "e04837361fdfcf0f",
   "outputs": [],
   "execution_count": 357
  },
  {
   "metadata": {
    "ExecuteTime": {
     "end_time": "2025-06-20T06:48:41.712939Z",
     "start_time": "2025-06-20T06:48:41.706097Z"
    }
   },
   "cell_type": "code",
   "source": [
    "mean1 = np.mean(data1)\n",
    "mean2 = np.mean(data2)\n",
    "pop_std=np.std(data1)\n",
    "n=len(data2)"
   ],
   "id": "6702da07d16153e1",
   "outputs": [],
   "execution_count": 358
  },
  {
   "metadata": {
    "ExecuteTime": {
     "end_time": "2025-06-20T06:49:15.915580Z",
     "start_time": "2025-06-20T06:49:15.908485Z"
    }
   },
   "cell_type": "code",
   "source": "Ztest=(mean2-mean1)/(pop_std/np.sqrt(n))",
   "id": "14fb200f92f305ff",
   "outputs": [],
   "execution_count": 359
  },
  {
   "metadata": {
    "ExecuteTime": {
     "end_time": "2025-06-20T06:49:30.820971Z",
     "start_time": "2025-06-20T06:49:30.808576Z"
    }
   },
   "cell_type": "code",
   "source": "Z_table1",
   "id": "4221de5ff1fa2f72",
   "outputs": [
    {
     "data": {
      "text/plain": [
       "np.float64(1.6448536269514722)"
      ]
     },
     "execution_count": 360,
     "metadata": {},
     "output_type": "execute_result"
    }
   ],
   "execution_count": 360
  },
  {
   "metadata": {
    "ExecuteTime": {
     "end_time": "2025-06-20T06:50:08.311492Z",
     "start_time": "2025-06-20T06:50:08.299841Z"
    }
   },
   "cell_type": "code",
   "source": [
    "if Z_table1<Z_test:\n",
    "    print(\"Ha is Right\")\n",
    "else:\n",
    "    print(\"Ho is right\")"
   ],
   "id": "650440279f0a2660",
   "outputs": [
    {
     "name": "stdout",
     "output_type": "stream",
     "text": [
      "Ho is right\n"
     ]
    }
   ],
   "execution_count": 361
  },
  {
   "metadata": {},
   "cell_type": "markdown",
   "source": "So The both datas were almost Equal and Data 2 is not better that data 1",
   "id": "7959671d1daf276a"
  }
 ],
 "metadata": {
  "kernelspec": {
   "display_name": "Python 3",
   "language": "python",
   "name": "python3"
  },
  "language_info": {
   "codemirror_mode": {
    "name": "ipython",
    "version": 2
   },
   "file_extension": ".py",
   "mimetype": "text/x-python",
   "name": "python",
   "nbconvert_exporter": "python",
   "pygments_lexer": "ipython2",
   "version": "2.7.6"
  }
 },
 "nbformat": 4,
 "nbformat_minor": 5
}
